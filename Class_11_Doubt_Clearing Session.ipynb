{
 "cells": [
  {
   "cell_type": "code",
   "execution_count": null,
   "metadata": {},
   "outputs": [],
   "source": [
    "# isprintable , isascii, isspace"
   ]
  },
  {
   "cell_type": "code",
   "execution_count": 8,
   "metadata": {
    "ExecuteTime": {
     "end_time": "2021-03-17T02:39:15.047690Z",
     "start_time": "2021-03-17T02:39:15.038671Z"
    }
   },
   "outputs": [
    {
     "name": "stdout",
     "output_type": "stream",
     "text": [
      "Python\\nclass True\n"
     ]
    }
   ],
   "source": [
    "# my_str = 'Python'\n",
    "# print(my_str,my_str.isprintable())\n",
    "# my_str = 'Python\\nclass'\n",
    "# print(my_str,my_str.isprintable())\n",
    "\n"
   ]
  },
  {
   "cell_type": "code",
   "execution_count": null,
   "metadata": {},
   "outputs": [],
   "source": [
    "my_str = 'Python\\\\nclass'\n",
    "print(my_str,my_str.isprintable())"
   ]
  },
  {
   "cell_type": "code",
   "execution_count": 9,
   "metadata": {
    "ExecuteTime": {
     "end_time": "2021-03-17T02:40:58.310605Z",
     "start_time": "2021-03-17T02:40:58.301197Z"
    }
   },
   "outputs": [
    {
     "name": "stdout",
     "output_type": "stream",
     "text": [
      "Python\n",
      "class False\n"
     ]
    }
   ],
   "source": [
    "my_str = 'Python\\nclass'\n",
    "print(my_str,my_str.isprintable())"
   ]
  },
  {
   "cell_type": "code",
   "execution_count": 12,
   "metadata": {
    "ExecuteTime": {
     "end_time": "2021-03-17T02:43:07.183562Z",
     "start_time": "2021-03-17T02:43:07.170814Z"
    }
   },
   "outputs": [
    {
     "name": "stdout",
     "output_type": "stream",
     "text": [
      "False\n"
     ]
    }
   ],
   "source": [
    "my_str = '\\n\\t\\fasjhdb'\n",
    "print(my_str.isspace())"
   ]
  },
  {
   "cell_type": "code",
   "execution_count": 14,
   "metadata": {
    "ExecuteTime": {
     "end_time": "2021-03-17T02:45:09.191588Z",
     "start_time": "2021-03-17T02:45:09.182581Z"
    }
   },
   "outputs": [
    {
     "name": "stdout",
     "output_type": "stream",
     "text": [
      "True\n",
      "False\n"
     ]
    }
   ],
   "source": [
    "my_str = 'Abc abc=%&?'\n",
    "print(my_str.isascii())\n",
    "\n",
    "my_str = 'fließen'\n",
    "print(my_str.isascii())"
   ]
  },
  {
   "cell_type": "code",
   "execution_count": null,
   "metadata": {},
   "outputs": [],
   "source": [
    "# isidentifier() - exception - keyword"
   ]
  },
  {
   "cell_type": "code",
   "execution_count": 16,
   "metadata": {
    "ExecuteTime": {
     "end_time": "2021-03-17T02:47:24.786089Z",
     "start_time": "2021-03-17T02:47:24.778595Z"
    }
   },
   "outputs": [
    {
     "name": "stdout",
     "output_type": "stream",
     "text": [
      "\n"
     ]
    }
   ],
   "source": [
    "my_str = ''\n",
    "# print(my_str.isprintable())\n",
    "print(my_str)"
   ]
  },
  {
   "cell_type": "code",
   "execution_count": 26,
   "metadata": {
    "ExecuteTime": {
     "end_time": "2021-03-17T02:58:25.425865Z",
     "start_time": "2021-03-17T02:58:25.411914Z"
    }
   },
   "outputs": [
    {
     "name": "stdout",
     "output_type": "stream",
     "text": [
      "6\n",
      "29\n",
      "6\n",
      "29\n",
      "-1\n"
     ]
    }
   ],
   "source": [
    "# casefold, index, rindex\n",
    "\n",
    "# my_str = 'ABCDEF'\n",
    "# # print(my_str.lower())\n",
    "# # print(my_str.casefold())\n",
    "\n",
    "# my_str = 'fließen'\n",
    "# my_str.lower()\n",
    "# my_str.casefold()\n",
    "\n",
    "# my_str = 'überflüssig'\n",
    "# print(my_str.casefold())\n",
    "\n",
    "\n",
    "my_str = 'peter piper picked a peck of pickled peppers'\n",
    "print(my_str.index('pi'))\n",
    "print(my_str.rindex('pi'))\n",
    "# print(my_str.index('zi'))\n",
    "\n",
    "print(my_str.find('pi'))\n",
    "print(my_str.rfind('pi'))\n",
    "print(my_str.find('zi'))\n"
   ]
  },
  {
   "cell_type": "code",
   "execution_count": 28,
   "metadata": {
    "ExecuteTime": {
     "end_time": "2021-03-17T03:01:16.200959Z",
     "start_time": "2021-03-17T03:01:16.192388Z"
    }
   },
   "outputs": [
    {
     "name": "stdout",
     "output_type": "stream",
     "text": [
      "2\n",
      "11\n",
      "14\n",
      "26\n",
      "40\n",
      "46\n",
      "64\n",
      "7\n"
     ]
    }
   ],
   "source": [
    "my_str = \"Although 8 that way may not be obvious at first unless you're Dutch.\"\n",
    "\n",
    "start_index = 0\n",
    "count = 0\n",
    "\n",
    "for i in range (len(my_str)):\n",
    "    try:\n",
    "        k= my_str.index('t',start_index,len(my_str))\n",
    "    except:\n",
    "        break\n",
    "    else:\n",
    "        start_index=k+1\n",
    "        print(k)\n",
    "        count+=1\n",
    "        k=0\n",
    "print(count)"
   ]
  },
  {
   "cell_type": "code",
   "execution_count": null,
   "metadata": {},
   "outputs": [],
   "source": [
    "()\tParentheses\n",
    "**\tExponent\n",
    "+x, -x, ~x\tUnary plus, Unary minus, Bitwise NOT\n",
    "*, /, //, %\tMultiplication, Division, Floor division, Modulus\n",
    "+, -\tAddition, Subtraction\n",
    "<<, >>\tBitwise shift operators\n",
    "&\tBitwise AND\n",
    "^\tBitwise XOR\n",
    "|\tBitwise OR\n",
    "==, !=, >, >=, <, <=, is, is not, in, not in\tComparisons, Identity, Membership operators\n",
    "not\tLogical NOT\n",
    "and\tLogical AND\n",
    "or\tLogical OR"
   ]
  },
  {
   "cell_type": "code",
   "execution_count": 30,
   "metadata": {
    "ExecuteTime": {
     "end_time": "2021-03-17T03:05:32.647207Z",
     "start_time": "2021-03-17T03:05:32.640056Z"
    }
   },
   "outputs": [
    {
     "data": {
      "text/plain": [
       "20"
      ]
     },
     "execution_count": 30,
     "metadata": {},
     "output_type": "execute_result"
    }
   ],
   "source": [
    "# 10+(10*32)//2**5&20+(~(-10))<<2\n",
    "# 10 + 320 // 2 ** 5 & 20 + 9 << 2\n",
    "# 10 + 320 // 32 & 20 + 9 << 2\n",
    "# 10 + 10 & 20 + 9 << 2\n",
    "# 20 & 29 << 2\n",
    "20 & 116"
   ]
  },
  {
   "cell_type": "code",
   "execution_count": 29,
   "metadata": {
    "ExecuteTime": {
     "end_time": "2021-03-17T03:05:24.129598Z",
     "start_time": "2021-03-17T03:05:24.122483Z"
    }
   },
   "outputs": [
    {
     "data": {
      "text/plain": [
       "116"
      ]
     },
     "execution_count": 29,
     "metadata": {},
     "output_type": "execute_result"
    }
   ],
   "source": [
    "# 29 << 2"
   ]
  },
  {
   "cell_type": "code",
   "execution_count": 35,
   "metadata": {
    "ExecuteTime": {
     "end_time": "2021-03-17T03:12:07.205632Z",
     "start_time": "2021-03-17T03:12:07.194822Z"
    }
   },
   "outputs": [
    {
     "data": {
      "text/plain": [
       "['ahoo.com', 'otmail.com', 'ahoo.co.in']"
      ]
     },
     "execution_count": 35,
     "metadata": {},
     "output_type": "execute_result"
    }
   ],
   "source": [
    "email_lst = ['abc@gmail.com', 'abcd@yahoo.com', 'pqrstu@hotmail.com', 'mno@rediffmail.com', 'xyz@gmail.com', 'mnopqrs@yahoo.co.in']\n",
    "\n",
    "# list of all domains where username is greater than 3\n",
    "\n",
    "email_lst_great_3 = filter(lambda email:len(email[:email.index('@')])>3, email_lst)\n",
    "\n",
    "\n",
    "list(map(lambda email:email[email.index('@')+2:], email_lst_great_3))\n",
    "\n",
    "\n",
    "\n"
   ]
  },
  {
   "cell_type": "code",
   "execution_count": 36,
   "metadata": {
    "ExecuteTime": {
     "end_time": "2021-03-17T03:13:33.649485Z",
     "start_time": "2021-03-17T03:13:33.643484Z"
    }
   },
   "outputs": [
    {
     "name": "stdout",
     "output_type": "stream",
     "text": [
      "True\n",
      "False\n"
     ]
    }
   ],
   "source": [
    "my_str_bin = '0b10101'\n",
    "my_str = '10101'\n",
    "print(my_str.isdigit())\n",
    "print(my_str_bin.isdigit())"
   ]
  },
  {
   "cell_type": "code",
   "execution_count": 47,
   "metadata": {
    "ExecuteTime": {
     "end_time": "2021-03-17T03:20:49.145110Z",
     "start_time": "2021-03-17T03:20:49.129332Z"
    }
   },
   "outputs": [
    {
     "name": "stdout",
     "output_type": "stream",
     "text": [
      "0\n",
      "6\n",
      "8\n",
      "12\n",
      "21\n",
      "29\n",
      "37\n",
      "39\n",
      "40\n"
     ]
    }
   ],
   "source": [
    "#Write a Python Program, to print all the indexes of all occurences of letter 'p' appeared in the string:-\n",
    "    \n",
    "#Input:- 'peter piper picked a peck of pickled peppers.'\n",
    "\n",
    "inp_str = 'peter piper picked a peck of pickled peppers.'\n",
    "# ind = -1\n",
    "# while True:\n",
    "#     try:\n",
    "#         ind = inp_str.index('p', ind+1)\n",
    "#     except:\n",
    "#         break\n",
    "#     else:\n",
    "#         print(ind)\n",
    "\n",
    "\n",
    "\n",
    "\n",
    "\n",
    "\n",
    "# ind = inp_str.index('p')\n",
    "# print(ind)\n",
    "\n",
    "# ind = inp_str.index('p', ind+1)\n",
    "# print(ind)\n",
    "\n",
    "# ind = inp_str.index('p', ind+1)\n",
    "# print(ind)\n",
    "\n",
    "# ind = inp_str.index('p', ind+1)\n",
    "# print(ind)\n",
    "\n",
    "\n",
    "for i in range(len(inp_str)):\n",
    "    if inp_str[i] == 'p':\n",
    "        print(i)\n",
    "    \n",
    "\n",
    "\n"
   ]
  },
  {
   "cell_type": "code",
   "execution_count": 50,
   "metadata": {
    "ExecuteTime": {
     "end_time": "2021-03-17T03:22:52.566929Z",
     "start_time": "2021-03-17T03:22:52.540514Z"
    }
   },
   "outputs": [
    {
     "name": "stdout",
     "output_type": "stream",
     "text": [
      "++++Python\n",
      "Python++++\n"
     ]
    }
   ],
   "source": [
    "# rjust, ljust\n",
    "\n",
    "my_str = 'Python'\n",
    "print(my_str.rjust(10, '+'))\n",
    "\n",
    "my_str = 'Python'\n",
    "print(my_str.ljust(10, '+'))\n",
    "\n"
   ]
  },
  {
   "cell_type": "code",
   "execution_count": 52,
   "metadata": {
    "ExecuteTime": {
     "end_time": "2021-03-17T03:26:00.863949Z",
     "start_time": "2021-03-17T03:26:00.853212Z"
    }
   },
   "outputs": [
    {
     "data": {
      "text/plain": [
       "'**Python'"
      ]
     },
     "execution_count": 52,
     "metadata": {},
     "output_type": "execute_result"
    }
   ],
   "source": [
    "#Write the code to get below output\n",
    "#O/P 1:- **python** (using center method)\n",
    "inp_str = 'Python'\n",
    "sub_str = '**'\n",
    "inp_str.rjust(8, '*')\n"
   ]
  },
  {
   "cell_type": "code",
   "execution_count": 63,
   "metadata": {
    "ExecuteTime": {
     "end_time": "2021-03-17T03:34:55.047723Z",
     "start_time": "2021-03-17T03:34:55.036868Z"
    }
   },
   "outputs": [
    {
     "data": {
      "text/plain": [
       "['retep', 'repip', 'dekcip', 'a', 'kcep', 'fo', 'delkcip', '.sreppep']"
      ]
     },
     "execution_count": 63,
     "metadata": {},
     "output_type": "execute_result"
    }
   ],
   "source": [
    "#Write a python program to find below output:-\n",
    "\n",
    "#Input:- 'peter piper picked a peck of pickled peppers.'\n",
    "\n",
    "# my_str = 'peter piper picked a peck of pickled peppers.'\n",
    "# ' '.join([i[::-1] for i in my_str.split()])\n",
    "\n",
    "# [i[::-1] for i in my_str.split()]"
   ]
  },
  {
   "cell_type": "code",
   "execution_count": 66,
   "metadata": {
    "ExecuteTime": {
     "end_time": "2021-03-17T03:36:37.388933Z",
     "start_time": "2021-03-17T03:36:37.379658Z"
    }
   },
   "outputs": [
    {
     "name": "stdout",
     "output_type": "stream",
     "text": [
      "[(9, 1), (2, 3), (5, 4), (5, 5), (7, 6), (5, 9)]\n",
      "[(9, 1), (2, 3), (5, 4), (5, 5), (7, 6), (5, 9)]\n"
     ]
    }
   ],
   "source": [
    "#Write a Python program to get a sorted list in increasing order of last element in each tuple in a given list using loop.\n",
    "#Input:- [(5,4),(9,1),(2,3),(5,9),(7,6),(5,5)]\n",
    "#output:- [(9,1),(2,3),(5,4),(5,5),(7,6),(5,9)]\n",
    "\n",
    "lst4 = [(5,4),(9,1),(2,3),(5,9),(7,6),(5,5)]\n",
    "lst4.sort(key=lambda tpl: tpl[0])\n",
    "print(lst4)\n",
    "\n",
    "for i in range(len(lst4)):\n",
    "    for j in range(len(lst4)-i-1):\n",
    "        if lst4[j][-1] > lst4[j+1][-1]:\n",
    "            lst4[j], lst4[j+1] = lst4[j+1], lst4[j]\n",
    "print(lst4)\n",
    "\n",
    "\n",
    "\n",
    "\n"
   ]
  },
  {
   "cell_type": "code",
   "execution_count": 58,
   "metadata": {
    "ExecuteTime": {
     "end_time": "2021-03-17T03:30:09.055451Z",
     "start_time": "2021-03-17T03:30:09.049659Z"
    }
   },
   "outputs": [
    {
     "name": "stdout",
     "output_type": "stream",
     "text": [
      "[1, 3, 6, 8, 9, 10, 34, 90]\n"
     ]
    }
   ],
   "source": [
    "lst = [10,3,1,9,6,90,8,34]\n",
    "lst.sort()\n",
    "print(lst)"
   ]
  },
  {
   "cell_type": "code",
   "execution_count": null,
   "metadata": {},
   "outputs": [],
   "source": [
    "a = 10\n",
    "b = 20\n",
    "a,b = b,a"
   ]
  },
  {
   "cell_type": "code",
   "execution_count": 69,
   "metadata": {
    "ExecuteTime": {
     "end_time": "2021-03-17T03:42:26.733367Z",
     "start_time": "2021-03-17T03:42:26.719356Z"
    }
   },
   "outputs": [
    {
     "data": {
      "text/plain": [
       "'peppers. pickled of peck a picked piper peter'"
      ]
     },
     "execution_count": 69,
     "metadata": {},
     "output_type": "execute_result"
    }
   ],
   "source": [
    "#Write a python program to find below output:-\n",
    "\n",
    "#Input:- 'peter piper picked a peck of pickled peppers.'\n",
    "#Output:- 'peppers. pickled of peck a picked piper peter'\n",
    "\n",
    "my_str = 'peter piper picked a peck of pickled peppers.'\n",
    "' '.join(my_str.split()[::-1])"
   ]
  },
  {
   "cell_type": "code",
   "execution_count": 71,
   "metadata": {
    "ExecuteTime": {
     "end_time": "2021-03-17T03:43:05.650769Z",
     "start_time": "2021-03-17T03:43:05.642594Z"
    }
   },
   "outputs": [
    {
     "name": "stdout",
     "output_type": "stream",
     "text": [
      "[['peter', 'piper', 'picked', 'a', 'peck', 'of', 'pickled', 'peppers.']]\n"
     ]
    }
   ],
   "source": [
    "#Write a python program to find below output using loop:-\n",
    "\n",
    "#Input:- 'peter piper picked a peck of pickled peppers.'\n",
    "#Output:- ['peter', 'piper', 'picked', 'a', 'peck', 'of', 'pickled', 'peppers']\n",
    "z= []\n",
    "x = 'peter piper picked a peck of pickled peppers.'\n",
    "# y = x.split()\n",
    "# print(y)\n",
    "# for i in range(1):\n",
    "#     z.append(x.split(' ')[::])\n",
    "# print(z)"
   ]
  },
  {
   "cell_type": "code",
   "execution_count": 72,
   "metadata": {
    "ExecuteTime": {
     "end_time": "2021-03-17T03:50:35.510461Z",
     "start_time": "2021-03-17T03:50:35.498238Z"
    }
   },
   "outputs": [
    {
     "name": "stdout",
     "output_type": "stream",
     "text": [
      "100\n"
     ]
    }
   ],
   "source": [
    "input_lst = [10,20,30,40]\n",
    "total  = 0\n",
    "for i in input_lst:\n",
    "    total=total+i\n",
    "print(total)"
   ]
  },
  {
   "cell_type": "code",
   "execution_count": null,
   "metadata": {},
   "outputs": [],
   "source": [
    "Condtant - Cpital case\n",
    "Class name should start with capital letter\n",
    "variable should have small case leter - \n",
    "\n",
    "# A-Z a-z, 0-9, _\n",
    "\n",
    "\n",
    "\n"
   ]
  },
  {
   "cell_type": "code",
   "execution_count": 75,
   "metadata": {
    "ExecuteTime": {
     "end_time": "2021-03-17T03:53:55.502122Z",
     "start_time": "2021-03-17T03:53:55.496858Z"
    }
   },
   "outputs": [
    {
     "name": "stdout",
     "output_type": "stream",
     "text": [
      "2\n"
     ]
    }
   ],
   "source": [
    "#Write a Python program to count the number of strings having length more than 2 and are palindrome in a list using loop.\n",
    "#Input:- ['ab', 'abc', 'aba', 'xyz', '1991']\n",
    "#Output:- 2\n",
    "lst = ['ab', 'abc', 'aba', 'xyz', '1991']\n",
    "# for i in lst:\n",
    "#     if len(i) % 2 == 0:\n",
    "#         if i[:(len(i)//2)+1] == i[-1:-((len(i)//2)+1):-1]:\n",
    "#             print('Palindrome')\n",
    "#         else:\n",
    "#             print('Not palindrome')\n",
    "pal_count = 0\n",
    "for i in lst:\n",
    "    if i == i[::-1] and len(i)>2:\n",
    "        pal_count += 1\n",
    "print(pal_count)    "
   ]
  },
  {
   "cell_type": "code",
   "execution_count": 78,
   "metadata": {
    "ExecuteTime": {
     "end_time": "2021-03-17T04:00:29.697205Z",
     "start_time": "2021-03-17T04:00:29.688393Z"
    }
   },
   "outputs": [
    {
     "name": "stdout",
     "output_type": "stream",
     "text": [
      "peppers pickled of peck a picked piper peter\n"
     ]
    }
   ],
   "source": [
    "#Write a python program to find below output using loop:-\n",
    "\n",
    "#Input:- 'peter piper picked a peck of pickled peppers.'\n",
    "#Output:- 'peppers pickled of peck a picked piper peter'\n",
    "\n",
    "\n",
    "x = 'peter piper picked a peck of pickled peppers.'\n",
    "out_lst = []\n",
    "out_str = ''\n",
    "for i in range(len(x)):\n",
    "    if x[i] == ' ' or x[i] == '.':\n",
    "        out_lst += [out_str]\n",
    "        out_str = ''\n",
    "    else:\n",
    "        out_str += x[i]\n",
    "res_lst= ''\n",
    "for i in range(-1, -len(out_lst)-1, -1):\n",
    "    if i == -1:\n",
    "        res_lst = res_lst  + out_lst[i]\n",
    "    else:\n",
    "        res_lst = res_lst  +' ' + out_lst[i]\n",
    "print(res_lst)\n",
    "    "
   ]
  },
  {
   "cell_type": "code",
   "execution_count": 80,
   "metadata": {
    "ExecuteTime": {
     "end_time": "2021-03-17T04:01:02.806748Z",
     "start_time": "2021-03-17T04:01:02.789834Z"
    }
   },
   "outputs": [
    {
     "name": "stdout",
     "output_type": "stream",
     "text": [
      "['peter', 'piper', 'picked', 'a', 'peck', 'of', 'pickled', 'peppers']\n"
     ]
    },
    {
     "data": {
      "text/plain": [
       "range(-1, -9, -1)"
      ]
     },
     "execution_count": 80,
     "metadata": {},
     "output_type": "execute_result"
    }
   ],
   "source": [
    "print(out_lst)\n",
    "range(-1, -len(out_lst)-1, -1)"
   ]
  },
  {
   "cell_type": "code",
   "execution_count": 81,
   "metadata": {
    "ExecuteTime": {
     "end_time": "2021-03-17T04:02:25.462839Z",
     "start_time": "2021-03-17T04:02:25.455635Z"
    }
   },
   "outputs": [],
   "source": [
    "import module1"
   ]
  },
  {
   "cell_type": "code",
   "execution_count": 82,
   "metadata": {
    "ExecuteTime": {
     "end_time": "2021-03-17T04:02:30.818107Z",
     "start_time": "2021-03-17T04:02:30.811568Z"
    }
   },
   "outputs": [
    {
     "data": {
      "text/plain": [
       "10"
      ]
     },
     "execution_count": 82,
     "metadata": {},
     "output_type": "execute_result"
    }
   ],
   "source": [
    "module1.a"
   ]
  },
  {
   "cell_type": "code",
   "execution_count": 87,
   "metadata": {
    "ExecuteTime": {
     "end_time": "2021-03-17T04:14:16.577511Z",
     "start_time": "2021-03-17T04:14:16.560850Z"
    }
   },
   "outputs": [
    {
     "data": {
      "text/plain": [
       "[[[0, 0, 0, 0, 0, 0],\n",
       "  [0, 0, 0, 0, 0, 0],\n",
       "  [0, 0, 0, 0, 0, 0],\n",
       "  [0, 0, 0, 0, 0, 0]],\n",
       " [[0, 0, 0, 0, 0, 0],\n",
       "  [1, 1, 1, 1, 1, 1],\n",
       "  [2, 2, 2, 2, 2, 2],\n",
       "  [3, 3, 3, 3, 3, 3]],\n",
       " [[0, 0, 0, 0, 0, 0],\n",
       "  [2, 2, 2, 2, 2, 2],\n",
       "  [4, 4, 4, 4, 4, 4],\n",
       "  [6, 6, 6, 6, 6, 6]]]"
      ]
     },
     "execution_count": 87,
     "metadata": {},
     "output_type": "execute_result"
    }
   ],
   "source": [
    "# [\n",
    "#     [[0,0,0,0,0,0],[0,0,0,0,0,0],[0,0,0,0,0,0],[0,0,0,0,0,0]],\n",
    "#     [[0,0,0,0,0,0],[1,1,1,1,1,1],[2,2,2,2,2,2],[3,3,3,3,3,3]],\n",
    "#     [[0,0,0,0,0,0],[2,2,2,2,2,2],[4,4,4,4,4,4],[6,6,6,6,6,6]]\n",
    "# ]\n",
    "\n",
    "out_lst = []\n",
    "for i in range(3):\n",
    "    in_lst1 = []\n",
    "    out_lst.append(in_lst1)\n",
    "    for j in range(4):\n",
    "        in_lst2 = []\n",
    "        in_lst1.append(in_lst2)\n",
    "        for k in range(6):\n",
    "            in_lst2.append(i*j)\n",
    "out_lst\n",
    "\n",
    "\n",
    "\n",
    "\n"
   ]
  },
  {
   "cell_type": "code",
   "execution_count": null,
   "metadata": {},
   "outputs": [],
   "source": [
    "Comparison - <, <=, >, >=, \n",
    "Equality -> ==, !="
   ]
  },
  {
   "cell_type": "code",
   "execution_count": 88,
   "metadata": {
    "ExecuteTime": {
     "end_time": "2021-03-17T04:16:33.581615Z",
     "start_time": "2021-03-17T04:16:33.550103Z"
    }
   },
   "outputs": [
    {
     "ename": "TypeError",
     "evalue": "'>=' not supported between instances of 'str' and 'int'",
     "output_type": "error",
     "traceback": [
      "\u001b[0;31m---------------------------------------------------------------------------\u001b[0m",
      "\u001b[0;31mTypeError\u001b[0m                                 Traceback (most recent call last)",
      "\u001b[0;32m<ipython-input-88-8b5e1bf1fcbf>\u001b[0m in \u001b[0;36m<module>\u001b[0;34m\u001b[0m\n\u001b[0;32m----> 1\u001b[0;31m \u001b[0mprint\u001b[0m\u001b[0;34m(\u001b[0m\u001b[0;34m'A'\u001b[0m \u001b[0;34m>=\u001b[0m \u001b[0;36m65\u001b[0m\u001b[0;34m)\u001b[0m\u001b[0;34m\u001b[0m\u001b[0;34m\u001b[0m\u001b[0m\n\u001b[0m",
      "\u001b[0;31mTypeError\u001b[0m: '>=' not supported between instances of 'str' and 'int'"
     ]
    }
   ],
   "source": [
    "print('A' >= 65)"
   ]
  },
  {
   "cell_type": "code",
   "execution_count": null,
   "metadata": {},
   "outputs": [],
   "source": []
  },
  {
   "cell_type": "code",
   "execution_count": null,
   "metadata": {},
   "outputs": [],
   "source": []
  },
  {
   "cell_type": "code",
   "execution_count": null,
   "metadata": {},
   "outputs": [],
   "source": []
  },
  {
   "cell_type": "code",
   "execution_count": null,
   "metadata": {},
   "outputs": [],
   "source": []
  },
  {
   "cell_type": "code",
   "execution_count": null,
   "metadata": {},
   "outputs": [],
   "source": []
  },
  {
   "cell_type": "code",
   "execution_count": null,
   "metadata": {},
   "outputs": [],
   "source": []
  },
  {
   "cell_type": "code",
   "execution_count": null,
   "metadata": {},
   "outputs": [],
   "source": []
  },
  {
   "cell_type": "code",
   "execution_count": null,
   "metadata": {},
   "outputs": [],
   "source": []
  },
  {
   "cell_type": "code",
   "execution_count": null,
   "metadata": {},
   "outputs": [],
   "source": []
  },
  {
   "cell_type": "code",
   "execution_count": null,
   "metadata": {},
   "outputs": [],
   "source": []
  },
  {
   "cell_type": "code",
   "execution_count": null,
   "metadata": {},
   "outputs": [],
   "source": []
  },
  {
   "cell_type": "code",
   "execution_count": null,
   "metadata": {},
   "outputs": [],
   "source": []
  },
  {
   "cell_type": "code",
   "execution_count": null,
   "metadata": {},
   "outputs": [],
   "source": []
  },
  {
   "cell_type": "code",
   "execution_count": null,
   "metadata": {},
   "outputs": [],
   "source": []
  },
  {
   "cell_type": "code",
   "execution_count": null,
   "metadata": {},
   "outputs": [],
   "source": []
  },
  {
   "cell_type": "code",
   "execution_count": null,
   "metadata": {},
   "outputs": [],
   "source": []
  },
  {
   "cell_type": "code",
   "execution_count": null,
   "metadata": {},
   "outputs": [],
   "source": []
  },
  {
   "cell_type": "code",
   "execution_count": null,
   "metadata": {},
   "outputs": [],
   "source": []
  },
  {
   "cell_type": "code",
   "execution_count": null,
   "metadata": {},
   "outputs": [],
   "source": []
  },
  {
   "cell_type": "code",
   "execution_count": null,
   "metadata": {},
   "outputs": [],
   "source": []
  },
  {
   "cell_type": "code",
   "execution_count": null,
   "metadata": {},
   "outputs": [],
   "source": []
  },
  {
   "cell_type": "code",
   "execution_count": null,
   "metadata": {},
   "outputs": [],
   "source": []
  },
  {
   "cell_type": "code",
   "execution_count": null,
   "metadata": {},
   "outputs": [],
   "source": []
  },
  {
   "cell_type": "code",
   "execution_count": null,
   "metadata": {},
   "outputs": [],
   "source": []
  },
  {
   "cell_type": "code",
   "execution_count": null,
   "metadata": {},
   "outputs": [],
   "source": []
  },
  {
   "cell_type": "code",
   "execution_count": null,
   "metadata": {},
   "outputs": [],
   "source": []
  },
  {
   "cell_type": "code",
   "execution_count": null,
   "metadata": {},
   "outputs": [],
   "source": []
  },
  {
   "cell_type": "code",
   "execution_count": null,
   "metadata": {},
   "outputs": [],
   "source": []
  },
  {
   "cell_type": "code",
   "execution_count": null,
   "metadata": {},
   "outputs": [],
   "source": []
  },
  {
   "cell_type": "code",
   "execution_count": null,
   "metadata": {},
   "outputs": [],
   "source": []
  },
  {
   "cell_type": "code",
   "execution_count": null,
   "metadata": {},
   "outputs": [],
   "source": []
  },
  {
   "cell_type": "code",
   "execution_count": null,
   "metadata": {},
   "outputs": [],
   "source": []
  },
  {
   "cell_type": "code",
   "execution_count": null,
   "metadata": {},
   "outputs": [],
   "source": []
  },
  {
   "cell_type": "code",
   "execution_count": null,
   "metadata": {},
   "outputs": [],
   "source": []
  },
  {
   "cell_type": "code",
   "execution_count": null,
   "metadata": {},
   "outputs": [],
   "source": []
  },
  {
   "cell_type": "code",
   "execution_count": null,
   "metadata": {},
   "outputs": [],
   "source": []
  },
  {
   "cell_type": "code",
   "execution_count": null,
   "metadata": {},
   "outputs": [],
   "source": []
  }
 ],
 "metadata": {
  "kernelspec": {
   "display_name": "Python 3",
   "language": "python",
   "name": "python3"
  },
  "language_info": {
   "codemirror_mode": {
    "name": "ipython",
    "version": 3
   },
   "file_extension": ".py",
   "mimetype": "text/x-python",
   "name": "python",
   "nbconvert_exporter": "python",
   "pygments_lexer": "ipython3",
   "version": "3.8.5"
  },
  "latex_envs": {
   "LaTeX_envs_menu_present": true,
   "autoclose": false,
   "autocomplete": true,
   "bibliofile": "biblio.bib",
   "cite_by": "apalike",
   "current_citInitial": 1,
   "eqLabelWithNumbers": true,
   "eqNumInitial": 1,
   "hotkeys": {
    "equation": "Ctrl-E",
    "itemize": "Ctrl-I"
   },
   "labels_anchors": false,
   "latex_user_defs": false,
   "report_style_numbering": false,
   "user_envs_cfg": false
  },
  "varInspector": {
   "cols": {
    "lenName": 16,
    "lenType": 16,
    "lenVar": 40
   },
   "kernels_config": {
    "python": {
     "delete_cmd_postfix": "",
     "delete_cmd_prefix": "del ",
     "library": "var_list.py",
     "varRefreshCmd": "print(var_dic_list())"
    },
    "r": {
     "delete_cmd_postfix": ") ",
     "delete_cmd_prefix": "rm(",
     "library": "var_list.r",
     "varRefreshCmd": "cat(var_dic_list()) "
    }
   },
   "types_to_exclude": [
    "module",
    "function",
    "builtin_function_or_method",
    "instance",
    "_Feature"
   ],
   "window_display": false
  }
 },
 "nbformat": 4,
 "nbformat_minor": 2
}
