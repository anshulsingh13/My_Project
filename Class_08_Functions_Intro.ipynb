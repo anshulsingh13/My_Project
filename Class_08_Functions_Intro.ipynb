{
 "cells": [
  {
   "cell_type": "code",
   "execution_count": 16,
   "metadata": {
    "ExecuteTime": {
     "end_time": "2021-03-12T02:47:55.182029Z",
     "start_time": "2021-03-12T02:47:55.167102Z"
    }
   },
   "outputs": [
    {
     "name": "stdout",
     "output_type": "stream",
     "text": [
      "[10, 20, 30, [11, 22, 33], 40, 50]\n",
      "[10, 20, 30, [111, 22, 33], 40, 50]\n"
     ]
    }
   ],
   "source": [
    "# # Shallow Copy and deepcopy\n",
    "\n",
    "# lst = [10,20,30,40,50]\n",
    "# # lst1 = lst                 # Aliasing\n",
    "# # # print(lst is lst1)\n",
    "# # # print(id(lst))\n",
    "# # # print(id(lst1))\n",
    "# # lst1[0] = 111\n",
    "# # print(lst)\n",
    "# # print(lst1)\n",
    "\n",
    "# # Shallow copy - copy, slicing\n",
    "# lst2 = lst.copy()\n",
    "# # print(lst is lst2)\n",
    "# # print(id(lst))\n",
    "# # print(id(lst2))\n",
    "# # lst2[0] = 111\n",
    "# # print(lst)\n",
    "# # print(lst2)\n",
    "\n",
    "\n",
    "# # Nested list\n",
    "# lst3 = [10,20,30,[11,22,33],40,50]\n",
    "# # lst4 = lst3[::]   # Shallow copy\n",
    "# # print(lst3)\n",
    "# # print(lst4)\n",
    "# # print(lst3 is lst4)\n",
    "# # lst4[3][0] = 111\n",
    "# # print(lst3)\n",
    "# # print(lst4)\n",
    "\n",
    "# # Deepcopy\n",
    "# from copy import deepcopy\n",
    "# lst5 = deepcopy(lst3)\n",
    "# # print(lst3 is lst5)\n",
    "# lst5[3][0] = 111\n",
    "# print(lst3)\n",
    "# print(lst5)\n",
    "\n",
    "\n",
    "\n",
    "\n",
    "\n",
    "\n",
    "\n",
    "\n"
   ]
  },
  {
   "cell_type": "code",
   "execution_count": 11,
   "metadata": {
    "ExecuteTime": {
     "end_time": "2021-03-12T02:43:59.643441Z",
     "start_time": "2021-03-12T02:43:59.630788Z"
    }
   },
   "outputs": [
    {
     "name": "stdout",
     "output_type": "stream",
     "text": [
      "False\n",
      "4705706256\n",
      "4705706384\n",
      "True\n",
      "4705706256\n",
      "4705706256\n"
     ]
    }
   ],
   "source": [
    "# a = 1000\n",
    "# b = 1000\n",
    "# print(a is b)\n",
    "# print(id(a))\n",
    "# print(id(b))\n",
    "# c = a\n",
    "# print(a is c)\n",
    "# print(id(a))\n",
    "# print(id(c))"
   ]
  },
  {
   "cell_type": "code",
   "execution_count": null,
   "metadata": {},
   "outputs": [],
   "source": [
    "# Functions\n",
    "# What is use of function?\n",
    "# Function definition, Function call\n",
    "# Type of Arguments - Positional, Default, Keyworded, Variable Length\n",
    "# Return Statement - Recursion\n",
    "# Anonymous Function, Filter, map reduce\n",
    "# Generator, Iterator\n",
    "# Scope, Namepace"
   ]
  },
  {
   "cell_type": "code",
   "execution_count": null,
   "metadata": {},
   "outputs": [],
   "source": [
    "# def prepare_tea()\n",
    "#     1. Light the stove\n",
    "#     2. Take water in pan\n",
    "#     3. Boil water\n",
    "#     4. Mix sugar\n",
    "#     5. Mix tea leaves\n",
    "#     6. Serve\n",
    "# prepare_tea()"
   ]
  },
  {
   "cell_type": "code",
   "execution_count": 17,
   "metadata": {
    "ExecuteTime": {
     "end_time": "2021-03-12T03:16:50.678719Z",
     "start_time": "2021-03-12T03:16:50.668084Z"
    }
   },
   "outputs": [],
   "source": [
    "def validate_email(email):\n",
    "    if ('@' in email) and ('.' in email):\n",
    "        print(email)\n",
    "    else:\n",
    "        print('wrong email')"
   ]
  },
  {
   "cell_type": "code",
   "execution_count": 18,
   "metadata": {
    "ExecuteTime": {
     "end_time": "2021-03-12T03:17:02.412518Z",
     "start_time": "2021-03-12T03:17:02.409048Z"
    }
   },
   "outputs": [
    {
     "name": "stdout",
     "output_type": "stream",
     "text": [
      "bc@gmail.com\n"
     ]
    }
   ],
   "source": [
    "# validate_email('bc@gmail.com')"
   ]
  },
  {
   "cell_type": "code",
   "execution_count": 19,
   "metadata": {
    "ExecuteTime": {
     "end_time": "2021-03-12T03:17:10.372650Z",
     "start_time": "2021-03-12T03:17:10.363984Z"
    }
   },
   "outputs": [
    {
     "name": "stdout",
     "output_type": "stream",
     "text": [
      "wrong email\n"
     ]
    }
   ],
   "source": [
    "# validate_email('bc@gmailcom')"
   ]
  },
  {
   "cell_type": "code",
   "execution_count": null,
   "metadata": {},
   "outputs": [],
   "source": [
    "DRY - Do not Repeat yourself"
   ]
  },
  {
   "cell_type": "markdown",
   "metadata": {},
   "source": [
    "# Function definition, Function call"
   ]
  },
  {
   "cell_type": "code",
   "execution_count": 21,
   "metadata": {
    "ExecuteTime": {
     "end_time": "2021-03-12T03:27:32.239143Z",
     "start_time": "2021-03-12T03:27:32.232773Z"
    }
   },
   "outputs": [
    {
     "name": "stdout",
     "output_type": "stream",
     "text": [
      "__main__\n"
     ]
    }
   ],
   "source": [
    "def func_name(params):\n",
    "    stat1\n",
    "    stat2\n",
    "    stat3\n",
    "    stat4\n",
    "    return stat\n",
    "\n",
    "print(__name__)\n",
    "\n",
    "func_name(args)\n",
    "\n",
    "# "
   ]
  },
  {
   "cell_type": "code",
   "execution_count": null,
   "metadata": {},
   "outputs": [],
   "source": [
    "# Parameters and Arguments are input to the function\n",
    "\n",
    "# Paramters - variables used to store the values passed as argumnets while calling function.\n",
    "# Argumnets - are actuale values which are passed when we call the function.\n",
    "\n",
    "def validate_email(email):                     # email is parameter\n",
    "    if ('@' in email) and ('.' in email):\n",
    "        print(email)\n",
    "    else:\n",
    "        print('wrong email')\n",
    "\n",
    "validate_email('abc@gmail.com')                # 'abc@gmail.com' is argument\n",
    "\n"
   ]
  },
  {
   "cell_type": "code",
   "execution_count": 29,
   "metadata": {
    "ExecuteTime": {
     "end_time": "2021-03-12T03:35:57.733704Z",
     "start_time": "2021-03-12T03:35:57.728539Z"
    }
   },
   "outputs": [
    {
     "name": "stdout",
     "output_type": "stream",
     "text": [
      "abc@gmail.com\n"
     ]
    }
   ],
   "source": [
    "# Types of arguments\n",
    "#     1. Positional - \n",
    "#         order should be maintained\n",
    "#         No of arguments and parameters should also match\n",
    "\n",
    "def validate_email(email):                    \n",
    "    if ('@' in email) and ('.' in email):\n",
    "        print(email)\n",
    "    else:\n",
    "        print('wrong email')\n",
    "\n",
    "validate_email('abc@gmail.com')\n",
    "# validate_email('abc@gmail.com', 'abc@123')    # TypeError: validate_email() takes 1 positional argument but 2 were given\n",
    "\n",
    "\n"
   ]
  },
  {
   "cell_type": "code",
   "execution_count": 32,
   "metadata": {
    "ExecuteTime": {
     "end_time": "2021-03-12T03:37:42.076650Z",
     "start_time": "2021-03-12T03:37:42.063393Z"
    }
   },
   "outputs": [
    {
     "name": "stdout",
     "output_type": "stream",
     "text": [
      "wrong email\n"
     ]
    }
   ],
   "source": [
    "def validate_email(email, pwd):                    \n",
    "    if ('@' in email) and ('.' in email):\n",
    "        print(email)\n",
    "    else:\n",
    "        print('wrong email')\n",
    "\n",
    "# validate_email('abc@gmail.com')    # TypeError: validate_email() missing 1 required positional argument: 'pwd'\n",
    "# validate_email('abc@gmail.com', 'abc@123')\n",
    "\n",
    "validate_email('abc@123', 'abc@gmail.com')\n",
    "\n"
   ]
  },
  {
   "cell_type": "code",
   "execution_count": 31,
   "metadata": {
    "ExecuteTime": {
     "end_time": "2021-03-12T03:36:16.338853Z",
     "start_time": "2021-03-12T03:36:16.329378Z"
    }
   },
   "outputs": [
    {
     "name": "stdout",
     "output_type": "stream",
     "text": [
      "10 <class 'int'>\n",
      "Python <class 'str'>\n"
     ]
    }
   ],
   "source": [
    "a = 10\n",
    "print(a, type(a))\n",
    "a = 'Python'\n",
    "print(a, type(a))"
   ]
  },
  {
   "cell_type": "code",
   "execution_count": 38,
   "metadata": {
    "ExecuteTime": {
     "end_time": "2021-03-12T03:42:48.521947Z",
     "start_time": "2021-03-12T03:42:48.511653Z"
    }
   },
   "outputs": [
    {
     "ename": "SyntaxError",
     "evalue": "non-default argument follows default argument (<ipython-input-38-9522f2822bdc>, line 14)",
     "output_type": "error",
     "traceback": [
      "\u001b[0;36m  File \u001b[0;32m\"<ipython-input-38-9522f2822bdc>\"\u001b[0;36m, line \u001b[0;32m14\u001b[0m\n\u001b[0;31m    def emp_info(ename, eaddr = 'BLR', eid, esal):    # SyntaxError: non-default argument follows default argument\u001b[0m\n\u001b[0m                 ^\u001b[0m\n\u001b[0;31mSyntaxError\u001b[0m\u001b[0;31m:\u001b[0m non-default argument follows default argument\n"
     ]
    }
   ],
   "source": [
    "# Default Arguments - we set some default value for parameters\n",
    "# Default argument should always follow the positional arguments\n",
    "\n",
    "# def emp_info(ename, eid, esal, eaddr = 'BLR'):\n",
    "#     print(ename)\n",
    "#     print(eid)\n",
    "#     print(esal)\n",
    "#     print(eaddr)\n",
    "\n",
    "# emp_info('Abhishek', 101, 10000)\n",
    "# print()\n",
    "# emp_info('Abhishek', 101, 10000, 'CHN')\n",
    "\n",
    "# def emp_info(ename, eaddr = 'BLR', eid, esal):    # SyntaxError: non-default argument follows default argument\n",
    "#     print(ename)\n",
    "#     print(eid)\n",
    "#     print(esal)\n",
    "#     print(eaddr)\n",
    "\n",
    "# emp_info('Abhishek', 101, 10000)\n",
    "# print()\n",
    "# emp_info('Abhishek', 101, 10000, 'CHN')\n",
    "\n",
    "\n"
   ]
  },
  {
   "cell_type": "code",
   "execution_count": 50,
   "metadata": {
    "ExecuteTime": {
     "end_time": "2021-03-12T03:50:17.897158Z",
     "start_time": "2021-03-12T03:50:17.892824Z"
    }
   },
   "outputs": [],
   "source": [
    "# Keyworded Argument - order does not matter\n",
    "# Keyworded arguments should always follow the positional arguments\n",
    "\n",
    "# def emp_info(ename, eid, esal, eaddr = 'BLR'):\n",
    "#     print(ename)\n",
    "#     print(eid)\n",
    "#     print(esal)\n",
    "#     print(eaddr)\n",
    "\n",
    "# emp_info(esal = 10000, ename = 'Abhishek', eid = 101)\n",
    "# print()\n",
    "# emp_info('Abhishek', 101, 10000, 'CHN')\n",
    "\n",
    "# def emp_info(eid, esal, ename, eaddr = 'BLR'):\n",
    "#     print(ename)\n",
    "#     print(eid)\n",
    "#     print(esal)\n",
    "#     print(eaddr)\n",
    "\n",
    "# emp_info(101, 10000, ename = 'Abhishek', eaddr='CHN')\n",
    "\n",
    "# my_str = 'peter piper picked a peck'\n",
    "# my_str.replace('p', 'z')\n",
    "\n",
    "\n",
    "\n",
    "\n",
    "\n"
   ]
  },
  {
   "cell_type": "code",
   "execution_count": 57,
   "metadata": {
    "ExecuteTime": {
     "end_time": "2021-03-12T03:59:48.085718Z",
     "start_time": "2021-03-12T03:59:48.074695Z"
    }
   },
   "outputs": [
    {
     "name": "stdout",
     "output_type": "stream",
     "text": [
      "Abhishek\n",
      "101\n",
      "800\n",
      "('BLR', 'KA')\n",
      "{'pin': 560001, 'email': 'abhishek@gmail.com'}\n",
      "\n",
      "Abhishek\n",
      "101\n",
      "800\n",
      "()\n",
      "{}\n"
     ]
    }
   ],
   "source": [
    "# Variabe length Arguments\n",
    "#     *args - takes variable length positional arguments and store them in a tuple called args\n",
    "#     **kwargs - takes variable length keyworded arguments and store them in a dictionary called kwargs\n",
    "\n",
    "\n",
    "# def emp_info(ename, eid, esal, *args):\n",
    "#     print(ename)\n",
    "#     print(eid)\n",
    "#     print(esal)\n",
    "#     print(args)\n",
    "    \n",
    "# emp_info('Abhishek', 101, 800, 'BLR', 'KA', 560001, 'abhishek@gmail.com')\n",
    "\n",
    "\n",
    "# def emp_info(ename, eid, esal, *args, **kwargs):\n",
    "#     print(ename)\n",
    "#     print(eid)\n",
    "#     print(esal)\n",
    "#     print(args)\n",
    "#     print(kwargs)\n",
    "    \n",
    "# emp_info('Abhishek', 101, 800, 'BLR', 'KA', pin = 560001, email='abhishek@gmail.com')\n",
    "# print()\n",
    "# emp_info('Abhishek', 101, 800)\n",
    "\n",
    "\n"
   ]
  },
  {
   "cell_type": "code",
   "execution_count": 69,
   "metadata": {
    "ExecuteTime": {
     "end_time": "2021-03-12T04:17:37.125490Z",
     "start_time": "2021-03-12T04:17:37.116669Z"
    }
   },
   "outputs": [
    {
     "name": "stdout",
     "output_type": "stream",
     "text": [
      "30\n"
     ]
    }
   ],
   "source": [
    "# return statement - output to the function\n",
    "\n",
    "def add(a,b):\n",
    "    return a+b,a,b\n",
    "\n",
    "tpl = add(10,20)\n",
    "print(tpl[0])\n",
    "\n"
   ]
  },
  {
   "cell_type": "code",
   "execution_count": 67,
   "metadata": {
    "ExecuteTime": {
     "end_time": "2021-03-12T04:16:11.685993Z",
     "start_time": "2021-03-12T04:16:11.657994Z"
    }
   },
   "outputs": [
    {
     "name": "stdout",
     "output_type": "stream",
     "text": [
      "None\n"
     ]
    },
    {
     "ename": "NameError",
     "evalue": "name 'x' is not defined",
     "output_type": "error",
     "traceback": [
      "\u001b[0;31m---------------------------------------------------------------------------\u001b[0m",
      "\u001b[0;31mNameError\u001b[0m                                 Traceback (most recent call last)",
      "\u001b[0;32m<ipython-input-67-333de4b29382>\u001b[0m in \u001b[0;36m<module>\u001b[0;34m\u001b[0m\n\u001b[1;32m      4\u001b[0m \u001b[0;34m\u001b[0m\u001b[0m\n\u001b[1;32m      5\u001b[0m \u001b[0mprint\u001b[0m\u001b[0;34m(\u001b[0m\u001b[0madd\u001b[0m\u001b[0;34m(\u001b[0m\u001b[0;36m10\u001b[0m\u001b[0;34m,\u001b[0m\u001b[0;36m20\u001b[0m\u001b[0;34m)\u001b[0m\u001b[0;34m)\u001b[0m\u001b[0;34m\u001b[0m\u001b[0;34m\u001b[0m\u001b[0m\n\u001b[0;32m----> 6\u001b[0;31m \u001b[0mprint\u001b[0m\u001b[0;34m(\u001b[0m\u001b[0mx\u001b[0m\u001b[0;34m)\u001b[0m\u001b[0;34m\u001b[0m\u001b[0;34m\u001b[0m\u001b[0m\n\u001b[0m",
      "\u001b[0;31mNameError\u001b[0m: name 'x' is not defined"
     ]
    }
   ],
   "source": [
    "def add(a,b):\n",
    "    x = a+b\n",
    "    return None\n",
    "\n",
    "print(add(10,20))\n",
    "print(x)"
   ]
  },
  {
   "cell_type": "code",
   "execution_count": 65,
   "metadata": {
    "ExecuteTime": {
     "end_time": "2021-03-12T04:15:09.304082Z",
     "start_time": "2021-03-12T04:15:09.284495Z"
    }
   },
   "outputs": [
    {
     "name": "stdout",
     "output_type": "stream",
     "text": [
      "zeter zizer zicked a zeck\n"
     ]
    },
    {
     "data": {
      "text/plain": [
       "'peter piper picked a peck'"
      ]
     },
     "execution_count": 65,
     "metadata": {},
     "output_type": "execute_result"
    }
   ],
   "source": [
    "my_str = 'peter piper picked a peck'\n",
    "print(my_str.replace('p', 'z'))\n",
    "my_str"
   ]
  },
  {
   "cell_type": "code",
   "execution_count": 64,
   "metadata": {
    "ExecuteTime": {
     "end_time": "2021-03-12T04:15:04.353070Z",
     "start_time": "2021-03-12T04:15:04.341299Z"
    }
   },
   "outputs": [
    {
     "name": "stdout",
     "output_type": "stream",
     "text": [
      "None\n"
     ]
    },
    {
     "data": {
      "text/plain": [
       "[10, 20, 30, 40, 100]"
      ]
     },
     "execution_count": 64,
     "metadata": {},
     "output_type": "execute_result"
    }
   ],
   "source": [
    "lst = [10,20,30,40]\n",
    "print(lst.append(100))\n",
    "lst"
   ]
  },
  {
   "cell_type": "code",
   "execution_count": 73,
   "metadata": {
    "ExecuteTime": {
     "end_time": "2021-03-12T04:19:12.955666Z",
     "start_time": "2021-03-12T04:19:12.950387Z"
    }
   },
   "outputs": [
    {
     "name": "stdout",
     "output_type": "stream",
     "text": [
      "abc\n"
     ]
    }
   ],
   "source": [
    "def validate_email(email, pwd):                    \n",
    "    if ('@' in email) and ('.' in email):\n",
    "        return email\n",
    "    else:\n",
    "        print('wrong email')\n",
    "        \n",
    "email = validate_email('abc@gmail.com', 'abc@123')\n",
    "print(email[:email.index('@')])"
   ]
  },
  {
   "cell_type": "code",
   "execution_count": 74,
   "metadata": {
    "ExecuteTime": {
     "end_time": "2021-03-12T04:22:27.046391Z",
     "start_time": "2021-03-12T04:22:27.039371Z"
    }
   },
   "outputs": [
    {
     "data": {
      "text/plain": [
       "120"
      ]
     },
     "execution_count": 74,
     "metadata": {},
     "output_type": "execute_result"
    }
   ],
   "source": [
    "# Factorial - 5! = 5X4X3X2X1 = 120\n",
    "\n",
    "# Recursion - When a function calls itself\n",
    "\n",
    "def fact(num):\n",
    "    if num == 0:\n",
    "        return 1\n",
    "    else:\n",
    "        return num * fact(num-1)\n",
    "fact(5)\n",
    "\n"
   ]
  },
  {
   "cell_type": "code",
   "execution_count": null,
   "metadata": {},
   "outputs": [],
   "source": []
  },
  {
   "cell_type": "code",
   "execution_count": null,
   "metadata": {},
   "outputs": [],
   "source": []
  },
  {
   "cell_type": "code",
   "execution_count": null,
   "metadata": {},
   "outputs": [],
   "source": []
  },
  {
   "cell_type": "code",
   "execution_count": null,
   "metadata": {},
   "outputs": [],
   "source": []
  },
  {
   "cell_type": "code",
   "execution_count": null,
   "metadata": {},
   "outputs": [],
   "source": []
  },
  {
   "cell_type": "code",
   "execution_count": null,
   "metadata": {},
   "outputs": [],
   "source": []
  },
  {
   "cell_type": "code",
   "execution_count": null,
   "metadata": {},
   "outputs": [],
   "source": []
  },
  {
   "cell_type": "code",
   "execution_count": null,
   "metadata": {},
   "outputs": [],
   "source": []
  },
  {
   "cell_type": "code",
   "execution_count": null,
   "metadata": {},
   "outputs": [],
   "source": []
  },
  {
   "cell_type": "code",
   "execution_count": null,
   "metadata": {},
   "outputs": [],
   "source": []
  },
  {
   "cell_type": "code",
   "execution_count": null,
   "metadata": {},
   "outputs": [],
   "source": []
  },
  {
   "cell_type": "code",
   "execution_count": null,
   "metadata": {},
   "outputs": [],
   "source": []
  },
  {
   "cell_type": "code",
   "execution_count": null,
   "metadata": {},
   "outputs": [],
   "source": []
  },
  {
   "cell_type": "code",
   "execution_count": null,
   "metadata": {},
   "outputs": [],
   "source": []
  },
  {
   "cell_type": "code",
   "execution_count": null,
   "metadata": {},
   "outputs": [],
   "source": []
  },
  {
   "cell_type": "code",
   "execution_count": null,
   "metadata": {},
   "outputs": [],
   "source": []
  },
  {
   "cell_type": "code",
   "execution_count": null,
   "metadata": {},
   "outputs": [],
   "source": []
  },
  {
   "cell_type": "code",
   "execution_count": null,
   "metadata": {},
   "outputs": [],
   "source": []
  },
  {
   "cell_type": "code",
   "execution_count": null,
   "metadata": {},
   "outputs": [],
   "source": []
  },
  {
   "cell_type": "code",
   "execution_count": null,
   "metadata": {},
   "outputs": [],
   "source": []
  },
  {
   "cell_type": "code",
   "execution_count": null,
   "metadata": {},
   "outputs": [],
   "source": []
  },
  {
   "cell_type": "code",
   "execution_count": null,
   "metadata": {},
   "outputs": [],
   "source": []
  },
  {
   "cell_type": "code",
   "execution_count": null,
   "metadata": {},
   "outputs": [],
   "source": []
  },
  {
   "cell_type": "code",
   "execution_count": null,
   "metadata": {},
   "outputs": [],
   "source": []
  },
  {
   "cell_type": "code",
   "execution_count": null,
   "metadata": {},
   "outputs": [],
   "source": []
  },
  {
   "cell_type": "code",
   "execution_count": null,
   "metadata": {},
   "outputs": [],
   "source": []
  },
  {
   "cell_type": "code",
   "execution_count": null,
   "metadata": {},
   "outputs": [],
   "source": []
  },
  {
   "cell_type": "code",
   "execution_count": null,
   "metadata": {},
   "outputs": [],
   "source": []
  },
  {
   "cell_type": "code",
   "execution_count": null,
   "metadata": {},
   "outputs": [],
   "source": []
  },
  {
   "cell_type": "code",
   "execution_count": null,
   "metadata": {},
   "outputs": [],
   "source": []
  },
  {
   "cell_type": "code",
   "execution_count": null,
   "metadata": {},
   "outputs": [],
   "source": []
  },
  {
   "cell_type": "code",
   "execution_count": null,
   "metadata": {},
   "outputs": [],
   "source": []
  },
  {
   "cell_type": "code",
   "execution_count": null,
   "metadata": {},
   "outputs": [],
   "source": []
  },
  {
   "cell_type": "code",
   "execution_count": null,
   "metadata": {},
   "outputs": [],
   "source": []
  },
  {
   "cell_type": "code",
   "execution_count": null,
   "metadata": {},
   "outputs": [],
   "source": []
  },
  {
   "cell_type": "code",
   "execution_count": null,
   "metadata": {},
   "outputs": [],
   "source": []
  },
  {
   "cell_type": "code",
   "execution_count": null,
   "metadata": {},
   "outputs": [],
   "source": []
  },
  {
   "cell_type": "code",
   "execution_count": null,
   "metadata": {},
   "outputs": [],
   "source": []
  },
  {
   "cell_type": "code",
   "execution_count": null,
   "metadata": {},
   "outputs": [],
   "source": []
  },
  {
   "cell_type": "code",
   "execution_count": null,
   "metadata": {},
   "outputs": [],
   "source": []
  },
  {
   "cell_type": "code",
   "execution_count": null,
   "metadata": {},
   "outputs": [],
   "source": []
  },
  {
   "cell_type": "code",
   "execution_count": null,
   "metadata": {},
   "outputs": [],
   "source": []
  },
  {
   "cell_type": "code",
   "execution_count": null,
   "metadata": {},
   "outputs": [],
   "source": []
  },
  {
   "cell_type": "code",
   "execution_count": null,
   "metadata": {},
   "outputs": [],
   "source": []
  },
  {
   "cell_type": "code",
   "execution_count": null,
   "metadata": {},
   "outputs": [],
   "source": []
  },
  {
   "cell_type": "code",
   "execution_count": null,
   "metadata": {},
   "outputs": [],
   "source": []
  },
  {
   "cell_type": "code",
   "execution_count": null,
   "metadata": {},
   "outputs": [],
   "source": []
  },
  {
   "cell_type": "code",
   "execution_count": null,
   "metadata": {},
   "outputs": [],
   "source": []
  },
  {
   "cell_type": "code",
   "execution_count": null,
   "metadata": {},
   "outputs": [],
   "source": []
  },
  {
   "cell_type": "code",
   "execution_count": null,
   "metadata": {},
   "outputs": [],
   "source": []
  },
  {
   "cell_type": "code",
   "execution_count": null,
   "metadata": {},
   "outputs": [],
   "source": []
  },
  {
   "cell_type": "code",
   "execution_count": null,
   "metadata": {},
   "outputs": [],
   "source": []
  },
  {
   "cell_type": "code",
   "execution_count": null,
   "metadata": {},
   "outputs": [],
   "source": []
  },
  {
   "cell_type": "code",
   "execution_count": null,
   "metadata": {},
   "outputs": [],
   "source": []
  },
  {
   "cell_type": "code",
   "execution_count": null,
   "metadata": {},
   "outputs": [],
   "source": []
  },
  {
   "cell_type": "code",
   "execution_count": null,
   "metadata": {},
   "outputs": [],
   "source": []
  },
  {
   "cell_type": "code",
   "execution_count": null,
   "metadata": {},
   "outputs": [],
   "source": []
  },
  {
   "cell_type": "code",
   "execution_count": null,
   "metadata": {},
   "outputs": [],
   "source": []
  },
  {
   "cell_type": "code",
   "execution_count": null,
   "metadata": {},
   "outputs": [],
   "source": []
  },
  {
   "cell_type": "code",
   "execution_count": null,
   "metadata": {},
   "outputs": [],
   "source": []
  },
  {
   "cell_type": "code",
   "execution_count": null,
   "metadata": {},
   "outputs": [],
   "source": []
  },
  {
   "cell_type": "code",
   "execution_count": null,
   "metadata": {},
   "outputs": [],
   "source": []
  },
  {
   "cell_type": "code",
   "execution_count": null,
   "metadata": {},
   "outputs": [],
   "source": []
  },
  {
   "cell_type": "code",
   "execution_count": null,
   "metadata": {},
   "outputs": [],
   "source": []
  },
  {
   "cell_type": "code",
   "execution_count": null,
   "metadata": {},
   "outputs": [],
   "source": []
  },
  {
   "cell_type": "code",
   "execution_count": null,
   "metadata": {},
   "outputs": [],
   "source": []
  },
  {
   "cell_type": "code",
   "execution_count": null,
   "metadata": {},
   "outputs": [],
   "source": []
  },
  {
   "cell_type": "code",
   "execution_count": null,
   "metadata": {},
   "outputs": [],
   "source": []
  },
  {
   "cell_type": "code",
   "execution_count": null,
   "metadata": {},
   "outputs": [],
   "source": []
  },
  {
   "cell_type": "code",
   "execution_count": null,
   "metadata": {},
   "outputs": [],
   "source": []
  },
  {
   "cell_type": "code",
   "execution_count": null,
   "metadata": {},
   "outputs": [],
   "source": []
  },
  {
   "cell_type": "code",
   "execution_count": null,
   "metadata": {},
   "outputs": [],
   "source": []
  },
  {
   "cell_type": "code",
   "execution_count": null,
   "metadata": {},
   "outputs": [],
   "source": []
  },
  {
   "cell_type": "code",
   "execution_count": null,
   "metadata": {},
   "outputs": [],
   "source": []
  },
  {
   "cell_type": "code",
   "execution_count": null,
   "metadata": {},
   "outputs": [],
   "source": []
  },
  {
   "cell_type": "code",
   "execution_count": null,
   "metadata": {},
   "outputs": [],
   "source": []
  },
  {
   "cell_type": "code",
   "execution_count": null,
   "metadata": {},
   "outputs": [],
   "source": []
  },
  {
   "cell_type": "code",
   "execution_count": null,
   "metadata": {},
   "outputs": [],
   "source": []
  },
  {
   "cell_type": "code",
   "execution_count": null,
   "metadata": {},
   "outputs": [],
   "source": []
  },
  {
   "cell_type": "code",
   "execution_count": null,
   "metadata": {},
   "outputs": [],
   "source": []
  },
  {
   "cell_type": "code",
   "execution_count": null,
   "metadata": {},
   "outputs": [],
   "source": []
  },
  {
   "cell_type": "code",
   "execution_count": null,
   "metadata": {},
   "outputs": [],
   "source": []
  },
  {
   "cell_type": "code",
   "execution_count": null,
   "metadata": {},
   "outputs": [],
   "source": []
  }
 ],
 "metadata": {
  "kernelspec": {
   "display_name": "Python 3",
   "language": "python",
   "name": "python3"
  },
  "language_info": {
   "codemirror_mode": {
    "name": "ipython",
    "version": 3
   },
   "file_extension": ".py",
   "mimetype": "text/x-python",
   "name": "python",
   "nbconvert_exporter": "python",
   "pygments_lexer": "ipython3",
   "version": "3.8.5"
  },
  "latex_envs": {
   "LaTeX_envs_menu_present": true,
   "autoclose": false,
   "autocomplete": true,
   "bibliofile": "biblio.bib",
   "cite_by": "apalike",
   "current_citInitial": 1,
   "eqLabelWithNumbers": true,
   "eqNumInitial": 1,
   "hotkeys": {
    "equation": "Ctrl-E",
    "itemize": "Ctrl-I"
   },
   "labels_anchors": false,
   "latex_user_defs": false,
   "report_style_numbering": false,
   "user_envs_cfg": false
  },
  "varInspector": {
   "cols": {
    "lenName": 16,
    "lenType": 16,
    "lenVar": 40
   },
   "kernels_config": {
    "python": {
     "delete_cmd_postfix": "",
     "delete_cmd_prefix": "del ",
     "library": "var_list.py",
     "varRefreshCmd": "print(var_dic_list())"
    },
    "r": {
     "delete_cmd_postfix": ") ",
     "delete_cmd_prefix": "rm(",
     "library": "var_list.r",
     "varRefreshCmd": "cat(var_dic_list()) "
    }
   },
   "types_to_exclude": [
    "module",
    "function",
    "builtin_function_or_method",
    "instance",
    "_Feature"
   ],
   "window_display": false
  }
 },
 "nbformat": 4,
 "nbformat_minor": 2
}
