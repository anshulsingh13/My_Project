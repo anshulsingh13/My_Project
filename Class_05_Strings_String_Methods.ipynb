{
 "cells": [
  {
   "cell_type": "code",
   "execution_count": 10,
   "metadata": {
    "ExecuteTime": {
     "end_time": "2021-03-05T02:39:18.697304Z",
     "start_time": "2021-03-05T02:39:18.689748Z"
    }
   },
   "outputs": [
    {
     "name": "stdout",
     "output_type": "stream",
     "text": [
      "0b10101\n",
      "0o25\n",
      "0x15\n"
     ]
    }
   ],
   "source": [
    "# a = 10\n",
    "# Binary - 0,1, - 0b, bin()\n",
    "# Octal - 0-7, 0o, oct()\n",
    "# hexaecimal - 0-9, A/a-F/f, 0x, hex()\n",
    "\n",
    "# a = 0b10101\n",
    "# print(a)\n",
    "# # 21\n",
    "# # b = 0o7654\n",
    "# # print(b)\n",
    "\n",
    "a = 21\n",
    "print(bin(a))\n",
    "print(oct(a))\n",
    "print(hex(a))"
   ]
  },
  {
   "cell_type": "markdown",
   "metadata": {},
   "source": [
    "# String"
   ]
  },
  {
   "cell_type": "markdown",
   "metadata": {},
   "source": [
    "## Slicing"
   ]
  },
  {
   "cell_type": "code",
   "execution_count": 39,
   "metadata": {
    "ExecuteTime": {
     "end_time": "2021-03-05T03:30:34.891844Z",
     "start_time": "2021-03-05T03:30:34.886073Z"
    }
   },
   "outputs": [],
   "source": [
    "# Syntax - my_str[start_index:stop_index:step_value]\n",
    "\n",
    "# When step is +ve (L to R)\n",
    "# Default start_index = 0\n",
    "# Default stop_index = len(str)\n",
    "\n",
    "# When step is -ve (R to L)\n",
    "# Default start_index = -1\n",
    "# Default stop_index = -len(str)-1\n",
    "\n",
    "# step -> +/-n (very nth character)\n",
    "\n",
    "my_str = 'This is Python class'\n",
    "# # reversing strig using slicing\n",
    "# print(my_str[::-1])\n",
    "\n",
    "# # Slicing Python\n",
    "# print(my_str[8:14])\n",
    "\n",
    "# # Slicing Python in reverse order\n",
    "# print(my_str[13:7:-1])\n",
    "\n",
    "# # Slicing every 2nd character in reverse order\n",
    "# print(my_str[::-2])\n",
    "\n",
    "# # Slicing every 2nd character in default order\n",
    "# print(my_str[::2])\n",
    "\n",
    "# # Slicing 'class' in backward direction\n",
    "# print(my_str[-1:-6:1])\n",
    "\n",
    "# print(my_str[my_str.index('Python'):my_str.index('Python')+6])\n",
    "\n",
    "\n",
    "# Length- len()\n",
    "# print(len(my_str))\n",
    "\n",
    "# Concatenation on string - +\n",
    "# Both the operand should be string type\n",
    "str1 = 'Python'\n",
    "str2 = 'Class'\n",
    "# print(str1+' '+str2)\n",
    "# print(str1 + 10)\n",
    "# print(str1+[10,20,30])\n",
    "# print(str1 + '10')\n",
    "\n",
    "# repetition - *\n",
    "# One operand should be string and other should be integer\n",
    "# print((str1+' ') * 3)\n",
    "# print(str1 * 3.0)\n",
    "\n",
    "# Membership Operation - in, not in \n",
    "# returns Boolean value\n",
    "# print('T' in my_str)\n",
    "# print('this' in my_str)\n",
    "\n",
    "# Identity operation - is, is not - Compares the memory address\n",
    "# str1 = 'Python'\n",
    "# str2 = 'Python'\n",
    "# print(str1 is str2)\n",
    "# print(id(str1))\n",
    "# print(id(str2))\n",
    "\n",
    "\n",
    "# str1 = 'Python class'\n",
    "# str2 = 'Python class'\n",
    "# print(str1 is str2)\n",
    "# print(str1 == str2)\n",
    "# print(id(str1))\n",
    "# print(id(str2))\n",
    "\n",
    "# int -> -5 to 256\n",
    "# None, True, False\n",
    "# String - A-Z, a-z, 0-9, _\n",
    "\n"
   ]
  },
  {
   "cell_type": "code",
   "execution_count": 14,
   "metadata": {
    "ExecuteTime": {
     "end_time": "2021-03-05T03:55:39.572959Z",
     "start_time": "2021-03-05T03:55:39.558659Z"
    }
   },
   "outputs": [
    {
     "name": "stdout",
     "output_type": "stream",
     "text": [
      "P\n",
      "yy\n",
      "ttt\n",
      "hhhh\n",
      "ooooo\n",
      "nnnnnn\n"
     ]
    }
   ],
   "source": [
    "# Iterating over string object - running the loop over string\n",
    "# for, while\n",
    "# Syntax for loop - \n",
    "# for var in str:\n",
    "#     stat1\n",
    "#     stat2\n",
    "#     stat3\n",
    "\n",
    "# str1 = 'Python'\n",
    "# for var in str1:\n",
    "#     print('Hi')\n",
    "#     print('Hello')\n",
    "#     print()\n",
    "# j = 0\n",
    "# for var in str1:\n",
    "#     print(var*(j+1))\n",
    "#     j+=1\n",
    "\n",
    "\n",
    "class My_str(str):\n",
    "    def __init__(self, str2):\n",
    "        self.str2 = str2\n",
    "        \n",
    "    def iter(self):\n",
    "        print(self.str2)\n",
    "    \n",
    "    def __iter__(self):\n",
    "        return self.iter()\n",
    "        \n",
    "\n",
    "s1 = My_str('Learnbay')\n",
    "\n",
    "# s1.__iter__('Python')\n",
    "\n",
    "# # i1 = s1.str2.__iter__()\n",
    "# # print(i1)\n",
    "# print(s1.str2.__iter__())\n",
    "\n",
    "\n",
    "\n",
    "\n",
    "# str1 = 'Learnbay'\n",
    "# for i in str1:\n",
    "#     print(i)\n",
    "\n",
    "# my_iterator = iter(str1)\n",
    "# print(my_iterator)\n",
    "\n",
    "# Iteraring over string using while loop\n",
    "# Syntax\n",
    "# Initialization\n",
    "# Condition checking\n",
    "# Increment/Decrement\n",
    "\n",
    "str1 = 'Python'\n",
    "ind = 0\n",
    "while ind < len(str1):\n",
    "    print(str1[ind] * (ind+1))\n",
    "    ind += 1\n",
    "\n",
    "\n",
    "# print(str1[ind])\n",
    "# print(str1[1])\n",
    "# print(str1[2])\n",
    "# print(str1[3])\n"
   ]
  },
  {
   "cell_type": "code",
   "execution_count": 16,
   "metadata": {
    "ExecuteTime": {
     "end_time": "2021-03-05T03:55:45.556948Z",
     "start_time": "2021-03-05T03:55:45.553581Z"
    }
   },
   "outputs": [],
   "source": [
    "# print(dir(str))\n",
    "# print(help(str))"
   ]
  },
  {
   "cell_type": "code",
   "execution_count": 17,
   "metadata": {
    "ExecuteTime": {
     "end_time": "2021-03-05T03:56:35.982145Z",
     "start_time": "2021-03-05T03:56:35.973561Z"
    }
   },
   "outputs": [
    {
     "name": "stdout",
     "output_type": "stream",
     "text": [
      "['__add__', '__class__', '__contains__', '__delattr__', '__dir__', '__doc__', '__eq__', '__format__', '__ge__', '__getattribute__', '__getitem__', '__getnewargs__', '__gt__', '__hash__', '__init__', '__init_subclass__', '__iter__', '__le__', '__len__', '__lt__', '__mod__', '__mul__', '__ne__', '__new__', '__reduce__', '__reduce_ex__', '__repr__', '__rmod__', '__rmul__', '__setattr__', '__sizeof__', '__str__', '__subclasshook__', 'capitalize', 'casefold', 'center', 'count', 'encode', 'endswith', 'expandtabs', 'find', 'format', 'format_map', 'index', 'isalnum', 'isalpha', 'isascii', 'isdecimal', 'isdigit', 'isidentifier', 'islower', 'isnumeric', 'isprintable', 'isspace', 'istitle', 'isupper', 'join', 'ljust', 'lower', 'lstrip', 'maketrans', 'partition', 'replace', 'rfind', 'rindex', 'rjust', 'rpartition', 'rsplit', 'rstrip', 'split', 'splitlines', 'startswith', 'strip', 'swapcase', 'title', 'translate', 'upper', 'zfill']\n"
     ]
    }
   ],
   "source": [
    "# String methods - \n",
    "print(dir(str))"
   ]
  },
  {
   "cell_type": "code",
   "execution_count": 19,
   "metadata": {
    "ExecuteTime": {
     "end_time": "2021-03-05T03:58:58.561008Z",
     "start_time": "2021-03-05T03:58:58.549976Z"
    }
   },
   "outputs": [
    {
     "name": "stdout",
     "output_type": "stream",
     "text": [
      "Python\n",
      "This is Python class\n"
     ]
    }
   ],
   "source": [
    "# String is immutable - Not modify\n",
    "# If item assignment is not possible\n",
    "# If modification are not done in existing object\n",
    "\n",
    "\n",
    "\n",
    "my_str = 'This is Python class'\n",
    "\n",
    "# print(my_str[8:14])\n",
    "# print(my_str)\n",
    "\n",
    "\n",
    "\n",
    "\n",
    "\n"
   ]
  },
  {
   "cell_type": "code",
   "execution_count": null,
   "metadata": {},
   "outputs": [],
   "source": [
    "# 'capitalize', 'casefold', 'center', 'count', 'encode', 'endswith', 'expandtabs', 'find', 'format', 'format_map',\n",
    "# 'index', , 'join', 'ljust', 'lower', 'lstrip', 'maketrans', 'partition', \n",
    "# 'replace', 'rfind', 'rindex', 'rjust', 'rpartition', 'rsplit', 'rstrip', 'split', 'splitlines', 'startswith', \n",
    "# 'strip', 'swapcase', 'title', 'translate', 'upper', 'zfill'"
   ]
  },
  {
   "cell_type": "code",
   "execution_count": 49,
   "metadata": {
    "ExecuteTime": {
     "end_time": "2021-03-05T04:26:15.338460Z",
     "start_time": "2021-03-05T04:26:15.323670Z"
    }
   },
   "outputs": [
    {
     "name": "stdout",
     "output_type": "stream",
     "text": [
      "Python\n",
      "class False\n",
      "True\n",
      "Python\\nclass\n",
      "True\n",
      "Python class 893246\n"
     ]
    }
   ],
   "source": [
    "#   \n",
    "# 'isprintable', \n",
    "\n",
    "# Return Boolean Value\n",
    "# To check characters - isalnum, isalpha, isnumeric\n",
    "s1 = 'Python'\n",
    "s2 = '21736472836'\n",
    "s3 = 'Python208375'\n",
    "s4 = 'jhefvj27365873^&%^'\n",
    "# print(s3.isalnum())\n",
    "# print(s1.isalpha())\n",
    "# print(s2.isnumeric())\n",
    "# print(s4.isalnum())\n",
    "# print(s4.isalpha())\n",
    "# print(s4.isnumeric())\n",
    "\n",
    "\n",
    "# To check whertehr a string is valid identifier - isidentifier() - (Exception - Reserved words)\n",
    "# s1 = 'num'\n",
    "# s2 = 'num2'\n",
    "# s3 = '3num2'\n",
    "# s4 = 'num%'\n",
    "# s5 = 'for'\n",
    "# print(s1.isidentifier())\n",
    "# print(s2.isidentifier())\n",
    "# print(s3.isidentifier())\n",
    "# print(s4.isidentifier())\n",
    "# print(s5.isidentifier())\n",
    "\n",
    "# To check whether the string is having all ascii characters\n",
    "# s1 = 'fließen'\n",
    "# print(s1.isascii())\n",
    "\n",
    "# TO check case of english alphabets - islower/isupper/istitle\n",
    "# s1 = 'Python Class'\n",
    "# s2 = 'python class'\n",
    "# s3 = 'PYTHON CLASS'\n",
    "# print(s1.islower())\n",
    "# print(s2.islower())\n",
    "# print(s3.isupper())\n",
    "# print(s1.istitle())\n",
    "\n",
    "#  to check wheter the srring has only space character - isspace()\n",
    "# s1 = '\\n\\n\\t  \\v\\fPython'\n",
    "# s2 = '\\n\\n\\t  \\v\\f'\n",
    "# print(s1.isspace())\n",
    "# print(s2.isspace())\n",
    "\n",
    "# To check whether all characters are in printable format - isprintable()\n",
    "s1 = 'Python\\nclass'\n",
    "print(s1,s1.isprintable())\n",
    "\n",
    "\n",
    "s1 = r'Python\\nclass'\n",
    "print(s1.isprintable())\n",
    "print(s1)\n",
    "\n",
    "\n",
    "s1 = 'Python class 893246'\n",
    "print(s1.isprintable())\n",
    "print(s1)"
   ]
  },
  {
   "cell_type": "markdown",
   "metadata": {},
   "source": [
    "# Esacpe Sequence"
   ]
  },
  {
   "cell_type": "code",
   "execution_count": 29,
   "metadata": {
    "ExecuteTime": {
     "end_time": "2021-03-05T04:18:51.149555Z",
     "start_time": "2021-03-05T04:18:51.141046Z"
    }
   },
   "outputs": [
    {
     "name": "stdout",
     "output_type": "stream",
     "text": [
      "Line 1 Line 2 Line 3\n"
     ]
    }
   ],
   "source": [
    "# \\ - to ignore new line\n",
    "\n",
    "print('Line 1 Line 2 Line 3')"
   ]
  },
  {
   "cell_type": "code",
   "execution_count": 30,
   "metadata": {
    "ExecuteTime": {
     "end_time": "2021-03-05T04:19:04.472937Z",
     "start_time": "2021-03-05T04:19:04.464682Z"
    }
   },
   "outputs": [
    {
     "name": "stdout",
     "output_type": "stream",
     "text": [
      "Line 1 Line 2 Line 3\n"
     ]
    }
   ],
   "source": [
    "# \\ - to ignore new line\n",
    "\n",
    "print('Line 1 \\\n",
    "Line 2 \\\n",
    "Line 3')"
   ]
  },
  {
   "cell_type": "code",
   "execution_count": 31,
   "metadata": {
    "ExecuteTime": {
     "end_time": "2021-03-05T04:19:32.693115Z",
     "start_time": "2021-03-05T04:19:32.687516Z"
    }
   },
   "outputs": [
    {
     "name": "stdout",
     "output_type": "stream",
     "text": [
      "Hello \\ World\n"
     ]
    }
   ],
   "source": [
    "# \\\\ - to print '\\'\n",
    "\n",
    "print('Hello \\\\ World')"
   ]
  },
  {
   "cell_type": "code",
   "execution_count": 33,
   "metadata": {
    "ExecuteTime": {
     "end_time": "2021-03-05T04:19:52.165949Z",
     "start_time": "2021-03-05T04:19:52.162064Z"
    }
   },
   "outputs": [
    {
     "name": "stdout",
     "output_type": "stream",
     "text": [
      "Python's class\n"
     ]
    }
   ],
   "source": [
    "# \\' - Considers ' as a character of the string\n",
    "\n",
    "print('Python\\'s class')"
   ]
  },
  {
   "cell_type": "code",
   "execution_count": 34,
   "metadata": {
    "ExecuteTime": {
     "end_time": "2021-03-05T04:20:05.232741Z",
     "start_time": "2021-03-05T04:20:05.226836Z"
    }
   },
   "outputs": [
    {
     "name": "stdout",
     "output_type": "stream",
     "text": [
      "Python\"s class\n"
     ]
    }
   ],
   "source": [
    "# \\\" - Considers ' as a character of the string\n",
    "\n",
    "print(\"Python\\\"s class\")"
   ]
  },
  {
   "cell_type": "code",
   "execution_count": 35,
   "metadata": {
    "ExecuteTime": {
     "end_time": "2021-03-05T04:20:22.114325Z",
     "start_time": "2021-03-05T04:20:22.106761Z"
    }
   },
   "outputs": [
    {
     "name": "stdout",
     "output_type": "stream",
     "text": [
      "\u0007\n"
     ]
    }
   ],
   "source": [
    "# Rings Bell\n",
    "\n",
    "print('\\a')"
   ]
  },
  {
   "cell_type": "code",
   "execution_count": 36,
   "metadata": {
    "ExecuteTime": {
     "end_time": "2021-03-05T04:20:40.745035Z",
     "start_time": "2021-03-05T04:20:40.734047Z"
    }
   },
   "outputs": [
    {
     "name": "stdout",
     "output_type": "stream",
     "text": [
      "ad\bc\n"
     ]
    }
   ],
   "source": [
    "# Deletes the previous character\n",
    "\n",
    "print('ad'+'\\b'+'c')"
   ]
  },
  {
   "cell_type": "code",
   "execution_count": 37,
   "metadata": {
    "ExecuteTime": {
     "end_time": "2021-03-05T04:21:10.504858Z",
     "start_time": "2021-03-05T04:21:10.489614Z"
    }
   },
   "outputs": [
    {
     "name": "stdout",
     "output_type": "stream",
     "text": [
      "Hello\f",
      "World\n"
     ]
    }
   ],
   "source": [
    "# FormFeed - https://www.computerhope.com/jargon/f/formfeed.htm\n",
    "\n",
    "print('Hello\\fWorld')"
   ]
  },
  {
   "cell_type": "code",
   "execution_count": 38,
   "metadata": {
    "ExecuteTime": {
     "end_time": "2021-03-05T04:21:55.927159Z",
     "start_time": "2021-03-05T04:21:55.917954Z"
    }
   },
   "outputs": [
    {
     "name": "stdout",
     "output_type": "stream",
     "text": [
      "123456\r",
      "XX_XX\n"
     ]
    }
   ],
   "source": [
    "# carriage return - Moves all characters after CR to the beginning of the line while overriding same number of characters moved.\n",
    "\n",
    "print('123456\\rXX_XX')"
   ]
  },
  {
   "cell_type": "code",
   "execution_count": 39,
   "metadata": {
    "ExecuteTime": {
     "end_time": "2021-03-05T04:22:12.814697Z",
     "start_time": "2021-03-05T04:22:12.806512Z"
    }
   },
   "outputs": [
    {
     "name": "stdout",
     "output_type": "stream",
     "text": [
      "Python\n",
      "Class\n"
     ]
    }
   ],
   "source": [
    "# New line\n",
    "\n",
    "print('Python\\nClass')"
   ]
  },
  {
   "cell_type": "code",
   "execution_count": 40,
   "metadata": {
    "ExecuteTime": {
     "end_time": "2021-03-05T04:22:22.541719Z",
     "start_time": "2021-03-05T04:22:22.535332Z"
    }
   },
   "outputs": [
    {
     "name": "stdout",
     "output_type": "stream",
     "text": [
      "Python\tClass\n"
     ]
    }
   ],
   "source": [
    "# Tab Space\n",
    "\n",
    "print('Python\\tClass')"
   ]
  },
  {
   "cell_type": "code",
   "execution_count": null,
   "metadata": {},
   "outputs": [],
   "source": []
  },
  {
   "cell_type": "code",
   "execution_count": null,
   "metadata": {},
   "outputs": [],
   "source": []
  },
  {
   "cell_type": "code",
   "execution_count": null,
   "metadata": {},
   "outputs": [],
   "source": []
  },
  {
   "cell_type": "code",
   "execution_count": null,
   "metadata": {},
   "outputs": [],
   "source": []
  },
  {
   "cell_type": "code",
   "execution_count": null,
   "metadata": {},
   "outputs": [],
   "source": []
  },
  {
   "cell_type": "code",
   "execution_count": null,
   "metadata": {},
   "outputs": [],
   "source": []
  },
  {
   "cell_type": "code",
   "execution_count": null,
   "metadata": {},
   "outputs": [],
   "source": []
  },
  {
   "cell_type": "code",
   "execution_count": null,
   "metadata": {},
   "outputs": [],
   "source": []
  },
  {
   "cell_type": "code",
   "execution_count": null,
   "metadata": {},
   "outputs": [],
   "source": []
  },
  {
   "cell_type": "code",
   "execution_count": null,
   "metadata": {},
   "outputs": [],
   "source": []
  },
  {
   "cell_type": "code",
   "execution_count": null,
   "metadata": {},
   "outputs": [],
   "source": []
  },
  {
   "cell_type": "code",
   "execution_count": null,
   "metadata": {},
   "outputs": [],
   "source": []
  },
  {
   "cell_type": "code",
   "execution_count": null,
   "metadata": {},
   "outputs": [],
   "source": []
  },
  {
   "cell_type": "code",
   "execution_count": null,
   "metadata": {},
   "outputs": [],
   "source": []
  },
  {
   "cell_type": "code",
   "execution_count": null,
   "metadata": {},
   "outputs": [],
   "source": []
  },
  {
   "cell_type": "code",
   "execution_count": null,
   "metadata": {},
   "outputs": [],
   "source": []
  },
  {
   "cell_type": "code",
   "execution_count": null,
   "metadata": {},
   "outputs": [],
   "source": []
  },
  {
   "cell_type": "code",
   "execution_count": null,
   "metadata": {},
   "outputs": [],
   "source": []
  },
  {
   "cell_type": "code",
   "execution_count": null,
   "metadata": {},
   "outputs": [],
   "source": []
  },
  {
   "cell_type": "code",
   "execution_count": null,
   "metadata": {},
   "outputs": [],
   "source": []
  },
  {
   "cell_type": "code",
   "execution_count": null,
   "metadata": {},
   "outputs": [],
   "source": []
  },
  {
   "cell_type": "code",
   "execution_count": null,
   "metadata": {},
   "outputs": [],
   "source": []
  },
  {
   "cell_type": "code",
   "execution_count": null,
   "metadata": {},
   "outputs": [],
   "source": []
  },
  {
   "cell_type": "code",
   "execution_count": null,
   "metadata": {},
   "outputs": [],
   "source": []
  },
  {
   "cell_type": "code",
   "execution_count": null,
   "metadata": {},
   "outputs": [],
   "source": []
  },
  {
   "cell_type": "code",
   "execution_count": null,
   "metadata": {},
   "outputs": [],
   "source": []
  },
  {
   "cell_type": "code",
   "execution_count": null,
   "metadata": {},
   "outputs": [],
   "source": []
  },
  {
   "cell_type": "code",
   "execution_count": null,
   "metadata": {},
   "outputs": [],
   "source": []
  },
  {
   "cell_type": "code",
   "execution_count": null,
   "metadata": {},
   "outputs": [],
   "source": []
  },
  {
   "cell_type": "code",
   "execution_count": null,
   "metadata": {},
   "outputs": [],
   "source": []
  },
  {
   "cell_type": "code",
   "execution_count": null,
   "metadata": {},
   "outputs": [],
   "source": []
  },
  {
   "cell_type": "code",
   "execution_count": null,
   "metadata": {},
   "outputs": [],
   "source": []
  },
  {
   "cell_type": "code",
   "execution_count": null,
   "metadata": {},
   "outputs": [],
   "source": []
  },
  {
   "cell_type": "code",
   "execution_count": null,
   "metadata": {},
   "outputs": [],
   "source": []
  },
  {
   "cell_type": "code",
   "execution_count": null,
   "metadata": {},
   "outputs": [],
   "source": []
  },
  {
   "cell_type": "code",
   "execution_count": null,
   "metadata": {},
   "outputs": [],
   "source": []
  },
  {
   "cell_type": "code",
   "execution_count": null,
   "metadata": {},
   "outputs": [],
   "source": []
  },
  {
   "cell_type": "code",
   "execution_count": null,
   "metadata": {},
   "outputs": [],
   "source": []
  },
  {
   "cell_type": "code",
   "execution_count": null,
   "metadata": {},
   "outputs": [],
   "source": []
  },
  {
   "cell_type": "code",
   "execution_count": null,
   "metadata": {},
   "outputs": [],
   "source": []
  },
  {
   "cell_type": "code",
   "execution_count": null,
   "metadata": {},
   "outputs": [],
   "source": []
  },
  {
   "cell_type": "code",
   "execution_count": 1,
   "metadata": {},
   "outputs": [
    {
     "name": "stdout",
     "output_type": "stream",
     "text": [
      "l\n"
     ]
    }
   ],
   "source": [
    "my_str = \"Although that way may not be obvious at first unless you're Dutch.\"\n",
    "print(my_str[1])"
   ]
  },
  {
   "cell_type": "code",
   "execution_count": null,
   "metadata": {},
   "outputs": [],
   "source": []
  },
  {
   "cell_type": "code",
   "execution_count": null,
   "metadata": {},
   "outputs": [],
   "source": []
  },
  {
   "cell_type": "code",
   "execution_count": null,
   "metadata": {},
   "outputs": [],
   "source": []
  },
  {
   "cell_type": "code",
   "execution_count": null,
   "metadata": {},
   "outputs": [],
   "source": []
  },
  {
   "cell_type": "code",
   "execution_count": null,
   "metadata": {},
   "outputs": [],
   "source": []
  },
  {
   "cell_type": "code",
   "execution_count": null,
   "metadata": {},
   "outputs": [],
   "source": []
  },
  {
   "cell_type": "code",
   "execution_count": null,
   "metadata": {},
   "outputs": [],
   "source": []
  },
  {
   "cell_type": "code",
   "execution_count": null,
   "metadata": {},
   "outputs": [],
   "source": []
  },
  {
   "cell_type": "code",
   "execution_count": null,
   "metadata": {},
   "outputs": [],
   "source": []
  },
  {
   "cell_type": "code",
   "execution_count": null,
   "metadata": {},
   "outputs": [],
   "source": []
  },
  {
   "cell_type": "code",
   "execution_count": null,
   "metadata": {},
   "outputs": [],
   "source": []
  },
  {
   "cell_type": "code",
   "execution_count": null,
   "metadata": {},
   "outputs": [],
   "source": []
  },
  {
   "cell_type": "code",
   "execution_count": null,
   "metadata": {},
   "outputs": [],
   "source": []
  },
  {
   "cell_type": "code",
   "execution_count": null,
   "metadata": {},
   "outputs": [],
   "source": []
  },
  {
   "cell_type": "code",
   "execution_count": null,
   "metadata": {},
   "outputs": [],
   "source": []
  },
  {
   "cell_type": "code",
   "execution_count": null,
   "metadata": {},
   "outputs": [],
   "source": []
  },
  {
   "cell_type": "code",
   "execution_count": null,
   "metadata": {},
   "outputs": [],
   "source": []
  },
  {
   "cell_type": "code",
   "execution_count": null,
   "metadata": {},
   "outputs": [],
   "source": []
  }
 ],
 "metadata": {
  "kernelspec": {
   "display_name": "Python 3",
   "language": "python",
   "name": "python3"
  },
  "language_info": {
   "codemirror_mode": {
    "name": "ipython",
    "version": 3
   },
   "file_extension": ".py",
   "mimetype": "text/x-python",
   "name": "python",
   "nbconvert_exporter": "python",
   "pygments_lexer": "ipython3",
   "version": "3.8.5"
  },
  "latex_envs": {
   "LaTeX_envs_menu_present": true,
   "autoclose": false,
   "autocomplete": true,
   "bibliofile": "biblio.bib",
   "cite_by": "apalike",
   "current_citInitial": 1,
   "eqLabelWithNumbers": true,
   "eqNumInitial": 1,
   "hotkeys": {
    "equation": "Ctrl-E",
    "itemize": "Ctrl-I"
   },
   "labels_anchors": false,
   "latex_user_defs": false,
   "report_style_numbering": false,
   "user_envs_cfg": false
  },
  "varInspector": {
   "cols": {
    "lenName": 16,
    "lenType": 16,
    "lenVar": 40
   },
   "kernels_config": {
    "python": {
     "delete_cmd_postfix": "",
     "delete_cmd_prefix": "del ",
     "library": "var_list.py",
     "varRefreshCmd": "print(var_dic_list())"
    },
    "r": {
     "delete_cmd_postfix": ") ",
     "delete_cmd_prefix": "rm(",
     "library": "var_list.r",
     "varRefreshCmd": "cat(var_dic_list()) "
    }
   },
   "types_to_exclude": [
    "module",
    "function",
    "builtin_function_or_method",
    "instance",
    "_Feature"
   ],
   "window_display": false
  }
 },
 "nbformat": 4,
 "nbformat_minor": 2
}
