{
 "cells": [
  {
   "cell_type": "code",
   "execution_count": 10,
   "metadata": {
    "ExecuteTime": {
     "end_time": "2021-03-11T02:44:27.611449Z",
     "start_time": "2021-03-11T02:44:27.599298Z"
    }
   },
   "outputs": [
    {
     "data": {
      "text/plain": [
       "['abcd', 'pqrst', 'mnopqr']"
      ]
     },
     "execution_count": 10,
     "metadata": {},
     "output_type": "execute_result"
    }
   ],
   "source": [
    "# List Comprehension - [expr for var in seq if cond]\n",
    "\n",
    "# List of square of all even numbers between 1 to 10\n",
    "# out_lst = []\n",
    "# for i in range(1, 11):\n",
    "#     if i%2 == 0:\n",
    "#         out_lst.append(i**2)\n",
    "# print(out_lst)\n",
    "\n",
    "# [1 for i in range(10)]\n",
    "\n",
    "# lst = [var**2 for var in range(1, 11) if var%2 == 0]\n",
    "# print(lst)\n",
    "\n",
    "email_lst = ['abc@gmail.com', 'abcd@yahoo.com', 'pqrst@hotmail.com', 'mnopqr@gmail.com', 'pqr@rediffmail.com']\n",
    "# out_lst =['abc', 'abcd', 'pqrst', 'mnopqr', 'pqr']\n",
    "# [var.split()[0] for var in email_lst]\n",
    "# [var.split('@')[0] for var in email_lst]\n",
    "# [var[:var.index('@')] for var in email_lst if len(var[:var.index('@')])>3]\n",
    "\n",
    "\n",
    "\n",
    "\n",
    "\n",
    "\n",
    "\n",
    "\n",
    "\n"
   ]
  },
  {
   "cell_type": "markdown",
   "metadata": {},
   "source": [
    "# Tuple"
   ]
  },
  {
   "cell_type": "code",
   "execution_count": 29,
   "metadata": {
    "ExecuteTime": {
     "end_time": "2021-03-11T02:56:26.343951Z",
     "start_time": "2021-03-11T02:56:23.529687Z"
    }
   },
   "outputs": [
    {
     "name": "stdout",
     "output_type": "stream",
     "text": [
      "Enter a tuple:(10,)\n",
      "(10,) <class 'tuple'>\n"
     ]
    }
   ],
   "source": [
    "# Tuple - values kept inside () seprated by comma\n",
    "# Parenthesis are optional\n",
    "# Tuple is immutble object\n",
    "# Tuple can have duplicate elements\n",
    "# Tuple is a collection of heterogeneous elements\n",
    "# Tuple is a seq - Indexing, Slicing, Concatenation, Repetition, Length, Membership, Identity\n",
    "\n",
    "\n",
    "\n",
    "# Creation of tuple\n",
    "# tpl = (10,10.20, 10+20j, 'Python', [10,20,30], (1,2,3), None, True)\n",
    "# print(tpl, type(tpl))\n",
    "\n",
    "# Tuple packing\n",
    "# tpl = 10,10.20, 10+20j, 'Python', [10,20,30], (1,2,3), None, True\n",
    "# print(tpl, type(tpl))\n",
    "\n",
    "\n",
    "# Creation a tuple with single element\n",
    "# tpl = 10,\n",
    "# print(tpl, type(tpl))\n",
    "\n",
    "\n",
    "# Creating tuple using tuple function\n",
    "# print(tuple(('Python',)))\n",
    "# print(tuple((1,2,3,4)))\n",
    "# print(tuple([1,2,3,4]))\n",
    "# print(tuple({1:100, 2:200, 3:300}))\n",
    "# tuple(10) # TypeError: 'int' object is not iterable\n",
    "\n",
    "\n",
    "# Using eval(input())\n",
    "tpl = eval(input('Enter a tuple:'))\n",
    "print(tpl, type(tpl))\n",
    "\n",
    "\n"
   ]
  },
  {
   "cell_type": "code",
   "execution_count": 31,
   "metadata": {
    "ExecuteTime": {
     "end_time": "2021-03-11T02:57:42.875898Z",
     "start_time": "2021-03-11T02:57:42.870118Z"
    }
   },
   "outputs": [
    {
     "name": "stdout",
     "output_type": "stream",
     "text": [
      "(10, 20, 30, 40) <class 'tuple'>\n"
     ]
    }
   ],
   "source": [
    "# Tuple is immutable object\n",
    "# tpl = (10,20,30,40)\n",
    "# # tpl[0] = 111             # TypeError: 'tuple' object does not support item assignment\n",
    "# print(tpl, type(tpl))\n",
    "\n"
   ]
  },
  {
   "cell_type": "code",
   "execution_count": 43,
   "metadata": {
    "ExecuteTime": {
     "end_time": "2021-03-11T03:03:17.813302Z",
     "start_time": "2021-03-11T03:03:17.807379Z"
    }
   },
   "outputs": [
    {
     "name": "stdout",
     "output_type": "stream",
     "text": [
      "True\n"
     ]
    }
   ],
   "source": [
    "# Basic Operation\n",
    "\n",
    "tpl = (10,10.20, 10+20j, 'Python',10, 10.20, True, None)\n",
    "# print('Length of Tuple: ', len(tpl))\n",
    "# print('Accessing first element: ', tpl[0])\n",
    "# print('Accessing first element: ', tpl[-8])\n",
    "# print('Accessing first element: ', tpl[-len(tpl)])\n",
    "# print('Accessing last element: ', tpl[-1])\n",
    "# print('Accessing last element: ', tpl[7])\n",
    "# print('Accessing last element: ', tpl[len(tpl)-1])\n",
    "\n",
    "# Slicing (10+20j, 'Python',10)\n",
    "# print(tpl[2:5])\n",
    "# print(tpl[4:1:-1])\n",
    "\n",
    "# Concatenation\n",
    "# tpl1 = (1,2,3,4)\n",
    "# print(tpl+tpl1)\n",
    "# print(tpl)\n",
    "# print(tpl1)\n",
    "\n",
    "\n",
    "# Repetition\n",
    "# print(tpl * 3)\n",
    "\n",
    "# Membership\n",
    "print(\"Python\" in tpl)\n",
    "\n",
    "\n"
   ]
  },
  {
   "cell_type": "code",
   "execution_count": 1,
   "metadata": {
    "ExecuteTime": {
     "end_time": "2021-03-11T03:10:52.851607Z",
     "start_time": "2021-03-11T03:10:52.838055Z"
    }
   },
   "outputs": [
    {
     "name": "stdout",
     "output_type": "stream",
     "text": [
      "0\n",
      "2\n",
      "5\n",
      "8\n",
      "10\n",
      "12\n",
      "15\n",
      "7\n"
     ]
    }
   ],
   "source": [
    "# print(dir(tpl))\n",
    "\n",
    "# 'count', 'index'\n",
    "\n",
    "tpl = (10, 10+20j, 10, 20, 1,10, 100,200, 10, 9, 10, 80, 10, 90, 89, 10)\n",
    "# print(tpl.count(10))\n",
    "# print(tpl.index(10))\n",
    "c= 0\n",
    "ind = -1\n",
    "while True:\n",
    "    try:\n",
    "        ind = tpl.index(10, ind+1)\n",
    "    except:\n",
    "        break\n",
    "    c = c+1\n",
    "    print(ind)\n",
    "print(c)\n",
    "\n",
    "\n"
   ]
  },
  {
   "cell_type": "code",
   "execution_count": 61,
   "metadata": {
    "ExecuteTime": {
     "end_time": "2021-03-11T03:20:34.672501Z",
     "start_time": "2021-03-11T03:20:34.661464Z"
    }
   },
   "outputs": [
    {
     "name": "stdout",
     "output_type": "stream",
     "text": [
      "10 (20+30j) Python 40 50 60\n"
     ]
    }
   ],
   "source": [
    "# Tuple packing and Unpacking\n",
    "a = 20\n",
    "b = 10+20j\n",
    "c = 10.20\n",
    "d = True\n",
    "e = None\n",
    "f = 'Python'\n",
    "\n",
    "# tpl = a,b,c,d,e,f   # Tuple packing\n",
    "# print(tpl)\n",
    "\n",
    "\n",
    "# Unpacking\n",
    "\n",
    "lst = (10,20+30j,'Python',40,50,60)\n",
    "a,b,c,d,e,f = lst\n",
    "print(a,b,c,d,e,f)\n",
    "\n",
    "\n",
    "\n"
   ]
  },
  {
   "cell_type": "markdown",
   "metadata": {},
   "source": [
    "# Dictionary"
   ]
  },
  {
   "cell_type": "code",
   "execution_count": null,
   "metadata": {},
   "outputs": [],
   "source": [
    "# Dictionary is a collection of key value pair, \n",
    "# Key value pair is called item or element of dictionary, \n",
    "# key:value \n",
    "# Dictionary is not a seq\n",
    "# Value are mapped to key so we canaccess the value using key\n",
    "# Key should be immutable type only\n",
    "# Key can not be duplicated\n",
    "# Dictionary is mutable"
   ]
  },
  {
   "cell_type": "code",
   "execution_count": 65,
   "metadata": {
    "ExecuteTime": {
     "end_time": "2021-03-11T03:25:43.257875Z",
     "start_time": "2021-03-11T03:25:43.248763Z"
    }
   },
   "outputs": [
    {
     "name": "stdout",
     "output_type": "stream",
     "text": [
      "{1: 100, 10.2: 100.29, 'abfg': 'Python', 2: 'Class', None: True, (1, 2, 30): [10, 20, 30]} <class 'dict'>\n"
     ]
    }
   ],
   "source": [
    "d1 = {1:100, 10.20:100.29, 'abfg':'Python', 2:'Class', None: True, (1,2,30):[10,20,30]}\n",
    "print(d1, type(d1))"
   ]
  },
  {
   "cell_type": "code",
   "execution_count": 4,
   "metadata": {
    "ExecuteTime": {
     "end_time": "2021-03-11T03:54:33.691009Z",
     "start_time": "2021-03-11T03:54:33.684737Z"
    }
   },
   "outputs": [
    {
     "data": {
      "text/plain": [
       "{0: 10, 1: 20.4, 2: (30+50j), 3: 'Python', 4: 50}"
      ]
     },
     "execution_count": 4,
     "metadata": {},
     "output_type": "execute_result"
    }
   ],
   "source": [
    "# Using dict function\n",
    "# dict([(1, 100), (10+20j, 100.20), ('abc', 'Python'), ((1,2,3), [11, 22, 33])])\n",
    "dict(((1, 100), (10+20j, 100.20), ('abc', 'Python'), ((1,2,3), [11, 22, 33])))\n",
    "# dict(([1, 100], [10+20j, 100.20], ['abc', 'Python'], [(1,2,3), [11, 22, 33]]))\n",
    "# dict([[1, 100], [10+20j, 100.20], ['abc', 'Python'], [(1,2,3), [11, 22, 33]]])\n",
    "\n",
    "email_lst = ['abc@gmail.com', 'abcd@yahoo.com', 'pqrst@hotmail.com', 'mnopqr@gmail.com', 'pqr@rediffmail.com']\n",
    "usr_name = [var.split('@')[0] for var in email_lst]\n",
    "# item = []\n",
    "# for i in range(5):\n",
    "#     item.append([usr_name[i],email_lst[i]])\n",
    "# print(item)\n",
    "# print((dict(item)))\n",
    "\n",
    "# dict(zip(usr_name, email_lst))\n",
    "\n",
    "# dict(enumerate([10,20.40,30+50j,'Python',50]))\n",
    "\n",
    "# dict(enumerate(email_lst))\n",
    "\n",
    "# for i in enumerate('Python'):\n",
    "#     print(i)\n",
    "\n",
    "# abc((10, 20, 30))\n",
    "\n"
   ]
  },
  {
   "cell_type": "code",
   "execution_count": 93,
   "metadata": {
    "ExecuteTime": {
     "end_time": "2021-03-11T03:54:36.650120Z",
     "start_time": "2021-03-11T03:54:36.646798Z"
    }
   },
   "outputs": [],
   "source": [
    "# print(dir(__builtins__))"
   ]
  },
  {
   "cell_type": "code",
   "execution_count": 94,
   "metadata": {
    "ExecuteTime": {
     "end_time": "2021-03-11T03:55:30.269597Z",
     "start_time": "2021-03-11T03:55:23.870654Z"
    }
   },
   "outputs": [
    {
     "name": "stdout",
     "output_type": "stream",
     "text": [
      "ENter a dictionary: {1:100, 2:200, 3:300}\n",
      "{1: 100, 2: 200, 3: 300} <class 'dict'>\n"
     ]
    }
   ],
   "source": [
    "# Creating dictionary using eval(input())\n",
    "d = eval(input('ENter a dictionary: '))\n",
    "print(d, type(d))"
   ]
  },
  {
   "cell_type": "code",
   "execution_count": 101,
   "metadata": {
    "ExecuteTime": {
     "end_time": "2021-03-11T03:59:57.351954Z",
     "start_time": "2021-03-11T03:59:57.325610Z"
    }
   },
   "outputs": [
    {
     "ename": "KeyError",
     "evalue": "'abcd'",
     "output_type": "error",
     "traceback": [
      "\u001b[0;31m---------------------------------------------------------------------------\u001b[0m",
      "\u001b[0;31mKeyError\u001b[0m                                  Traceback (most recent call last)",
      "\u001b[0;32m<ipython-input-101-c1ee484d558f>\u001b[0m in \u001b[0;36m<module>\u001b[0;34m\u001b[0m\n\u001b[1;32m      2\u001b[0m \u001b[0md1\u001b[0m \u001b[0;34m=\u001b[0m \u001b[0;34m{\u001b[0m\u001b[0;36m1\u001b[0m\u001b[0;34m:\u001b[0m\u001b[0;36m100\u001b[0m\u001b[0;34m,\u001b[0m \u001b[0;36m10.20\u001b[0m\u001b[0;34m:\u001b[0m\u001b[0;36m100.29\u001b[0m\u001b[0;34m,\u001b[0m \u001b[0;34m'abfg'\u001b[0m\u001b[0;34m:\u001b[0m\u001b[0;34m'Python'\u001b[0m\u001b[0;34m,\u001b[0m \u001b[0;36m2\u001b[0m\u001b[0;34m:\u001b[0m\u001b[0;34m'Class'\u001b[0m\u001b[0;34m,\u001b[0m \u001b[0;32mNone\u001b[0m\u001b[0;34m:\u001b[0m \u001b[0;32mTrue\u001b[0m\u001b[0;34m,\u001b[0m \u001b[0;34m(\u001b[0m\u001b[0;36m1\u001b[0m\u001b[0;34m,\u001b[0m\u001b[0;36m2\u001b[0m\u001b[0;34m,\u001b[0m\u001b[0;36m30\u001b[0m\u001b[0;34m)\u001b[0m\u001b[0;34m:\u001b[0m\u001b[0;34m[\u001b[0m\u001b[0;36m10\u001b[0m\u001b[0;34m,\u001b[0m\u001b[0;36m20\u001b[0m\u001b[0;34m,\u001b[0m\u001b[0;36m30\u001b[0m\u001b[0;34m]\u001b[0m\u001b[0;34m}\u001b[0m\u001b[0;34m\u001b[0m\u001b[0;34m\u001b[0m\u001b[0m\n\u001b[1;32m      3\u001b[0m \u001b[0;31m# print(d1['abfg'])\u001b[0m\u001b[0;34m\u001b[0m\u001b[0;34m\u001b[0m\u001b[0;34m\u001b[0m\u001b[0m\n\u001b[0;32m----> 4\u001b[0;31m \u001b[0mprint\u001b[0m\u001b[0;34m(\u001b[0m\u001b[0md1\u001b[0m\u001b[0;34m[\u001b[0m\u001b[0;34m'abcd'\u001b[0m\u001b[0;34m]\u001b[0m\u001b[0;34m)\u001b[0m\u001b[0;34m\u001b[0m\u001b[0;34m\u001b[0m\u001b[0m\n\u001b[0m\u001b[1;32m      5\u001b[0m \u001b[0;34m\u001b[0m\u001b[0m\n\u001b[1;32m      6\u001b[0m \u001b[0;34m\u001b[0m\u001b[0m\n",
      "\u001b[0;31mKeyError\u001b[0m: 'abcd'"
     ]
    }
   ],
   "source": [
    "# Accessing element from a dictionary\n",
    "d1 = {1:100, 10.20:100.29, 'abfg':'Python', 2:'Class', None: True, (1,2,30):[10,20,30]}\n",
    "# print(d1['abfg'])\n",
    "# print(d1['abcd'])\n",
    "\n",
    "\n",
    "\n",
    "\n"
   ]
  },
  {
   "cell_type": "code",
   "execution_count": 98,
   "metadata": {
    "ExecuteTime": {
     "end_time": "2021-03-11T03:58:01.325602Z",
     "start_time": "2021-03-11T03:58:01.317713Z"
    }
   },
   "outputs": [],
   "source": [
    "# print(dir(dict))\n",
    "\n",
    "# 'copy', "
   ]
  },
  {
   "cell_type": "code",
   "execution_count": 104,
   "metadata": {
    "ExecuteTime": {
     "end_time": "2021-03-11T04:02:05.508867Z",
     "start_time": "2021-03-11T04:02:05.499336Z"
    }
   },
   "outputs": [
    {
     "name": "stdout",
     "output_type": "stream",
     "text": [
      "Python\n",
      "No key\n",
      "{1: 100, 10.2: 100.29, 'abfg': 'Python', 2: 'Class', None: True, (1, 2, 30): [10, 20, 30]}\n"
     ]
    }
   ],
   "source": [
    "# get - d1.get(key, default=None, /)\n",
    "# Return the value for key if key is in the dictionary, else default.\n",
    "\n",
    "# d1 = {1:100, 10.20:100.29, 'abfg':'Python', 2:'Class', None: True, (1,2,30):[10,20,30]}\n",
    "# print(d1.get('abfg', 'No key'))\n",
    "# # print(d1.get('abcd'))\n",
    "# print(d1.get('abcd', 'No key'))\n",
    "# print(d1)"
   ]
  },
  {
   "cell_type": "code",
   "execution_count": 107,
   "metadata": {
    "ExecuteTime": {
     "end_time": "2021-03-11T04:04:52.525466Z",
     "start_time": "2021-03-11T04:04:52.518881Z"
    }
   },
   "outputs": [
    {
     "name": "stdout",
     "output_type": "stream",
     "text": [
      "Class\n"
     ]
    }
   ],
   "source": [
    "d2 = {1:100, 2:200, 3:300, 1:100.200, 'abfg':'Python', 'abfg':'Class'}\n",
    "print(d2.get('abfg'))"
   ]
  },
  {
   "cell_type": "code",
   "execution_count": 112,
   "metadata": {
    "ExecuteTime": {
     "end_time": "2021-03-11T04:12:23.129243Z",
     "start_time": "2021-03-11T04:12:23.122898Z"
    }
   },
   "outputs": [],
   "source": [
    "# setdefault - d1.setdefault(key, default=None, /)\n",
    "# Insert key with a value of default if key is not in the dictionary.\n",
    "\n",
    "# Return the value for key if key is in the dictionary, else default.\n",
    "\n",
    "d1 = {1:100, 10.20:100.29, 'abfg':'Python', 2:'Class', None: True, (1,2,30):[10,20,30]}\n",
    "# d1.setdefault('abfg')\n",
    "# print(d1.setdefault('abfg', 'No keys'))\n",
    "\n",
    "# d1.setdefault('abcd', 'No keys')\n",
    "# print(d1)"
   ]
  },
  {
   "cell_type": "code",
   "execution_count": 113,
   "metadata": {
    "ExecuteTime": {
     "end_time": "2021-03-11T04:12:49.338432Z",
     "start_time": "2021-03-11T04:12:49.333454Z"
    }
   },
   "outputs": [
    {
     "name": "stdout",
     "output_type": "stream",
     "text": [
      "{1: 111, 10.2: 100.29, 'abfg': 'Python', 2: 200, None: True, (1, 2, 30): [10, 20, 30], 3: 300}\n"
     ]
    }
   ],
   "source": [
    "# 'update', - similar to extend method\n",
    "# d1.update(d2) - updates d1 with d2\n",
    "\n",
    "d1.update({1:111, 2:200, 3:300})\n",
    "print(d1)\n",
    "\n",
    "\n",
    "\n",
    "\n",
    "\n"
   ]
  },
  {
   "cell_type": "code",
   "execution_count": 116,
   "metadata": {
    "ExecuteTime": {
     "end_time": "2021-03-11T04:15:29.425482Z",
     "start_time": "2021-03-11T04:15:29.414377Z"
    }
   },
   "outputs": [
    {
     "name": "stdout",
     "output_type": "stream",
     "text": [
      "Python\n",
      "{1: 111, 10.2: 100.29, 2: 200, None: True, (1, 2, 30): [10, 20, 30], 3: 300}\n"
     ]
    }
   ],
   "source": [
    "# pop, popitem, clear\n",
    "# d1.pop(4, 'No keys')\n",
    "\n",
    "print(d1.pop('abfg'))\n",
    "print(d1)\n",
    "\n",
    "\n"
   ]
  },
  {
   "cell_type": "code",
   "execution_count": 117,
   "metadata": {
    "ExecuteTime": {
     "end_time": "2021-03-11T04:16:40.675582Z",
     "start_time": "2021-03-11T04:16:40.665565Z"
    }
   },
   "outputs": [
    {
     "data": {
      "text/plain": [
       "(3, 300)"
      ]
     },
     "execution_count": 117,
     "metadata": {},
     "output_type": "execute_result"
    }
   ],
   "source": [
    "d1.popitem()"
   ]
  },
  {
   "cell_type": "code",
   "execution_count": 120,
   "metadata": {
    "ExecuteTime": {
     "end_time": "2021-03-11T04:17:39.058886Z",
     "start_time": "2021-03-11T04:17:39.049002Z"
    }
   },
   "outputs": [
    {
     "name": "stdout",
     "output_type": "stream",
     "text": [
      "{1: 111, 10.2: 100.29, 2: 200, None: True, (1, 2, 30): [10, 20, 30]}\n",
      "{}\n"
     ]
    }
   ],
   "source": [
    "print(d1)\n",
    "# clear - clears the dicionary, but does not delete the dictionary\n",
    "d1.clear()\n",
    "print(d1)"
   ]
  },
  {
   "cell_type": "code",
   "execution_count": 128,
   "metadata": {
    "ExecuteTime": {
     "end_time": "2021-03-11T04:21:45.239917Z",
     "start_time": "2021-03-11T04:21:45.229926Z"
    }
   },
   "outputs": [
    {
     "name": "stdout",
     "output_type": "stream",
     "text": [
      "[1, 10.2, 'abfg', 2, None, (1, 2, 30)]\n",
      "dict_values([100, 100.29, 'Python', 'Class', True, [10, 20, 30]])\n",
      "dict_items([(1, 100), (10.2, 100.29), ('abfg', 'Python'), (2, 'Class'), (None, True), ((1, 2, 30), [10, 20, 30])])\n"
     ]
    }
   ],
   "source": [
    "# 'items', 'keys',  'values'\n",
    "\n",
    "d1 = {1:100, 10.20:100.29, 'abfg':'Python', 2:'Class', None: True, (1,2,30):[10,20,30]}\n",
    "print(list(d1.keys()))\n",
    "print(d1.values())\n",
    "print(d1.items())\n",
    "\n",
    "\n",
    "\n",
    "\n"
   ]
  },
  {
   "cell_type": "code",
   "execution_count": 131,
   "metadata": {
    "ExecuteTime": {
     "end_time": "2021-03-11T04:23:00.442579Z",
     "start_time": "2021-03-11T04:23:00.433504Z"
    }
   },
   "outputs": [
    {
     "name": "stdout",
     "output_type": "stream",
     "text": [
      "{1: [10, 20, 30], 2: [10, 20, 30], 3: [10, 20, 30], 4: [10, 20, 30], 5: [10, 20, 30]}\n"
     ]
    }
   ],
   "source": [
    "# 'fromkeys', \n",
    "# Create a new dictionary with keys from iterable and values set to value.\n",
    "\n",
    "# d1 = {}\n",
    "d1 = d1.fromkeys([1,2,3,4,5,], [10,20,30])\n",
    "print(d1)\n",
    "\n"
   ]
  },
  {
   "cell_type": "code",
   "execution_count": 132,
   "metadata": {
    "ExecuteTime": {
     "end_time": "2021-03-11T04:24:29.136408Z",
     "start_time": "2021-03-11T04:24:29.127655Z"
    }
   },
   "outputs": [
    {
     "data": {
      "text/plain": [
       "{'abc': 'abc@gmail.com',\n",
       " 'abcd': 'abcd@yahoo.com',\n",
       " 'pqrst': 'pqrst@hotmail.com',\n",
       " 'mnopqr': 'mnopqr@gmail.com',\n",
       " 'pqr': 'pqr@rediffmail.com'}"
      ]
     },
     "execution_count": 132,
     "metadata": {},
     "output_type": "execute_result"
    }
   ],
   "source": [
    "# Dictionary comprehension - {key:expr for loop if cond}\n",
    "email_lst = ['abc@gmail.com', 'abcd@yahoo.com', 'pqrst@hotmail.com', 'mnopqr@gmail.com', 'pqr@rediffmail.com']\n",
    "usr_name = [var.split('@')[0] for var in email_lst]\n",
    "\n",
    "{usr_name[i]:email_lst[i] for i in range(5)}\n",
    "\n"
   ]
  },
  {
   "cell_type": "code",
   "execution_count": 135,
   "metadata": {
    "ExecuteTime": {
     "end_time": "2021-03-11T04:27:48.148830Z",
     "start_time": "2021-03-11T04:27:48.131466Z"
    }
   },
   "outputs": [
    {
     "name": "stdout",
     "output_type": "stream",
     "text": [
      "['abc', 'abcd', 'pqrst', 'mnopqr', 'pqr'] <class 'list'>\n",
      "('abc', 'abcd', 'pqrst', 'mnopqr', 'pqr') <class 'tuple'>\n"
     ]
    }
   ],
   "source": [
    "email_lst = ['abc@gmail.com', 'abcd@yahoo.com', 'pqrst@hotmail.com', 'mnopqr@gmail.com', 'pqr@rediffmail.com']\n",
    "\n",
    "email_lst = [var.split('@')[0] for var in email_lst ]\n",
    "print(email_lst, type(email_lst))\n",
    "\n",
    "email_lst_tup = tuple(email_lst)\n",
    "print(email_lst_tup, type(email_lst_tup))\n",
    "\n",
    "email_lst = list(email_lst_tup)"
   ]
  },
  {
   "cell_type": "code",
   "execution_count": null,
   "metadata": {},
   "outputs": [],
   "source": []
  },
  {
   "cell_type": "code",
   "execution_count": null,
   "metadata": {},
   "outputs": [],
   "source": []
  },
  {
   "cell_type": "code",
   "execution_count": null,
   "metadata": {},
   "outputs": [],
   "source": []
  },
  {
   "cell_type": "code",
   "execution_count": null,
   "metadata": {},
   "outputs": [],
   "source": []
  },
  {
   "cell_type": "code",
   "execution_count": null,
   "metadata": {},
   "outputs": [],
   "source": []
  },
  {
   "cell_type": "code",
   "execution_count": null,
   "metadata": {},
   "outputs": [],
   "source": []
  },
  {
   "cell_type": "code",
   "execution_count": null,
   "metadata": {},
   "outputs": [],
   "source": []
  },
  {
   "cell_type": "code",
   "execution_count": null,
   "metadata": {},
   "outputs": [],
   "source": []
  },
  {
   "cell_type": "code",
   "execution_count": null,
   "metadata": {},
   "outputs": [],
   "source": []
  },
  {
   "cell_type": "code",
   "execution_count": null,
   "metadata": {},
   "outputs": [],
   "source": []
  },
  {
   "cell_type": "code",
   "execution_count": null,
   "metadata": {},
   "outputs": [],
   "source": []
  },
  {
   "cell_type": "code",
   "execution_count": null,
   "metadata": {},
   "outputs": [],
   "source": []
  },
  {
   "cell_type": "code",
   "execution_count": null,
   "metadata": {},
   "outputs": [],
   "source": []
  },
  {
   "cell_type": "code",
   "execution_count": null,
   "metadata": {},
   "outputs": [],
   "source": []
  },
  {
   "cell_type": "code",
   "execution_count": null,
   "metadata": {},
   "outputs": [],
   "source": []
  },
  {
   "cell_type": "code",
   "execution_count": null,
   "metadata": {},
   "outputs": [],
   "source": []
  },
  {
   "cell_type": "code",
   "execution_count": null,
   "metadata": {},
   "outputs": [],
   "source": []
  },
  {
   "cell_type": "code",
   "execution_count": null,
   "metadata": {},
   "outputs": [],
   "source": []
  },
  {
   "cell_type": "code",
   "execution_count": null,
   "metadata": {},
   "outputs": [],
   "source": []
  },
  {
   "cell_type": "code",
   "execution_count": null,
   "metadata": {},
   "outputs": [],
   "source": []
  },
  {
   "cell_type": "code",
   "execution_count": null,
   "metadata": {},
   "outputs": [],
   "source": []
  },
  {
   "cell_type": "code",
   "execution_count": null,
   "metadata": {},
   "outputs": [],
   "source": []
  },
  {
   "cell_type": "code",
   "execution_count": null,
   "metadata": {},
   "outputs": [],
   "source": []
  },
  {
   "cell_type": "code",
   "execution_count": null,
   "metadata": {},
   "outputs": [],
   "source": []
  },
  {
   "cell_type": "code",
   "execution_count": null,
   "metadata": {},
   "outputs": [],
   "source": []
  },
  {
   "cell_type": "code",
   "execution_count": null,
   "metadata": {},
   "outputs": [],
   "source": []
  },
  {
   "cell_type": "code",
   "execution_count": null,
   "metadata": {},
   "outputs": [],
   "source": []
  },
  {
   "cell_type": "code",
   "execution_count": null,
   "metadata": {},
   "outputs": [],
   "source": []
  },
  {
   "cell_type": "code",
   "execution_count": null,
   "metadata": {},
   "outputs": [],
   "source": []
  },
  {
   "cell_type": "code",
   "execution_count": null,
   "metadata": {},
   "outputs": [],
   "source": []
  },
  {
   "cell_type": "code",
   "execution_count": null,
   "metadata": {},
   "outputs": [],
   "source": []
  },
  {
   "cell_type": "code",
   "execution_count": null,
   "metadata": {},
   "outputs": [],
   "source": []
  },
  {
   "cell_type": "code",
   "execution_count": null,
   "metadata": {},
   "outputs": [],
   "source": []
  },
  {
   "cell_type": "code",
   "execution_count": null,
   "metadata": {},
   "outputs": [],
   "source": []
  },
  {
   "cell_type": "code",
   "execution_count": null,
   "metadata": {},
   "outputs": [],
   "source": []
  },
  {
   "cell_type": "code",
   "execution_count": null,
   "metadata": {},
   "outputs": [],
   "source": []
  },
  {
   "cell_type": "code",
   "execution_count": null,
   "metadata": {},
   "outputs": [],
   "source": []
  },
  {
   "cell_type": "code",
   "execution_count": null,
   "metadata": {},
   "outputs": [],
   "source": []
  },
  {
   "cell_type": "code",
   "execution_count": null,
   "metadata": {},
   "outputs": [],
   "source": []
  },
  {
   "cell_type": "code",
   "execution_count": null,
   "metadata": {},
   "outputs": [],
   "source": []
  },
  {
   "cell_type": "code",
   "execution_count": null,
   "metadata": {},
   "outputs": [],
   "source": []
  },
  {
   "cell_type": "code",
   "execution_count": null,
   "metadata": {},
   "outputs": [],
   "source": []
  },
  {
   "cell_type": "code",
   "execution_count": null,
   "metadata": {},
   "outputs": [],
   "source": []
  },
  {
   "cell_type": "code",
   "execution_count": null,
   "metadata": {},
   "outputs": [],
   "source": []
  },
  {
   "cell_type": "code",
   "execution_count": null,
   "metadata": {},
   "outputs": [],
   "source": []
  },
  {
   "cell_type": "code",
   "execution_count": null,
   "metadata": {},
   "outputs": [],
   "source": []
  },
  {
   "cell_type": "code",
   "execution_count": null,
   "metadata": {},
   "outputs": [],
   "source": []
  },
  {
   "cell_type": "code",
   "execution_count": null,
   "metadata": {},
   "outputs": [],
   "source": []
  },
  {
   "cell_type": "code",
   "execution_count": null,
   "metadata": {},
   "outputs": [],
   "source": []
  },
  {
   "cell_type": "code",
   "execution_count": null,
   "metadata": {},
   "outputs": [],
   "source": []
  },
  {
   "cell_type": "code",
   "execution_count": null,
   "metadata": {},
   "outputs": [],
   "source": []
  },
  {
   "cell_type": "code",
   "execution_count": null,
   "metadata": {},
   "outputs": [],
   "source": []
  },
  {
   "cell_type": "code",
   "execution_count": null,
   "metadata": {},
   "outputs": [],
   "source": []
  },
  {
   "cell_type": "code",
   "execution_count": null,
   "metadata": {},
   "outputs": [],
   "source": []
  },
  {
   "cell_type": "code",
   "execution_count": null,
   "metadata": {},
   "outputs": [],
   "source": []
  },
  {
   "cell_type": "code",
   "execution_count": null,
   "metadata": {},
   "outputs": [],
   "source": []
  },
  {
   "cell_type": "code",
   "execution_count": null,
   "metadata": {},
   "outputs": [],
   "source": []
  },
  {
   "cell_type": "code",
   "execution_count": null,
   "metadata": {},
   "outputs": [],
   "source": []
  },
  {
   "cell_type": "code",
   "execution_count": null,
   "metadata": {},
   "outputs": [],
   "source": []
  },
  {
   "cell_type": "code",
   "execution_count": null,
   "metadata": {},
   "outputs": [],
   "source": []
  },
  {
   "cell_type": "code",
   "execution_count": null,
   "metadata": {},
   "outputs": [],
   "source": []
  },
  {
   "cell_type": "code",
   "execution_count": null,
   "metadata": {},
   "outputs": [],
   "source": []
  },
  {
   "cell_type": "code",
   "execution_count": null,
   "metadata": {},
   "outputs": [],
   "source": []
  },
  {
   "cell_type": "code",
   "execution_count": null,
   "metadata": {},
   "outputs": [],
   "source": []
  },
  {
   "cell_type": "code",
   "execution_count": null,
   "metadata": {},
   "outputs": [],
   "source": []
  },
  {
   "cell_type": "code",
   "execution_count": null,
   "metadata": {},
   "outputs": [],
   "source": []
  },
  {
   "cell_type": "code",
   "execution_count": null,
   "metadata": {},
   "outputs": [],
   "source": []
  },
  {
   "cell_type": "code",
   "execution_count": null,
   "metadata": {},
   "outputs": [],
   "source": []
  },
  {
   "cell_type": "code",
   "execution_count": null,
   "metadata": {},
   "outputs": [],
   "source": []
  },
  {
   "cell_type": "code",
   "execution_count": null,
   "metadata": {},
   "outputs": [],
   "source": []
  }
 ],
 "metadata": {
  "kernelspec": {
   "display_name": "Python 3",
   "language": "python",
   "name": "python3"
  },
  "language_info": {
   "codemirror_mode": {
    "name": "ipython",
    "version": 3
   },
   "file_extension": ".py",
   "mimetype": "text/x-python",
   "name": "python",
   "nbconvert_exporter": "python",
   "pygments_lexer": "ipython3",
   "version": "3.8.5"
  },
  "latex_envs": {
   "LaTeX_envs_menu_present": true,
   "autoclose": false,
   "autocomplete": true,
   "bibliofile": "biblio.bib",
   "cite_by": "apalike",
   "current_citInitial": 1,
   "eqLabelWithNumbers": true,
   "eqNumInitial": 1,
   "hotkeys": {
    "equation": "Ctrl-E",
    "itemize": "Ctrl-I"
   },
   "labels_anchors": false,
   "latex_user_defs": false,
   "report_style_numbering": false,
   "user_envs_cfg": false
  },
  "varInspector": {
   "cols": {
    "lenName": 16,
    "lenType": 16,
    "lenVar": 40
   },
   "kernels_config": {
    "python": {
     "delete_cmd_postfix": "",
     "delete_cmd_prefix": "del ",
     "library": "var_list.py",
     "varRefreshCmd": "print(var_dic_list())"
    },
    "r": {
     "delete_cmd_postfix": ") ",
     "delete_cmd_prefix": "rm(",
     "library": "var_list.r",
     "varRefreshCmd": "cat(var_dic_list()) "
    }
   },
   "types_to_exclude": [
    "module",
    "function",
    "builtin_function_or_method",
    "instance",
    "_Feature"
   ],
   "window_display": false
  }
 },
 "nbformat": 4,
 "nbformat_minor": 2
}
