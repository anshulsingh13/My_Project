{
 "cells": [
  {
   "cell_type": "code",
   "execution_count": 9,
   "metadata": {
    "ExecuteTime": {
     "end_time": "2021-03-03T02:38:21.794406Z",
     "start_time": "2021-03-03T02:38:18.038011Z"
    }
   },
   "outputs": [
    {
     "name": "stdout",
     "output_type": "stream",
     "text": [
      "Enter a number: [10,20,30]\n",
      "[10, 20, 30] <class 'list'>\n"
     ]
    }
   ],
   "source": [
    "# Input and Output functions in Python\n",
    "# num = int(input('Enter a number: '))\n",
    "# print(num, type(num))\n",
    "\n",
    "\n",
    "# num = eval(input('Enter a number: '))\n",
    "# print(num, type(num))\n",
    "\n",
    "\n",
    "\n"
   ]
  },
  {
   "cell_type": "code",
   "execution_count": 2,
   "metadata": {
    "ExecuteTime": {
     "end_time": "2021-03-03T02:35:36.855767Z",
     "start_time": "2021-03-03T02:35:36.849434Z"
    }
   },
   "outputs": [
    {
     "name": "stdout",
     "output_type": "stream",
     "text": [
      "30 <class 'int'>\n"
     ]
    }
   ],
   "source": [
    "num1 = eval('10+20')\n",
    "print(num1, type(num1))"
   ]
  },
  {
   "cell_type": "code",
   "execution_count": 3,
   "metadata": {
    "ExecuteTime": {
     "end_time": "2021-03-03T02:36:11.252442Z",
     "start_time": "2021-03-03T02:36:11.244679Z"
    }
   },
   "outputs": [
    {
     "name": "stdout",
     "output_type": "stream",
     "text": [
      "[10, 20, 30] <class 'list'>\n"
     ]
    }
   ],
   "source": [
    "var = eval('[10,20,30]')\n",
    "print(var, type(var))"
   ]
  },
  {
   "cell_type": "code",
   "execution_count": 18,
   "metadata": {
    "ExecuteTime": {
     "end_time": "2021-03-03T02:43:18.736229Z",
     "start_time": "2021-03-03T02:43:18.726498Z"
    }
   },
   "outputs": [
    {
     "name": "stdout",
     "output_type": "stream",
     "text": [
      "10\n",
      "20\n",
      "30\n",
      "40\n"
     ]
    }
   ],
   "source": [
    "print(10, 20, 30, 40, sep = '\\n')"
   ]
  },
  {
   "cell_type": "code",
   "execution_count": 16,
   "metadata": {
    "ExecuteTime": {
     "end_time": "2021-03-03T02:42:05.534734Z",
     "start_time": "2021-03-03T02:42:05.519658Z"
    }
   },
   "outputs": [
    {
     "name": "stdout",
     "output_type": "stream",
     "text": [
      "10\n",
      "\n",
      "20\n",
      "\n",
      "30\n",
      "\n",
      "40\n",
      "\n"
     ]
    }
   ],
   "source": [
    "print(10, end = '\\n\\n')\n",
    "print(20, end = '\\n\\n')\n",
    "print(30, end = '\\n\\n')\n",
    "print(40, end = '\\n\\n')"
   ]
  },
  {
   "cell_type": "code",
   "execution_count": 17,
   "metadata": {
    "ExecuteTime": {
     "end_time": "2021-03-03T02:42:48.852619Z",
     "start_time": "2021-03-03T02:42:48.842422Z"
    }
   },
   "outputs": [
    {
     "name": "stdout",
     "output_type": "stream",
     "text": [
      "10\t20\t30\t40\t"
     ]
    }
   ],
   "source": [
    "print(10, end = '\\t')\n",
    "print(20, end = '\\t')\n",
    "print(30, end = '\\t')\n",
    "print(40, end = '\\t')"
   ]
  },
  {
   "cell_type": "code",
   "execution_count": 20,
   "metadata": {
    "ExecuteTime": {
     "end_time": "2021-03-03T02:44:10.822536Z",
     "start_time": "2021-03-03T02:44:10.814935Z"
    }
   },
   "outputs": [],
   "source": [
    "# eval(\"'10+20'\")"
   ]
  },
  {
   "cell_type": "code",
   "execution_count": 24,
   "metadata": {
    "ExecuteTime": {
     "end_time": "2021-03-03T02:47:32.261136Z",
     "start_time": "2021-03-03T02:47:27.158282Z"
    }
   },
   "outputs": [
    {
     "name": "stdout",
     "output_type": "stream",
     "text": [
      "Enter your name: ABC90\n",
      "Enter your age: 90\n",
      "Hi, Your name is ABC90 and age is 90\n"
     ]
    }
   ],
   "source": [
    "name = input('Enter your name: ')\n",
    "age = input('Enter your age: ')\n",
    "print('Hi, Your name is {name} and age is {age}')"
   ]
  },
  {
   "cell_type": "code",
   "execution_count": null,
   "metadata": {},
   "outputs": [],
   "source": [
    "# Float Data Structure - Any number with decimal point\n",
    "# 10.20, -10.20, 0.0002\n",
    "\n",
    "# Arithmetic - +, -, *, /, //, %, **\n",
    "# Comparison - (<, <=, >, >=), (==, !=)\n",
    "# Logical Operator - and, or, not\n",
    "# IDentity operator - is, is not\n",
    "# Assignment & Compoud Assignment Operator (+=, -=, *=, /=, //=, %=, **=)\n",
    "\n",
    "# Float is not compatible with Bitwise operators - (&, |, ^, ~, <<, >>)\n",
    "\n",
    "# Object reusbility is not available for float"
   ]
  },
  {
   "cell_type": "code",
   "execution_count": 25,
   "metadata": {
    "ExecuteTime": {
     "end_time": "2021-03-03T02:54:59.038534Z",
     "start_time": "2021-03-03T02:54:59.033010Z"
    }
   },
   "outputs": [
    {
     "name": "stdout",
     "output_type": "stream",
     "text": [
      "10.0\n",
      "20.0\n"
     ]
    }
   ],
   "source": [
    "# Complex nUmber - a+bj\n",
    "# a is real part\n",
    "# b is imaginary part\n",
    "\n",
    "num = 10+20j\n",
    "# print(num.real)\n",
    "# print(num.imag)\n",
    "\n",
    "# Object reusability is not available for complex\n",
    "\n",
    "# Arithmetic - +, -, *, /, //, **    --> (% does not work with complex numbers)\n",
    "# Comparison - (==, !=)\n",
    "# Logical Operator - and, or, not\n",
    "# IDentity operator - is, is not\n",
    "# Assignment & Compoud Assignment Operator (+=, -=, *=, /=, //=, **=)\n",
    "\n",
    "# Complex is not compatible with Bitwise operators - (&, |, ^, ~, <<, >>), %, (<, <=, >, >=)\n",
    "\n",
    "\n",
    "\n"
   ]
  },
  {
   "cell_type": "code",
   "execution_count": 39,
   "metadata": {
    "ExecuteTime": {
     "end_time": "2021-03-03T03:23:31.722712Z",
     "start_time": "2021-03-03T03:23:31.718030Z"
    }
   },
   "outputs": [
    {
     "name": "stdout",
     "output_type": "stream",
     "text": [
      "0\n",
      "1\n"
     ]
    }
   ],
   "source": [
    "# None - Missing Value\n",
    "\n",
    "# Emp_name    Emp_Id    Emp_Sal\n",
    "# ABC          101       10000.00\n",
    "# PQR          102       None\n",
    "# XYZ          0         8000.89\n",
    "\n",
    "# def f1(a=None, b=None):\n",
    "#     if a == None or b == None:\n",
    "#         return None\n",
    "#     else:\n",
    "#         return a+b\n",
    "\n",
    "# f1(10, 20)\n",
    "# f1()\n",
    "\n",
    "\n",
    "# emp_name_lst = [104, 105, 103, 101, 102]\n",
    "# emp_email_lst = [''] * len(emp_name_lst)\n",
    "# print(emp_email_lst)\n",
    "# for i in range(len(emp_name_lst)):\n",
    "#     emp_id = int(input('Enter the emp id: '))\n",
    "#     emp_email = input(f'Enter the email id of {emp_id}: ')\n",
    "#     emp_email_lst[emp_name_lst.index(emp_id)] = emp_email\n",
    "# print(emp_email_lst)\n",
    "\n",
    "# a = None\n",
    "# b = None\n",
    "# print(a is b)\n",
    "# print(id(a))\n",
    "# print(id(b))\n",
    "\n",
    "lst = []\n",
    "print(len(lst))\n",
    "\n",
    "lst = [None]\n",
    "print(len(lst))\n"
   ]
  },
  {
   "cell_type": "code",
   "execution_count": 55,
   "metadata": {
    "ExecuteTime": {
     "end_time": "2021-03-03T03:37:36.833600Z",
     "start_time": "2021-03-03T03:37:36.825964Z"
    }
   },
   "outputs": [],
   "source": [
    "# Boolean Data Type - True, False\n",
    "# True = 1\n",
    "# False = 0\n",
    "\n",
    "\n",
    "# print(True + True)\n",
    "# print(True * False)\n",
    "# print(int(True))\n",
    "# print(int(False))\n",
    "\n",
    "# Int - 0 is always False\n",
    "# Rest all are True\n",
    "# print(bool(0))\n",
    "\n",
    "\n",
    "# Float - 0.0 is always False\n",
    "# Rest all are True\n",
    "# print(bool(0.000000))\n",
    "# print(bool(0.0000001))\n",
    "\n",
    "# Complex - 0+0j - False\n",
    "# Rest all True\n",
    "\n",
    "# None is Always False\n",
    "\n",
    "# String - '' - Always False\n",
    "# ' ' - True\n",
    "\n",
    "# print(bool(''))\n",
    "# print(bool(' '))\n",
    "\n",
    "# list, tuple, set, dictionart - [], (), set(), {} - False\n",
    "\n",
    "# print(bool(None))\n",
    "# print(bool([None]))\n",
    "\n",
    "# if 10>20:\n",
    "#     print(10)\n",
    "# else:\n",
    "#     print(20)\n",
    "\n"
   ]
  },
  {
   "cell_type": "code",
   "execution_count": 101,
   "metadata": {
    "ExecuteTime": {
     "end_time": "2021-03-03T04:21:27.240596Z",
     "start_time": "2021-03-03T04:21:27.230809Z"
    }
   },
   "outputs": [
    {
     "name": "stdout",
     "output_type": "stream",
     "text": [
      "T\n",
      "T\n",
      "T\n",
      "s\n",
      "s\n",
      "s\n"
     ]
    }
   ],
   "source": [
    "# String Data Structure - '...', \"...\", '''...''', \"\"\"...\"\"\"\n",
    "\n",
    "# my_str = 'Python'\n",
    "# print(my_str, type(my_str))\n",
    "# my_str = \"Python\"\n",
    "# print(my_str, type(my_str))\n",
    "# my_str = '''Python'''\n",
    "# print(my_str, type(my_str))\n",
    "# my_str = \"\"\"Python\"\"\"\n",
    "# print(my_str, type(my_str))\n",
    "\n",
    "# Single and double quotations are used to declare single line string\n",
    "\n",
    "# my_str = \"\"\"Lorem Ipsum is simply dummy text of the printing and typesetting industry. Lorem Ipsum has been the \n",
    "# industry standard dummy text ever since the 1500s, when an unknown printer took a galley of type and scrambled \n",
    "# it to make a type specimen book. It has survived not only five centuries, but also the leap into electronic \n",
    "# typesetting, remaining essentially unchanged. It was popularised in the 1960s with the release of Letraset \n",
    "# sheets containing Lorem Ipsum passages, and more recently with desktop publishing software like Aldus PageMaker \n",
    "# including versions of Lorem Ipsum.\"\"\"\n",
    "# print(my_str)\n",
    "\n",
    "\n",
    "# my_str = \"Lorem Ipsum is simply dummy's text of the printing and typesetting industry.\" \n",
    "# print(my_str)\n",
    "\n",
    "# my_str = 'Lorem Ipsum is simply \"dummy\" text of the printing and typesetting industry.' \n",
    "# print(my_str)\n",
    "\n",
    "# my_str = 'Lorem Ipsum is simply \"dummy\" text of the \\'printing\\' and typesetting industry.' \n",
    "# print(my_str)\n",
    "\n",
    "\n",
    "# Triple quotation is used for documentation\n",
    "# def add(a, b):\n",
    "#     '''This function takes two numbers a and b and returns the summation of both.'''\n",
    "#     return a+b\n",
    "# # add(10,20)\n",
    "\n",
    "# print(add.__doc__)\n",
    "\n",
    "# String is a seq and it is an iterable object(This object has '__iter__' built in function)\n",
    "# print(dir(str))\n",
    "\n",
    "# Iterable object - We can create the iterator object from this iterable object\n",
    "my_str = \"Python\"\n",
    "my_iter = iter(my_str)\n",
    "# # # print(my_iter)\n",
    "# var = next(my_iter)\n",
    "# print(\"Hi\")\n",
    "# var = next(my_iter)\n",
    "# print('Hi')\n",
    "# var = next(my_iter)\n",
    "# print('Hi')\n",
    "# var = next(my_iter)\n",
    "# print(var)\n",
    "# var = next(my_iter)\n",
    "# print(var)\n",
    "# var = next(my_iter)\n",
    "# print(var)\n",
    "\n",
    "# print(list(my_iter))\n",
    "# print(list('Python'))\n",
    "\n",
    "# for var in my_str:\n",
    "#     print('Hi')\n",
    "\n",
    "# String - Indexing, Slicing, Concatenation, Repetition, Identity, Membership, Len\n",
    "# Indexing - Accessing one element at a time\n",
    "my_str = 'This is Python class'\n",
    "# print(my_str[0])\n",
    "# print(my_str[-1])\n",
    "\n",
    "# print(len(my_str))\n",
    "# print(my_str[len(my_str)//2])\n",
    "\n",
    "# Accessing first element\n",
    "# print(my_str[0])\n",
    "# print(my_str[-20])\n",
    "# print(my_str[-len(my_str)])\n",
    "\n",
    "# Accessing Last element\n",
    "# print(my_str[-1])\n",
    "# print(my_str[19])\n",
    "print(my_str[len(my_str)-1])\n",
    "\n",
    "# 'python'\n",
    "#  012345\n",
    "\n",
    "# Slicing - \n"
   ]
  },
  {
   "cell_type": "code",
   "execution_count": 81,
   "metadata": {
    "ExecuteTime": {
     "end_time": "2021-03-03T04:06:33.017830Z",
     "start_time": "2021-03-03T04:06:33.008361Z"
    }
   },
   "outputs": [
    {
     "name": "stdout",
     "output_type": "stream",
     "text": [
      "0\n",
      "1\n",
      "2\n",
      "3\n",
      "4\n",
      "5\n",
      "6\n",
      "7\n",
      "8\n",
      "9\n"
     ]
    }
   ],
   "source": [
    "# For loop - \n",
    "\n",
    "# lst = []\n",
    "# for i in range(10):\n",
    "#     print(i)\n",
    "\n",
    "# for var in iterable:\n",
    "#     expr"
   ]
  },
  {
   "cell_type": "code",
   "execution_count": 83,
   "metadata": {
    "ExecuteTime": {
     "end_time": "2021-03-03T04:07:39.202279Z",
     "start_time": "2021-03-03T04:07:39.195981Z"
    }
   },
   "outputs": [
    {
     "data": {
      "text/plain": [
       "[0, 1, 2, 3, 4, 5, 6, 7, 8, 9]"
      ]
     },
     "execution_count": 83,
     "metadata": {},
     "output_type": "execute_result"
    }
   ],
   "source": [
    "list(range(10))"
   ]
  },
  {
   "cell_type": "code",
   "execution_count": null,
   "metadata": {},
   "outputs": [],
   "source": []
  },
  {
   "cell_type": "code",
   "execution_count": null,
   "metadata": {},
   "outputs": [],
   "source": []
  },
  {
   "cell_type": "code",
   "execution_count": null,
   "metadata": {},
   "outputs": [],
   "source": []
  },
  {
   "cell_type": "code",
   "execution_count": null,
   "metadata": {},
   "outputs": [],
   "source": []
  },
  {
   "cell_type": "code",
   "execution_count": null,
   "metadata": {},
   "outputs": [],
   "source": []
  },
  {
   "cell_type": "code",
   "execution_count": null,
   "metadata": {},
   "outputs": [],
   "source": []
  },
  {
   "cell_type": "code",
   "execution_count": null,
   "metadata": {},
   "outputs": [],
   "source": []
  },
  {
   "cell_type": "code",
   "execution_count": null,
   "metadata": {},
   "outputs": [],
   "source": []
  },
  {
   "cell_type": "code",
   "execution_count": null,
   "metadata": {},
   "outputs": [],
   "source": []
  },
  {
   "cell_type": "code",
   "execution_count": null,
   "metadata": {},
   "outputs": [],
   "source": []
  },
  {
   "cell_type": "code",
   "execution_count": null,
   "metadata": {},
   "outputs": [],
   "source": []
  },
  {
   "cell_type": "code",
   "execution_count": null,
   "metadata": {},
   "outputs": [],
   "source": []
  },
  {
   "cell_type": "code",
   "execution_count": null,
   "metadata": {},
   "outputs": [],
   "source": []
  },
  {
   "cell_type": "code",
   "execution_count": null,
   "metadata": {},
   "outputs": [],
   "source": []
  },
  {
   "cell_type": "code",
   "execution_count": null,
   "metadata": {},
   "outputs": [],
   "source": []
  },
  {
   "cell_type": "code",
   "execution_count": null,
   "metadata": {},
   "outputs": [],
   "source": []
  },
  {
   "cell_type": "code",
   "execution_count": null,
   "metadata": {},
   "outputs": [],
   "source": []
  },
  {
   "cell_type": "code",
   "execution_count": null,
   "metadata": {},
   "outputs": [],
   "source": []
  },
  {
   "cell_type": "code",
   "execution_count": null,
   "metadata": {},
   "outputs": [],
   "source": []
  },
  {
   "cell_type": "code",
   "execution_count": null,
   "metadata": {},
   "outputs": [],
   "source": []
  },
  {
   "cell_type": "code",
   "execution_count": null,
   "metadata": {},
   "outputs": [],
   "source": []
  },
  {
   "cell_type": "code",
   "execution_count": null,
   "metadata": {},
   "outputs": [],
   "source": []
  },
  {
   "cell_type": "code",
   "execution_count": null,
   "metadata": {},
   "outputs": [],
   "source": []
  },
  {
   "cell_type": "code",
   "execution_count": null,
   "metadata": {},
   "outputs": [],
   "source": []
  },
  {
   "cell_type": "code",
   "execution_count": null,
   "metadata": {},
   "outputs": [],
   "source": []
  },
  {
   "cell_type": "code",
   "execution_count": null,
   "metadata": {},
   "outputs": [],
   "source": []
  },
  {
   "cell_type": "code",
   "execution_count": null,
   "metadata": {},
   "outputs": [],
   "source": []
  },
  {
   "cell_type": "code",
   "execution_count": null,
   "metadata": {},
   "outputs": [],
   "source": []
  },
  {
   "cell_type": "code",
   "execution_count": null,
   "metadata": {},
   "outputs": [],
   "source": []
  },
  {
   "cell_type": "code",
   "execution_count": null,
   "metadata": {},
   "outputs": [],
   "source": []
  },
  {
   "cell_type": "code",
   "execution_count": null,
   "metadata": {},
   "outputs": [],
   "source": []
  },
  {
   "cell_type": "code",
   "execution_count": null,
   "metadata": {},
   "outputs": [],
   "source": []
  },
  {
   "cell_type": "code",
   "execution_count": null,
   "metadata": {},
   "outputs": [],
   "source": []
  },
  {
   "cell_type": "code",
   "execution_count": null,
   "metadata": {},
   "outputs": [],
   "source": []
  },
  {
   "cell_type": "code",
   "execution_count": null,
   "metadata": {},
   "outputs": [],
   "source": []
  },
  {
   "cell_type": "code",
   "execution_count": null,
   "metadata": {},
   "outputs": [],
   "source": []
  },
  {
   "cell_type": "code",
   "execution_count": null,
   "metadata": {},
   "outputs": [],
   "source": []
  },
  {
   "cell_type": "code",
   "execution_count": null,
   "metadata": {},
   "outputs": [],
   "source": []
  },
  {
   "cell_type": "code",
   "execution_count": null,
   "metadata": {},
   "outputs": [],
   "source": []
  },
  {
   "cell_type": "code",
   "execution_count": null,
   "metadata": {},
   "outputs": [],
   "source": []
  },
  {
   "cell_type": "code",
   "execution_count": null,
   "metadata": {},
   "outputs": [],
   "source": []
  },
  {
   "cell_type": "code",
   "execution_count": null,
   "metadata": {},
   "outputs": [],
   "source": []
  },
  {
   "cell_type": "code",
   "execution_count": null,
   "metadata": {},
   "outputs": [],
   "source": []
  },
  {
   "cell_type": "code",
   "execution_count": null,
   "metadata": {},
   "outputs": [],
   "source": []
  },
  {
   "cell_type": "code",
   "execution_count": null,
   "metadata": {},
   "outputs": [],
   "source": []
  },
  {
   "cell_type": "code",
   "execution_count": null,
   "metadata": {},
   "outputs": [],
   "source": []
  },
  {
   "cell_type": "code",
   "execution_count": null,
   "metadata": {},
   "outputs": [],
   "source": []
  },
  {
   "cell_type": "code",
   "execution_count": null,
   "metadata": {},
   "outputs": [],
   "source": []
  },
  {
   "cell_type": "code",
   "execution_count": null,
   "metadata": {},
   "outputs": [],
   "source": []
  },
  {
   "cell_type": "code",
   "execution_count": null,
   "metadata": {},
   "outputs": [],
   "source": []
  },
  {
   "cell_type": "code",
   "execution_count": null,
   "metadata": {},
   "outputs": [],
   "source": []
  },
  {
   "cell_type": "code",
   "execution_count": null,
   "metadata": {},
   "outputs": [],
   "source": []
  },
  {
   "cell_type": "code",
   "execution_count": null,
   "metadata": {},
   "outputs": [],
   "source": []
  },
  {
   "cell_type": "code",
   "execution_count": null,
   "metadata": {},
   "outputs": [],
   "source": []
  },
  {
   "cell_type": "code",
   "execution_count": null,
   "metadata": {},
   "outputs": [],
   "source": []
  },
  {
   "cell_type": "code",
   "execution_count": null,
   "metadata": {},
   "outputs": [],
   "source": []
  },
  {
   "cell_type": "code",
   "execution_count": null,
   "metadata": {},
   "outputs": [],
   "source": []
  },
  {
   "cell_type": "code",
   "execution_count": null,
   "metadata": {},
   "outputs": [],
   "source": []
  },
  {
   "cell_type": "code",
   "execution_count": null,
   "metadata": {},
   "outputs": [],
   "source": []
  },
  {
   "cell_type": "code",
   "execution_count": null,
   "metadata": {},
   "outputs": [],
   "source": []
  },
  {
   "cell_type": "code",
   "execution_count": null,
   "metadata": {},
   "outputs": [],
   "source": []
  },
  {
   "cell_type": "code",
   "execution_count": null,
   "metadata": {},
   "outputs": [],
   "source": []
  },
  {
   "cell_type": "code",
   "execution_count": null,
   "metadata": {},
   "outputs": [],
   "source": []
  },
  {
   "cell_type": "code",
   "execution_count": null,
   "metadata": {},
   "outputs": [],
   "source": []
  },
  {
   "cell_type": "code",
   "execution_count": null,
   "metadata": {},
   "outputs": [],
   "source": []
  },
  {
   "cell_type": "code",
   "execution_count": null,
   "metadata": {},
   "outputs": [],
   "source": []
  },
  {
   "cell_type": "code",
   "execution_count": null,
   "metadata": {},
   "outputs": [],
   "source": []
  },
  {
   "cell_type": "code",
   "execution_count": null,
   "metadata": {},
   "outputs": [],
   "source": []
  },
  {
   "cell_type": "code",
   "execution_count": null,
   "metadata": {},
   "outputs": [],
   "source": []
  },
  {
   "cell_type": "code",
   "execution_count": null,
   "metadata": {},
   "outputs": [],
   "source": []
  },
  {
   "cell_type": "code",
   "execution_count": null,
   "metadata": {},
   "outputs": [],
   "source": []
  },
  {
   "cell_type": "code",
   "execution_count": null,
   "metadata": {},
   "outputs": [],
   "source": []
  },
  {
   "cell_type": "code",
   "execution_count": null,
   "metadata": {},
   "outputs": [],
   "source": []
  },
  {
   "cell_type": "code",
   "execution_count": null,
   "metadata": {},
   "outputs": [],
   "source": []
  },
  {
   "cell_type": "code",
   "execution_count": null,
   "metadata": {},
   "outputs": [],
   "source": []
  },
  {
   "cell_type": "code",
   "execution_count": null,
   "metadata": {},
   "outputs": [],
   "source": []
  },
  {
   "cell_type": "code",
   "execution_count": null,
   "metadata": {},
   "outputs": [],
   "source": []
  },
  {
   "cell_type": "code",
   "execution_count": null,
   "metadata": {},
   "outputs": [],
   "source": []
  },
  {
   "cell_type": "code",
   "execution_count": null,
   "metadata": {},
   "outputs": [],
   "source": []
  },
  {
   "cell_type": "code",
   "execution_count": null,
   "metadata": {},
   "outputs": [],
   "source": []
  }
 ],
 "metadata": {
  "kernelspec": {
   "display_name": "Python 3",
   "language": "python",
   "name": "python3"
  },
  "language_info": {
   "codemirror_mode": {
    "name": "ipython",
    "version": 3
   },
   "file_extension": ".py",
   "mimetype": "text/x-python",
   "name": "python",
   "nbconvert_exporter": "python",
   "pygments_lexer": "ipython3",
   "version": "3.8.5"
  },
  "latex_envs": {
   "LaTeX_envs_menu_present": true,
   "autoclose": false,
   "autocomplete": true,
   "bibliofile": "biblio.bib",
   "cite_by": "apalike",
   "current_citInitial": 1,
   "eqLabelWithNumbers": true,
   "eqNumInitial": 1,
   "hotkeys": {
    "equation": "Ctrl-E",
    "itemize": "Ctrl-I"
   },
   "labels_anchors": false,
   "latex_user_defs": false,
   "report_style_numbering": false,
   "user_envs_cfg": false
  },
  "varInspector": {
   "cols": {
    "lenName": 16,
    "lenType": 16,
    "lenVar": 40
   },
   "kernels_config": {
    "python": {
     "delete_cmd_postfix": "",
     "delete_cmd_prefix": "del ",
     "library": "var_list.py",
     "varRefreshCmd": "print(var_dic_list())"
    },
    "r": {
     "delete_cmd_postfix": ") ",
     "delete_cmd_prefix": "rm(",
     "library": "var_list.r",
     "varRefreshCmd": "cat(var_dic_list()) "
    }
   },
   "types_to_exclude": [
    "module",
    "function",
    "builtin_function_or_method",
    "instance",
    "_Feature"
   ],
   "window_display": false
  }
 },
 "nbformat": 4,
 "nbformat_minor": 2
}
