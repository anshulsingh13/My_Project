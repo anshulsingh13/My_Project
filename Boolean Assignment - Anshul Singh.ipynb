{
 "cells": [
  {
   "cell_type": "markdown",
   "metadata": {},
   "source": [
    "Q1.Declare an boolean value and store it in a variable. Check the type and print the id of the same"
   ]
  },
  {
   "cell_type": "code",
   "execution_count": 3,
   "metadata": {},
   "outputs": [
    {
     "name": "stdout",
     "output_type": "stream",
     "text": [
      "<class 'bool'>\n",
      "140703322265424\n"
     ]
    }
   ],
   "source": [
    "a = True\n",
    "print(type(a))\n",
    "print(id(a))"
   ]
  },
  {
   "cell_type": "markdown",
   "metadata": {},
   "source": [
    "Q2. Take one boolean value between 0 - 256. Assign it to two different variables. Check the id of both the variables. It should come the same. Check why?"
   ]
  },
  {
   "cell_type": "code",
   "execution_count": 4,
   "metadata": {},
   "outputs": [
    {
     "name": "stdout",
     "output_type": "stream",
     "text": [
      "140703322265424\n",
      "140703322265424\n",
      "True\n"
     ]
    }
   ],
   "source": [
    "b = bool(25)\n",
    "c = bool(25)\n",
    "print(id(b))\n",
    "print(id(c))\n",
    "print(b is c)\n",
    "# id is same because of object reusability for integer between range (-5 to 256)"
   ]
  },
  {
   "cell_type": "markdown",
   "metadata": {},
   "source": [
    "Arithmetic Operations on boolean\n",
    "Take two different boolean values.\n",
    "Store them in two different variables.\n",
    "Do below operations on them:-\n",
    " Find sum of both numbers\n",
    " Find difference between them\n",
    " Find the product of both numbers.\n",
    " Find value after dividing first num with second number\n",
    " Find the remainder after dividing first number with second number\n",
    " Find the quotient after dividing first number with second number\n",
    " Find the result of the first num to the power of the second number"
   ]
  },
  {
   "cell_type": "code",
   "execution_count": 7,
   "metadata": {},
   "outputs": [
    {
     "name": "stdout",
     "output_type": "stream",
     "text": [
      "Sum of the two numbers is: 2\n",
      "Difference of the two numbers is: 0\n",
      "Product of the two numbers is: 1\n",
      "Division of the two numbers is: 1.0\n",
      "Remainder of the two numbers is: 0\n",
      "Quotient of the two numbers is: 1\n",
      "Exponent of the two numbers is: 1\n"
     ]
    }
   ],
   "source": [
    "num1 = bool(10)\n",
    "num2 = bool(5)\n",
    "#sum\n",
    "print('Sum of the two numbers is:', num2+num1)\n",
    "\n",
    "#difference\n",
    "if (num1>num2):\n",
    "    print('Difference of the two numbers is:', num1-num2)\n",
    "else:\n",
    "    print('Difference of the two numbers is:', num2-num1)\n",
    "\n",
    "#product\n",
    "print('Product of the two numbers is:', num1*num2)\n",
    "\n",
    "#division\n",
    "print('Division of the two numbers is:', num1/num2)\n",
    "\n",
    "#remainder\n",
    "print('Remainder of the two numbers is:', num1%num2)\n",
    "\n",
    "#quotient\n",
    "print('Quotient of the two numbers is:', num1//num2)\n",
    "\n",
    "#exponent\n",
    "print('Exponent of the two numbers is:', num1**num2)"
   ]
  },
  {
   "cell_type": "markdown",
   "metadata": {},
   "source": [
    "Comparison Operators on boolean\n",
    "Take two different boolean values.\n",
    "Store them in two different variables.\n",
    "Do below operations on them:-\n",
    " Compare se two numbers with below operator:-\n",
    " Greater than, '>'\n",
    " Smaller than, '<'\n",
    " Greater than or equal to, '>='\n",
    " Less than or equal to, '<='\n",
    "Observe their output(return type should be boolean)"
   ]
  },
  {
   "cell_type": "code",
   "execution_count": 8,
   "metadata": {},
   "outputs": [
    {
     "name": "stdout",
     "output_type": "stream",
     "text": [
      "False\n",
      "False\n",
      "True\n",
      "True\n"
     ]
    }
   ],
   "source": [
    "num1 = bool(10)\n",
    "num2 = bool(5)\n",
    "\n",
    "#greater than\n",
    "print((num1>num2))\n",
    "\n",
    "#smaller than\n",
    "print(num1<num2)\n",
    "\n",
    "#greater than equal to\n",
    "print(num1>=num2)\n",
    "\n",
    "#less than equal to\n",
    "print(num1<=num2)"
   ]
  },
  {
   "cell_type": "markdown",
   "metadata": {},
   "source": [
    "Equality Operator\n",
    "Take two different boolean values.\n",
    "Store them in two different variables.\n",
    "Equate them using equality operators (==, !=)\n",
    "Observe the output(return type should be boolean)"
   ]
  },
  {
   "cell_type": "code",
   "execution_count": 9,
   "metadata": {
    "scrolled": true
   },
   "outputs": [
    {
     "name": "stdout",
     "output_type": "stream",
     "text": [
      "True\n",
      "False\n"
     ]
    }
   ],
   "source": [
    "num1 = bool(10)\n",
    "num2 = bool(5)\n",
    "print(num1 == num2)\n",
    "print(num1!=num2)"
   ]
  },
  {
   "cell_type": "markdown",
   "metadata": {},
   "source": [
    "Logical operators\n",
    "Observe the output of below code"
   ]
  },
  {
   "cell_type": "code",
   "execution_count": 10,
   "metadata": {},
   "outputs": [
    {
     "name": "stdout",
     "output_type": "stream",
     "text": [
      "True\n",
      "False\n",
      "False\n",
      "False\n",
      "True\n",
      "True\n",
      "True\n",
      "False\n",
      "False\n",
      "True\n"
     ]
    }
   ],
   "source": [
    "print(True and True)\n",
    "print(False and True)\n",
    "print(True and False)\n",
    "print(False and False)\n",
    "print(True or True)\n",
    "print(False or True)\n",
    "print(True or False)\n",
    "print(False or False)\n",
    "print(not True)\n",
    "print(not False)"
   ]
  },
  {
   "cell_type": "markdown",
   "metadata": {},
   "source": [
    "Bitwise Operators"
   ]
  },
  {
   "cell_type": "code",
   "execution_count": 12,
   "metadata": {},
   "outputs": [
    {
     "name": "stdout",
     "output_type": "stream",
     "text": [
      "True\n",
      "True\n",
      "True\n",
      "-2\n",
      "4\n",
      "0\n"
     ]
    }
   ],
   "source": [
    "'''bitwise &'''\n",
    "print(True & True)\n",
    "\n",
    "'''bitwise |'''\n",
    "print(True | False)\n",
    "\n",
    "'''bitwise ^'''\n",
    "print(True ^ False)\n",
    "\n",
    "'''bitwise ~'''\n",
    "print(~True)\n",
    "\n",
    "'''bitwise <<'''\n",
    "print(True<<2)\n",
    "\n",
    "'''bitwise >>'''\n",
    "print(True>>2)"
   ]
  },
  {
   "cell_type": "markdown",
   "metadata": {},
   "source": [
    "What is the output of expression inside print statement. Cross check before running the program."
   ]
  },
  {
   "cell_type": "code",
   "execution_count": 13,
   "metadata": {},
   "outputs": [
    {
     "name": "stdout",
     "output_type": "stream",
     "text": [
      "True\n",
      "False\n",
      "True\n",
      "False\n"
     ]
    }
   ],
   "source": [
    "a = True\n",
    "b = True\n",
    "print(a is b)\n",
    "print(a is not b)\n",
    "\n",
    "a = False\n",
    "b = False\n",
    "print(a is b) \n",
    "print(a is not b) "
   ]
  },
  {
   "cell_type": "markdown",
   "metadata": {},
   "source": [
    "Membership operation in, not in are two membership operators and it returns boolean value"
   ]
  },
  {
   "cell_type": "code",
   "execution_count": 14,
   "metadata": {},
   "outputs": [
    {
     "name": "stdout",
     "output_type": "stream",
     "text": [
      "True\n",
      "True\n",
      "True\n",
      "True\n",
      "True\n"
     ]
    }
   ],
   "source": [
    "print(True in [10,10.20,10+20j,'Python', True])\n",
    "print(False in (10,10.20,10+20j,'Python', False))\n",
    "print(True in {1,2,3, True})\n",
    "print(True in {True:100, False:200, True:300})\n",
    "print(False in {True:100, False:200, True:300})"
   ]
  },
  {
   "cell_type": "code",
   "execution_count": null,
   "metadata": {},
   "outputs": [],
   "source": []
  }
 ],
 "metadata": {
  "kernelspec": {
   "display_name": "Python 3",
   "language": "python",
   "name": "python3"
  },
  "language_info": {
   "codemirror_mode": {
    "name": "ipython",
    "version": 3
   },
   "file_extension": ".py",
   "mimetype": "text/x-python",
   "name": "python",
   "nbconvert_exporter": "python",
   "pygments_lexer": "ipython3",
   "version": "3.8.5"
  }
 },
 "nbformat": 4,
 "nbformat_minor": 4
}
