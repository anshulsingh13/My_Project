{
 "cells": [
  {
   "cell_type": "markdown",
   "metadata": {},
   "source": [
    "Central Tendency Assignment"
   ]
  },
  {
   "cell_type": "code",
   "execution_count": 1,
   "metadata": {
    "scrolled": true
   },
   "outputs": [
    {
     "name": "stdout",
     "output_type": "stream",
     "text": [
      "      Philip  Mathews\n",
      "Mon       15       30\n",
      "Tue       21       25\n",
      "Wed       20       12\n",
      "Thur      20       35\n",
      "Fri       20        0\n",
      "         Mon  Tue  Wed  Thur  Fri\n",
      "Philip    15   21   20    20   20\n",
      "Mathews   30   25   12    35    0\n",
      "Philip     19.2\n",
      "Mathews    20.4\n",
      "dtype: float64\n",
      "Philip     20.0\n",
      "Mathews    25.0\n",
      "dtype: float64\n",
      "ModeResult(mode=array([[20],\n",
      "       [ 0]], dtype=int64), count=array([[3],\n",
      "       [1]]))\n"
     ]
    }
   ],
   "source": [
    "import numpy as np\n",
    "import pandas as pd\n",
    "from scipy import stats\n",
    "\n",
    "worker = ['Philip', 'Mathews']\n",
    "P = [15,21,20,20,20,20]\n",
    "M = [30,25,12,35,0]\n",
    "days = ['Mon','Tue','Wed','Thur','Fri']\n",
    "\n",
    "df = pd.DataFrame(zip(P,M), columns = worker, index = days)\n",
    "print(df)\n",
    "df1 = df.T\n",
    "print(df1)\n",
    "\n",
    "print(df1.mean(axis = 1))\n",
    "print(df1.median(axis = 1))\n",
    "print(stats.mode(df1,axis =1))"
   ]
  },
  {
   "cell_type": "code",
   "execution_count": 29,
   "metadata": {},
   "outputs": [
    {
     "name": "stdout",
     "output_type": "stream",
     "text": [
      "1    65\n",
      "2    72\n",
      "3    58\n",
      "4    77\n",
      "dtype: int64\n",
      "68.0\n",
      "68.5\n",
      "1    65\n",
      "2    72\n",
      "3    58\n",
      "4    77\n",
      "5    70\n",
      "dtype: int64\n",
      "68.4\n",
      "70.0\n"
     ]
    }
   ],
   "source": [
    "Score = [65,72,58,77]\n",
    "s = pd.Series(Score, index = [1,2,3,4])\n",
    "print(s)\n",
    "print(s.mean())\n",
    "print(s.median())\n",
    "s[5] = 70\n",
    "print(s)\n",
    "print(s.mean())\n",
    "print(s.median())"
   ]
  },
  {
   "cell_type": "code",
   "execution_count": 31,
   "metadata": {},
   "outputs": [
    {
     "name": "stdout",
     "output_type": "stream",
     "text": [
      "2.7722914709676543\n"
     ]
    },
    {
     "data": {
      "text/plain": [
       "0.25    6.5\n",
       "0.50    8.5\n",
       "0.75    9.5\n",
       "dtype: float64"
      ]
     },
     "execution_count": 31,
     "metadata": {},
     "output_type": "execute_result"
    }
   ],
   "source": [
    "list1 = [11, 7.5, 8.5, 10, 10, 10.5, 5.5, 10, 9, 9.5, 5.25, 8, 6.5, 10.5, 8.75, 0, 6, 6, 6.75,8.75, 0, 9.5, 7.5, 8.5, 7]\n",
    "s1 = pd.Series(list1)\n",
    "std1 = np.std(s1)\n",
    "print(std1)\n",
    "s1.quantile([0.25,0.5,0.75])"
   ]
  },
  {
   "cell_type": "markdown",
   "metadata": {},
   "source": [
    "Sampling distribution, confidence interval, Hypothesis testing"
   ]
  },
  {
   "cell_type": "code",
   "execution_count": 10,
   "metadata": {
    "scrolled": true
   },
   "outputs": [
    {
     "name": "stdout",
     "output_type": "stream",
     "text": [
      "212.0\n",
      "-1.5141509433962264\n",
      "0.06499378024808108\n"
     ]
    }
   ],
   "source": [
    "import scipy\n",
    "pmean = 29321\n",
    "sdp = 2120\n",
    "n = 100\n",
    "xbar = 29000\n",
    "s = sdp/(np.sqrt(n))\n",
    "print(s)\n",
    "a = (xbar-pmean)\n",
    "z = a/s\n",
    "print(z)\n",
    "\n",
    "z1 = scipy.stats.norm.cdf(z)\n",
    "print(z1)"
   ]
  },
  {
   "cell_type": "code",
   "execution_count": 11,
   "metadata": {},
   "outputs": [
    {
     "name": "stdout",
     "output_type": "stream",
     "text": [
      "7.5\n",
      "-0.6666666666666666\n",
      "0.2524925375469229\n"
     ]
    }
   ],
   "source": [
    "pmean = 220\n",
    "sdp = 15\n",
    "n = 4\n",
    "xbar = 215\n",
    "s = sdp/(np.sqrt(n))\n",
    "print(s)\n",
    "a = (xbar-pmean)\n",
    "z = a/s\n",
    "print(z)\n",
    "\n",
    "z1 = scipy.stats.norm.cdf(z)\n",
    "print(z1)"
   ]
  },
  {
   "cell_type": "code",
   "execution_count": null,
   "metadata": {},
   "outputs": [],
   "source": []
  },
  {
   "cell_type": "code",
   "execution_count": null,
   "metadata": {},
   "outputs": [],
   "source": []
  },
  {
   "cell_type": "code",
   "execution_count": null,
   "metadata": {},
   "outputs": [],
   "source": []
  },
  {
   "cell_type": "code",
   "execution_count": null,
   "metadata": {},
   "outputs": [],
   "source": []
  },
  {
   "cell_type": "code",
   "execution_count": null,
   "metadata": {},
   "outputs": [],
   "source": []
  },
  {
   "cell_type": "code",
   "execution_count": null,
   "metadata": {},
   "outputs": [],
   "source": []
  }
 ],
 "metadata": {
  "kernelspec": {
   "display_name": "Python 3",
   "language": "python",
   "name": "python3"
  },
  "language_info": {
   "codemirror_mode": {
    "name": "ipython",
    "version": 3
   },
   "file_extension": ".py",
   "mimetype": "text/x-python",
   "name": "python",
   "nbconvert_exporter": "python",
   "pygments_lexer": "ipython3",
   "version": "3.8.5"
  }
 },
 "nbformat": 4,
 "nbformat_minor": 4
}
