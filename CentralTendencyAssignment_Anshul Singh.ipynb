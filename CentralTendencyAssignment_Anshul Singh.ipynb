{
 "cells": [
  {
   "cell_type": "markdown",
   "metadata": {},
   "source": [
    "1. Two people work in a factory making parts for cars."
   ]
  },
  {
   "cell_type": "code",
   "execution_count": 2,
   "metadata": {
    "scrolled": true
   },
   "outputs": [
    {
     "name": "stdout",
     "output_type": "stream",
     "text": [
      "        Mon  Tue  Wed  Thur  Fri\n",
      "Philip   15   21   20    20   20\n",
      "Mathew   30   25   12    35    0\n",
      "\n",
      "\n",
      "Mean is:\n",
      " Philip    19.2\n",
      "Mathew    20.4\n",
      "dtype: float64\n",
      "\n",
      "\n",
      "Median is:\n",
      " Philip    20.0\n",
      "Mathew    25.0\n",
      "dtype: float64\n",
      "\n",
      "\n",
      "Rnage is:\n",
      " Philip     6\n",
      "Mathew    35\n",
      "dtype: int64\n"
     ]
    }
   ],
   "source": [
    "import pandas as pd\n",
    "data = [{'Mon': 15, 'Tue': 21, 'Wed':20, 'Thur':20, 'Fri':20},\n",
    "        {'Mon': 30, 'Tue': 25, 'Wed':12, 'Thur':35, 'Fri':0}]\n",
    "\n",
    "df = pd.DataFrame(data, index = ['Philip','Mathew'] )\n",
    "print(df)\n",
    "print('\\n')\n",
    "print(\"Mean is:\\n\",df.mean(axis=1))\n",
    "print('\\n')\n",
    "print(\"Median is:\\n\",df.median(axis=1))\n",
    "print('\\n')\n",
    "print(\"Rnage is:\\n\",(df.max(axis=1))-(df.min(axis=1)))\n",
    "\n",
    "# more consistent is philip\n",
    "# Mathew makes more parts in a week"
   ]
  },
  {
   "cell_type": "markdown",
   "metadata": {},
   "source": [
    "2. Following are Kohli’s scores in 4 matches played between India and Australia, match 5 being\n",
    "the latest one played in a five match series"
   ]
  },
  {
   "cell_type": "code",
   "execution_count": 46,
   "metadata": {},
   "outputs": [
    {
     "name": "stdout",
     "output_type": "stream",
     "text": [
      "   Matches  Score\n",
      "0        1     65\n",
      "1        2     72\n",
      "2        3     58\n",
      "3        4     77\n",
      "Mean:  68.0\n",
      "Median:  68.5\n",
      "New Mean:  68.4\n",
      "New Median:  70.0\n"
     ]
    }
   ],
   "source": [
    "Matches = [1,2,3,4]\n",
    "Score = [65,72,58,77]\n",
    "cols = ['Matches','Score']\n",
    "df1 = pd.DataFrame(list(zip(Matches,Score)), columns = cols)\n",
    "print(df1)\n",
    "\n",
    "# a) What are his mean and median scores for the first four matches played?\n",
    "print(\"Mean: \",df1['Score'].mean())\n",
    "print(\"Median: \",df1['Score'].median())\n",
    "\n",
    "# b) If he scores 70 in his fifth match, does his series mean score increase or decrease w.r.t. scores\n",
    "# obtained for first four matches. Find his new mean score. \"Increases\"\n",
    "df1.loc[4] = [5, 70]\n",
    "df1\n",
    "print(\"New Mean: \",df1['Score'].mean())\n",
    "\n",
    "# c) Which has increased more, his mean score or his median score after the fifth match? \"Median\"\n",
    "print(\"New Median: \",df1['Score'].median())"
   ]
  },
  {
   "cell_type": "markdown",
   "metadata": {},
   "source": [
    "5) Find the mode for the below series\n",
    "a) 8,6, 2, 4, 6, 8,10,8"
   ]
  },
  {
   "cell_type": "code",
   "execution_count": 2,
   "metadata": {},
   "outputs": [
    {
     "name": "stdout",
     "output_type": "stream",
     "text": [
      "0    8\n",
      "dtype: int64\n"
     ]
    }
   ],
   "source": [
    "import pandas as pd\n",
    "a = (8,6, 2, 4, 6, 8,10,8)\n",
    "s1 = pd.Series(a)\n",
    "print(s1.mode())"
   ]
  },
  {
   "cell_type": "code",
   "execution_count": 7,
   "metadata": {},
   "outputs": [
    {
     "name": "stdout",
     "output_type": "stream",
     "text": [
      "Range:  11.0\n"
     ]
    },
    {
     "data": {
      "text/plain": [
       "0.25    6.5\n",
       "0.50    8.5\n",
       "0.75    9.5\n",
       "dtype: float64"
      ]
     },
     "execution_count": 7,
     "metadata": {},
     "output_type": "execute_result"
    }
   ],
   "source": [
    "# Analyze the performance of a class having following Scores:\n",
    "\n",
    "l1 = [11, 7.5, 8.5, 10, 10, 10.5, 5.5, 10, 9, 9.5, 5.25, 8, 6.5, 10.5, 8.75, 0, 6, 6, 6.75,8.75, 0, 9.5, 7.5, 8.5, 7]\n",
    "s1 = pd.Series(l1)\n",
    "spread = s1.max()-s1.min()\n",
    "print(\"Range: \", spread)\n",
    "s1.quantile([0.25,0.5,0.75])"
   ]
  },
  {
   "cell_type": "code",
   "execution_count": 3,
   "metadata": {},
   "outputs": [
    {
     "name": "stdout",
     "output_type": "stream",
     "text": [
      "    city1  city2  city3  city4  city5\n",
      "0      29     20     23     20     19\n",
      "1      32     24     26     24     24\n",
      "2      36     31     32     29     29\n",
      "3      40     37     38     34     38\n",
      "4      43     40     41     37     43\n",
      "5      37     38     40     36     38\n",
      "6      36     37     35     32     33\n",
      "7      33     34     33     30     34\n",
      "8      32     34     35     33     36\n",
      "9      37     33     37     32     34\n",
      "10     31     28     30     27     29\n",
      "11     29     33     25     23     23\n",
      "city1    34.583333\n",
      "city2    32.416667\n",
      "city3    32.916667\n",
      "city4    29.750000\n",
      "city5    31.666667\n",
      "dtype: float64\n",
      "\n",
      "\n",
      "city1    34.5\n",
      "city2    33.5\n",
      "city3    34.0\n",
      "city4    31.0\n",
      "city5    33.5\n",
      "dtype: float64\n",
      "\n",
      "\n",
      "   city1  city2  city3  city4  city5\n",
      "0     29   33.0   35.0   32.0   29.0\n",
      "1     32   34.0    NaN    NaN   34.0\n",
      "2     36   37.0    NaN    NaN   38.0\n",
      "3     37    NaN    NaN    NaN    NaN\n",
      "city1    4.337120\n",
      "city2    5.900051\n",
      "city3    5.915439\n",
      "city4    5.327885\n",
      "city5    7.062492\n",
      "dtype: float64\n"
     ]
    }
   ],
   "source": [
    "# 5. Temp in 5 cities\n",
    "\n",
    "c1 = [29,32,36,40,43,37,36,33,32,37,31,29]\n",
    "c2 = [20,24,31,37,40,38,37,34,34,33,28,33]\n",
    "c3 = [23,26,32,38,41,40,35,33,35,37,30,25]\n",
    "c4 = [20,24,29,34,37,36,32,30,33,32,27,23]\n",
    "c5 = [19,24,29,38,43,38,33,34,36,34,29,23]\n",
    "cols = ['city1', 'city2','city3','city4', 'city5']\n",
    "df4 = pd.DataFrame(list(zip(c1,c2,c3,c4,c5)), columns=cols)\n",
    "print(df4)\n",
    "df4 = df4.astype(int)\n",
    "print(df4.mean())\n",
    "print('\\n')\n",
    "print(df4.median())\n",
    "print('\\n')\n",
    "print(df4.mode())\n",
    "\n",
    "print(df4.std())\n",
    "\n",
    "#city 2 and 3"
   ]
  },
  {
   "cell_type": "code",
   "execution_count": 26,
   "metadata": {},
   "outputs": [
    {
     "name": "stdout",
     "output_type": "stream",
     "text": [
      "0.6305169373278733\n",
      "0.2840790596751957\n",
      "0.7344483006236766\n",
      "-1.7252606307103342\n",
      "0.07621633308358916\n"
     ]
    }
   ],
   "source": [
    "# z score for below vector\n",
    "import statistics\n",
    "v = [82,72,85,14,66]\n",
    "mean_v = statistics.mean(v)\n",
    "std_v = statistics.stdev(v)\n",
    "for i in v:\n",
    "    z_score = (i-mean_v)/std_v\n",
    "    print(z_score)"
   ]
  },
  {
   "cell_type": "code",
   "execution_count": 27,
   "metadata": {},
   "outputs": [
    {
     "name": "stdout",
     "output_type": "stream",
     "text": [
      "0.25\n",
      "1.5\n"
     ]
    }
   ],
   "source": [
    "meanA = 70\n",
    "stdA = 20\n",
    "meanB = 40\n",
    "stdB = 10\n",
    "\n",
    "ZA = (75-70) / 20 \n",
    "ZB = (55-40) / 10 \n",
    "print(ZA)\n",
    "print(ZB)\n",
    "# The one with higher Z value has done better against their personal\n",
    "# track records. Therefore player B has done better compared to his\n",
    "# personal track record."
   ]
  },
  {
   "cell_type": "code",
   "execution_count": null,
   "metadata": {},
   "outputs": [],
   "source": []
  }
 ],
 "metadata": {
  "kernelspec": {
   "display_name": "Python 3",
   "language": "python",
   "name": "python3"
  },
  "language_info": {
   "codemirror_mode": {
    "name": "ipython",
    "version": 3
   },
   "file_extension": ".py",
   "mimetype": "text/x-python",
   "name": "python",
   "nbconvert_exporter": "python",
   "pygments_lexer": "ipython3",
   "version": "3.8.5"
  }
 },
 "nbformat": 4,
 "nbformat_minor": 4
}
