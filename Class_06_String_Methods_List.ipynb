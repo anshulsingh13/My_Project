{
 "cells": [
  {
   "cell_type": "code",
   "execution_count": null,
   "metadata": {},
   "outputs": [],
   "source": [
    "# 'capitalize', 'casefold', 'lower', 'swapcase', 'title', 'upper',"
   ]
  },
  {
   "cell_type": "code",
   "execution_count": 2,
   "metadata": {
    "ExecuteTime": {
     "end_time": "2021-03-08T02:38:34.277849Z",
     "start_time": "2021-03-08T02:38:34.271522Z"
    }
   },
   "outputs": [
    {
     "name": "stdout",
     "output_type": "stream",
     "text": [
      "Peter piper picked a peck of pickled peppers.\n"
     ]
    }
   ],
   "source": [
    "# Capitalize\n",
    "my_str = 'peter piper picked a peck of pickled peppers.'\n",
    "print(my_str.capitalize())\n"
   ]
  },
  {
   "cell_type": "code",
   "execution_count": 2,
   "metadata": {
    "ExecuteTime": {
     "end_time": "2021-03-08T02:39:48.933920Z",
     "start_time": "2021-03-08T02:39:48.920963Z"
    }
   },
   "outputs": [
    {
     "name": "stdout",
     "output_type": "stream",
     "text": [
      "peter piper picked a peck of pickled peppers.\n"
     ]
    }
   ],
   "source": [
    "# lower\n",
    "my_str = 'Peter Piper Picked A Peck Of Pickled Peppers.'\n",
    "print(my_str.lower())"
   ]
  },
  {
   "cell_type": "code",
   "execution_count": 3,
   "metadata": {
    "ExecuteTime": {
     "end_time": "2021-03-08T02:40:03.028572Z",
     "start_time": "2021-03-08T02:40:03.020518Z"
    }
   },
   "outputs": [
    {
     "name": "stdout",
     "output_type": "stream",
     "text": [
      "PETER PIPER PICKED A PECK OF PICKLED PEPPERS.\n"
     ]
    }
   ],
   "source": [
    "# upper\n",
    "my_str = 'Peter Piper Picked A Peck Of Pickled Peppers.'\n",
    "print(my_str.upper())"
   ]
  },
  {
   "cell_type": "code",
   "execution_count": 4,
   "metadata": {
    "ExecuteTime": {
     "end_time": "2021-03-08T02:40:21.851851Z",
     "start_time": "2021-03-08T02:40:21.842899Z"
    }
   },
   "outputs": [
    {
     "name": "stdout",
     "output_type": "stream",
     "text": [
      "pETER pIPER pICKED a pECK oF pICKLED pEPPERS.\n"
     ]
    }
   ],
   "source": [
    "# swapcase\n",
    "my_str = 'Peter Piper Picked A Peck Of Pickled Peppers.'\n",
    "print(my_str.swapcase())"
   ]
  },
  {
   "cell_type": "code",
   "execution_count": 6,
   "metadata": {
    "ExecuteTime": {
     "end_time": "2021-03-08T02:40:56.547037Z",
     "start_time": "2021-03-08T02:40:56.537236Z"
    }
   },
   "outputs": [
    {
     "name": "stdout",
     "output_type": "stream",
     "text": [
      "Peter Piper Picked A Peck Of Pickled Peppers.\n"
     ]
    }
   ],
   "source": [
    "# title\n",
    "my_str = 'peter piper picked a peck of pickled peppers.'\n",
    "print(my_str.title())"
   ]
  },
  {
   "cell_type": "code",
   "execution_count": 9,
   "metadata": {
    "ExecuteTime": {
     "end_time": "2021-03-08T02:42:18.478777Z",
     "start_time": "2021-03-08T02:42:18.468135Z"
    }
   },
   "outputs": [
    {
     "name": "stdout",
     "output_type": "stream",
     "text": [
      "fließen\n",
      "fliessen\n"
     ]
    }
   ],
   "source": [
    "# casefold\n",
    "# my_str = 'Peter Piper Picked A Peck Of Pickled Peppers.'\n",
    "# print(my_str.casefold())\n",
    "\n",
    "my_str = 'fließen'\n",
    "print(my_str.lower())\n",
    "print(my_str.casefold())"
   ]
  },
  {
   "cell_type": "code",
   "execution_count": 12,
   "metadata": {
    "ExecuteTime": {
     "end_time": "2021-03-08T02:44:55.744509Z",
     "start_time": "2021-03-08T02:44:55.732575Z"
    }
   },
   "outputs": [],
   "source": [
    "# my_str = 'peter piper picked a peck of pickled peppers.'\n",
    "# my_str.title().swapcase()"
   ]
  },
  {
   "cell_type": "code",
   "execution_count": 35,
   "metadata": {
    "ExecuteTime": {
     "end_time": "2021-03-08T02:56:14.250886Z",
     "start_time": "2021-03-08T02:56:14.246872Z"
    }
   },
   "outputs": [],
   "source": [
    "# startswith, endswith\n",
    "my_str = 'peter piper picked a peck of pickled peppers.'\n",
    "# print(my_str.startswith('p'))\n",
    "# print(my_str.startswith('pet'))\n",
    "# print(my_str.startswith('pez'))\n",
    "\n",
    "# print(my_str.startswith('pe', 21, 25))\n",
    "# print(my_str.startswith('pe', 19, len(my_str)))\n",
    "\n",
    "# print(my_str.endswith('rs.'))\n",
    "# print(my_str.endswith('.'))\n",
    "# print(my_str.endswith('rs'))\n",
    "\n",
    "# print(my_str.endswith('pe', 0, 23 ))\n",
    "# print(my_str.endswith('ck', 21, 25))\n",
    "\n",
    "# print(my_str.endswith('s', -len(my_str), -1))\n",
    "# print(my_str.endswith('.', -len(my_str), ))\n",
    "\n"
   ]
  },
  {
   "cell_type": "code",
   "execution_count": 38,
   "metadata": {
    "ExecuteTime": {
     "end_time": "2021-03-08T02:57:46.448064Z",
     "start_time": "2021-03-08T02:57:46.438442Z"
    }
   },
   "outputs": [
    {
     "name": "stdout",
     "output_type": "stream",
     "text": [
      "This is          Python     class\n",
      "This is          Python     class       \n",
      "      This is          Python     class\n"
     ]
    }
   ],
   "source": [
    "# strip, rstrip, lstrip\n",
    "\n",
    "my_str = '      This is          Python     class       '\n",
    "print(my_str.strip())\n",
    "print(my_str.lstrip())\n",
    "print(my_str.rstrip())\n",
    "\n",
    "\n"
   ]
  },
  {
   "cell_type": "code",
   "execution_count": 42,
   "metadata": {
    "ExecuteTime": {
     "end_time": "2021-03-08T02:59:48.013563Z",
     "start_time": "2021-03-08T02:59:48.002218Z"
    }
   },
   "outputs": [
    {
     "name": "stdout",
     "output_type": "stream",
     "text": [
      "9\n",
      "5\n",
      "1\n"
     ]
    }
   ],
   "source": [
    "# count \n",
    "my_str = 'peter piper picked a peck of pickled peppers.'\n",
    "print(my_str.count('p'))\n",
    "print(my_str.count('pe'))\n",
    "print(my_str.count('p', 10, 20))\n",
    "\n",
    "\n"
   ]
  },
  {
   "cell_type": "code",
   "execution_count": 1,
   "metadata": {
    "ExecuteTime": {
     "end_time": "2021-03-08T03:05:46.236904Z",
     "start_time": "2021-03-08T03:05:46.222214Z"
    }
   },
   "outputs": [
    {
     "name": "stdout",
     "output_type": "stream",
     "text": [
      "0\n",
      "6\n",
      "29\n",
      "6\n",
      "29\n"
     ]
    }
   ],
   "source": [
    "# find, rfind, index, rindex\n",
    "\n",
    "my_str = 'peter piper picked a peck of pickled peppers.'\n",
    "print(my_str.find('p'))\n",
    "# print(my_str.rfind('p'))\n",
    "# print(my_str.index('p'))\n",
    "# print(my_str.rindex('p'))\n",
    "\n",
    "# print(my_str.find('z'))\n",
    "# print(my_str.rfind('z'))\n",
    "# print(my_str.index('z'))\n",
    "# print(my_str.rindex('z'))\n",
    "\n",
    "print(my_str.find('pi'))\n",
    "print(my_str.rfind('pi'))\n",
    "print(my_str.index('pi'))\n",
    "print(my_str.rindex('pi'))\n",
    "\n"
   ]
  },
  {
   "cell_type": "code",
   "execution_count": 55,
   "metadata": {
    "ExecuteTime": {
     "end_time": "2021-03-08T03:09:54.249840Z",
     "start_time": "2021-03-08T03:09:54.246870Z"
    }
   },
   "outputs": [],
   "source": [
    "# dir(list)"
   ]
  },
  {
   "cell_type": "code",
   "execution_count": 60,
   "metadata": {
    "ExecuteTime": {
     "end_time": "2021-03-08T03:15:43.577498Z",
     "start_time": "2021-03-08T03:15:43.563179Z"
    }
   },
   "outputs": [
    {
     "data": {
      "text/plain": [
       "'peter piper picked a zeck of zickled peppers.'"
      ]
     },
     "execution_count": 60,
     "metadata": {},
     "output_type": "execute_result"
    }
   ],
   "source": [
    "# replace\n",
    "my_str = 'peter piper picked a peck of pickled peppers.'\n",
    "# my_str.replace('p', 'z')\n",
    "# my_str.replace('p', 'z', 5)\n",
    "\n",
    "def my_replace(my_str, start, end, old_char, new_char):\n",
    "    return my_str[:start] + my_str[start:end].replace(old_char, new_char) + my_str[end:]\n",
    "\n",
    "my_replace(my_str, 21, 31, 'p', 'z')\n",
    "\n",
    "\n"
   ]
  },
  {
   "cell_type": "code",
   "execution_count": 74,
   "metadata": {
    "ExecuteTime": {
     "end_time": "2021-03-08T03:25:23.744879Z",
     "start_time": "2021-03-08T03:25:23.724807Z"
    }
   },
   "outputs": [
    {
     "name": "stdout",
     "output_type": "stream",
     "text": [
      "['peter', 'piper picked a peck of pickled peppers.']\n"
     ]
    },
    {
     "data": {
      "text/plain": [
       "'z zer z cked a zeck of z ckled zezzers.'"
      ]
     },
     "execution_count": 74,
     "metadata": {},
     "output_type": "execute_result"
    }
   ],
   "source": [
    "# split, join\n",
    "\n",
    "my_str = 'peter piper picked a peck of pickled peppers.'\n",
    "# lst = my_str.split()\n",
    "lst = my_str.split(' ', 1)\n",
    "print(lst)\n",
    "' '.join(lst[1].split('i')).replace('p','z')\n",
    "\n",
    "\n",
    "# ' '.join(lst)\n",
    "# '-->'.join(lst)\n",
    "# '::'.join(lst)\n",
    "\n"
   ]
  },
  {
   "cell_type": "markdown",
   "metadata": {},
   "source": [
    "# List"
   ]
  },
  {
   "cell_type": "code",
   "execution_count": 76,
   "metadata": {
    "ExecuteTime": {
     "end_time": "2021-03-08T03:39:38.961029Z",
     "start_time": "2021-03-08T03:39:38.949870Z"
    }
   },
   "outputs": [
    {
     "name": "stdout",
     "output_type": "stream",
     "text": [
      "[10, 10.2, (10+20j), 'Python', None, True, 10, 20, 10, True, None] <class 'list'>\n"
     ]
    }
   ],
   "source": [
    "# List - []\n",
    "# List is a collection of heterogeneous data\n",
    "# List allows the duplicate data\n",
    "\n",
    "lst = [10, 10.20, 10+20j,'Python', None, True, 10, 20, 10, True, None]\n",
    "print(lst, type(lst))\n",
    "\n"
   ]
  },
  {
   "cell_type": "code",
   "execution_count": 92,
   "metadata": {
    "ExecuteTime": {
     "end_time": "2021-03-08T03:45:47.645370Z",
     "start_time": "2021-03-08T03:45:47.638668Z"
    }
   },
   "outputs": [
    {
     "name": "stdout",
     "output_type": "stream",
     "text": [
      "[10, 20, 30, 40, 1, 2, 3]\n"
     ]
    }
   ],
   "source": [
    "# List is a sequence - Indexing, Slicing, Concatenation, Repetition, length, membership, identity\n",
    "\n",
    "lst = [10,20,30,40]\n",
    "lst1 = [1, 2, 3]\n",
    "\n",
    "# List concatrentation - +, Both object s should be list\n",
    "print(lst + lst1)\n",
    "# print(lst + 'Python')\n",
    "\n",
    "# List Repetition - * - one objects should be list and other should be integer\n",
    "# print(lst * 3)\n",
    "\n",
    "# length\n",
    "# print(len(lst))\n",
    "\n",
    "# lst2 = [10, 10.20, 10+20j,'Python', None, True, 10, 20, 10, True, None]\n",
    "# print(10 in lst2)\n",
    "# print('Python' in lst2)\n",
    "\n",
    "lst2 = [10, 10.20, 10+20j,'Python', None, True, 10, 20, 10, True, None]\n",
    "# print(lst2[0])\n",
    "# print(lst2[-1])\n",
    "\n",
    "# print(lst2[20])\n",
    "\n",
    "\n",
    "# print(lst2[2:50])\n",
    "# print(lst2)\n",
    "\n",
    "\n"
   ]
  },
  {
   "cell_type": "code",
   "execution_count": 2,
   "metadata": {
    "ExecuteTime": {
     "end_time": "2021-03-08T03:49:46.862963Z",
     "start_time": "2021-03-08T03:49:46.855227Z"
    }
   },
   "outputs": [
    {
     "name": "stdout",
     "output_type": "stream",
     "text": [
      "2\n",
      "140\n",
      "140\n"
     ]
    }
   ],
   "source": [
    "# Nested List\n",
    "\n",
    "lst = [10,20,30,[1,2,3], 40,50]\n",
    "print(lst[3][1])\n",
    "\n",
    "lst = [10,20,30,[40,50,[60,70,[80,90,100,110,120,[130,140,150]]]]]\n",
    "print(lst[3][2][-1][-1][1])\n",
    "print(lst[3][2][-1][-1][1])\n",
    "\n",
    "\n"
   ]
  },
  {
   "cell_type": "code",
   "execution_count": 106,
   "metadata": {
    "ExecuteTime": {
     "end_time": "2021-03-08T03:53:31.037461Z",
     "start_time": "2021-03-08T03:53:31.034022Z"
    }
   },
   "outputs": [],
   "source": [
    "# List creation\n",
    "\n",
    "# print(list('Python'))\n",
    "# print(list((1,2,3,4)))\n",
    "# print(list([10,20,30,40]))\n",
    "# print(list({1:100, 2:200, 3:300}))\n",
    "\n",
    "# lst = eval(input('Enter a list: '))\n",
    "# print(lst, type(lst))\n",
    "\n",
    "\n",
    "# lst = 'peter piper picked a peck of pickled peppers.'\n",
    "# print(lst.split())\n",
    "\n",
    "\n",
    "\n",
    "\n"
   ]
  },
  {
   "cell_type": "code",
   "execution_count": 111,
   "metadata": {
    "ExecuteTime": {
     "end_time": "2021-03-08T03:58:38.838373Z",
     "start_time": "2021-03-08T03:58:38.826949Z"
    }
   },
   "outputs": [],
   "source": [
    "# List is mutable\n",
    "    # item assignment is possible\n",
    "    # Modification will be done in same object\n",
    "    \n",
    "# lst = [10,20,30,40]\n",
    "# print(lst, id(lst))\n",
    "# lst[0] = 111\n",
    "# print(lst, id(lst))\n"
   ]
  },
  {
   "cell_type": "code",
   "execution_count": 112,
   "metadata": {
    "ExecuteTime": {
     "end_time": "2021-03-08T03:58:41.416592Z",
     "start_time": "2021-03-08T03:58:41.409936Z"
    }
   },
   "outputs": [],
   "source": [
    "# lst = [1,2,3,4]\n",
    "# lst1 = [1,2,3,4]\n",
    "# print(lst is lst1)\n",
    "# print(id(lst))\n",
    "# print(id(lst1))"
   ]
  },
  {
   "cell_type": "code",
   "execution_count": 116,
   "metadata": {
    "ExecuteTime": {
     "end_time": "2021-03-08T04:04:10.618411Z",
     "start_time": "2021-03-08T04:04:10.615649Z"
    }
   },
   "outputs": [],
   "source": [
    "# print(dir(lst))\n",
    "\n",
    "# 'copy',  "
   ]
  },
  {
   "cell_type": "code",
   "execution_count": 119,
   "metadata": {
    "ExecuteTime": {
     "end_time": "2021-03-08T04:05:41.041899Z",
     "start_time": "2021-03-08T04:05:41.031225Z"
    }
   },
   "outputs": [
    {
     "name": "stdout",
     "output_type": "stream",
     "text": [
      "[10, 20, 30, 40, 50, 60] 4679345664\n",
      "[10, 20, 30, 40, 50, 60, [1, 2, 3, 4]] 4679345664\n"
     ]
    }
   ],
   "source": [
    "# append - adds the element at end\n",
    "lst = [10,20,30,40,50,60]\n",
    "# print(lst, id(lst))\n",
    "# lst.append(100)\n",
    "# print(lst, id(lst))\n",
    "print(lst, id(lst))\n",
    "lst.append([1,2,3,4])\n",
    "print(lst, id(lst))\n"
   ]
  },
  {
   "cell_type": "code",
   "execution_count": 122,
   "metadata": {
    "ExecuteTime": {
     "end_time": "2021-03-08T04:07:30.633456Z",
     "start_time": "2021-03-08T04:07:30.621393Z"
    }
   },
   "outputs": [
    {
     "name": "stdout",
     "output_type": "stream",
     "text": [
      "[10, 20, 30, 40, 50, 60, 1, 2, 3, 4]\n",
      "[1, 2, 3, 4]\n"
     ]
    }
   ],
   "source": [
    "# extend - similar to concatenation\n",
    "# It adds one list to another list at end and changes will be made to first list\n",
    "\n",
    "lst = [10,20,30,40,50,60]\n",
    "lst1 = [1,2,3,4]\n",
    "# print(lst+lst1)\n",
    "# print(lst)\n",
    "# print(lst1)\n",
    "\n",
    "# extending lst1 to lstr\n",
    "lst.extend(lst1)\n",
    "print(lst)\n",
    "print(lst1)\n",
    "\n"
   ]
  },
  {
   "cell_type": "code",
   "execution_count": 125,
   "metadata": {
    "ExecuteTime": {
     "end_time": "2021-03-08T04:10:37.262173Z",
     "start_time": "2021-03-08T04:10:37.250883Z"
    }
   },
   "outputs": [
    {
     "name": "stdout",
     "output_type": "stream",
     "text": [
      "[10, 20, 333, 30, 40, 50, 60]\n"
     ]
    }
   ],
   "source": [
    "# insert - inserts an element insode a list at specified index\n",
    "\n",
    "lst = [10,20,30,40,50,60]\n",
    "lst.insert(2, 333)\n",
    "print(lst)\n",
    "\n"
   ]
  },
  {
   "cell_type": "code",
   "execution_count": 137,
   "metadata": {
    "ExecuteTime": {
     "end_time": "2021-03-08T04:20:58.401700Z",
     "start_time": "2021-03-08T04:20:58.394422Z"
    }
   },
   "outputs": [
    {
     "name": "stdout",
     "output_type": "stream",
     "text": [
      "[]\n"
     ]
    }
   ],
   "source": [
    "# pop - if index is not specified removes last element from list\n",
    "# pop - if index is specified removes element from list from specified index\n",
    "lst2 = [10, 10.20, [10+20j,'Python'], None, True, 10, 20, 10, True, None]\n",
    "# print(lst2.pop())\n",
    "# print(lst2.pop(3))\n",
    "\n",
    "# remove - removes the specified value from list\n",
    "# x = lst2[2]\n",
    "# print(x)\n",
    "# lst2.remove(x)\n",
    "# print(lst2)\n",
    "\n",
    "# clear - clears a list, leaves empty list behind\n",
    "lst2.clear()\n",
    "print(lst2)\n",
    "\n",
    "\n"
   ]
  },
  {
   "cell_type": "code",
   "execution_count": 140,
   "metadata": {
    "ExecuteTime": {
     "end_time": "2021-03-08T04:22:42.019092Z",
     "start_time": "2021-03-08T04:22:42.010058Z"
    }
   },
   "outputs": [
    {
     "name": "stdout",
     "output_type": "stream",
     "text": [
      "6\n",
      "15\n"
     ]
    }
   ],
   "source": [
    "# 'count',  - gives how many time an element is repeating\n",
    "# 'index', - First occurrence of the element in list\n",
    "\n",
    "lst = [10,1,2,10,100,200,1,2,3,1,4,50,60,1,80,89,1,1]\n",
    "# print(lst.count(1))\n",
    "# print(lst.index(89))\n",
    "\n"
   ]
  },
  {
   "cell_type": "code",
   "execution_count": 150,
   "metadata": {
    "ExecuteTime": {
     "end_time": "2021-03-08T04:28:13.567826Z",
     "start_time": "2021-03-08T04:28:13.556381Z"
    }
   },
   "outputs": [
    {
     "name": "stdout",
     "output_type": "stream",
     "text": [
      "[200, 100, 89.9, 80, 60, 50, 10, 10, 4, 3, 2, 2, 1, 1, 1, 1, 1, 1]\n"
     ]
    }
   ],
   "source": [
    "#  'reverse', reverse a list\n",
    "# lst2 = [10, 10.20, [10+20j,'Python'], None, True, 10, 20, 10, True, None]\n",
    "# lst2.reverse()\n",
    "# print(lst2)\n",
    "\n",
    "\n",
    "# sort method sorts a list\n",
    "# works only on list which are having homogeneous data\n",
    "# lst2 = [10, 10.20, [10+20j,'Python'], None, True, 10, 20, 10, True, None]\n",
    "# lst2.sort()\n",
    "\n",
    "lst = [10,1,2,10,100,200,1,2,3,1,4,50,60,1,80,89.90,1,1]\n",
    "# lst.sort()    # Ascending order\n",
    "# print(lst)\n",
    "\n",
    "\n",
    "# to get list in desecending order\n",
    "lst.sort(reverse = True)   # Descending order\n",
    "print(lst)\n"
   ]
  },
  {
   "cell_type": "code",
   "execution_count": null,
   "metadata": {},
   "outputs": [],
   "source": [
    "==\n",
    "!="
   ]
  },
  {
   "cell_type": "code",
   "execution_count": null,
   "metadata": {},
   "outputs": [],
   "source": [
    "<, <=, >,>="
   ]
  },
  {
   "cell_type": "code",
   "execution_count": null,
   "metadata": {},
   "outputs": [],
   "source": []
  },
  {
   "cell_type": "code",
   "execution_count": null,
   "metadata": {},
   "outputs": [],
   "source": []
  },
  {
   "cell_type": "code",
   "execution_count": null,
   "metadata": {},
   "outputs": [],
   "source": []
  },
  {
   "cell_type": "code",
   "execution_count": null,
   "metadata": {},
   "outputs": [],
   "source": []
  },
  {
   "cell_type": "code",
   "execution_count": null,
   "metadata": {},
   "outputs": [],
   "source": []
  },
  {
   "cell_type": "code",
   "execution_count": null,
   "metadata": {},
   "outputs": [],
   "source": []
  },
  {
   "cell_type": "code",
   "execution_count": null,
   "metadata": {},
   "outputs": [],
   "source": []
  },
  {
   "cell_type": "code",
   "execution_count": null,
   "metadata": {},
   "outputs": [],
   "source": []
  },
  {
   "cell_type": "code",
   "execution_count": null,
   "metadata": {},
   "outputs": [],
   "source": []
  },
  {
   "cell_type": "code",
   "execution_count": null,
   "metadata": {},
   "outputs": [],
   "source": []
  },
  {
   "cell_type": "code",
   "execution_count": null,
   "metadata": {},
   "outputs": [],
   "source": []
  },
  {
   "cell_type": "code",
   "execution_count": null,
   "metadata": {},
   "outputs": [],
   "source": []
  },
  {
   "cell_type": "code",
   "execution_count": null,
   "metadata": {},
   "outputs": [],
   "source": []
  },
  {
   "cell_type": "code",
   "execution_count": null,
   "metadata": {},
   "outputs": [],
   "source": []
  },
  {
   "cell_type": "code",
   "execution_count": null,
   "metadata": {},
   "outputs": [],
   "source": []
  },
  {
   "cell_type": "code",
   "execution_count": null,
   "metadata": {},
   "outputs": [],
   "source": []
  },
  {
   "cell_type": "code",
   "execution_count": null,
   "metadata": {},
   "outputs": [],
   "source": []
  },
  {
   "cell_type": "code",
   "execution_count": null,
   "metadata": {},
   "outputs": [],
   "source": []
  },
  {
   "cell_type": "code",
   "execution_count": null,
   "metadata": {},
   "outputs": [],
   "source": []
  },
  {
   "cell_type": "code",
   "execution_count": null,
   "metadata": {},
   "outputs": [],
   "source": []
  },
  {
   "cell_type": "code",
   "execution_count": null,
   "metadata": {},
   "outputs": [],
   "source": []
  },
  {
   "cell_type": "code",
   "execution_count": null,
   "metadata": {},
   "outputs": [],
   "source": []
  },
  {
   "cell_type": "code",
   "execution_count": null,
   "metadata": {},
   "outputs": [],
   "source": []
  },
  {
   "cell_type": "code",
   "execution_count": null,
   "metadata": {},
   "outputs": [],
   "source": []
  },
  {
   "cell_type": "code",
   "execution_count": null,
   "metadata": {},
   "outputs": [],
   "source": []
  },
  {
   "cell_type": "code",
   "execution_count": null,
   "metadata": {},
   "outputs": [],
   "source": []
  },
  {
   "cell_type": "code",
   "execution_count": null,
   "metadata": {},
   "outputs": [],
   "source": []
  },
  {
   "cell_type": "code",
   "execution_count": null,
   "metadata": {},
   "outputs": [],
   "source": []
  },
  {
   "cell_type": "code",
   "execution_count": null,
   "metadata": {},
   "outputs": [],
   "source": []
  },
  {
   "cell_type": "code",
   "execution_count": null,
   "metadata": {},
   "outputs": [],
   "source": []
  },
  {
   "cell_type": "code",
   "execution_count": null,
   "metadata": {},
   "outputs": [],
   "source": []
  },
  {
   "cell_type": "code",
   "execution_count": null,
   "metadata": {},
   "outputs": [],
   "source": []
  },
  {
   "cell_type": "code",
   "execution_count": null,
   "metadata": {},
   "outputs": [],
   "source": []
  },
  {
   "cell_type": "code",
   "execution_count": null,
   "metadata": {},
   "outputs": [],
   "source": []
  },
  {
   "cell_type": "code",
   "execution_count": null,
   "metadata": {},
   "outputs": [],
   "source": []
  },
  {
   "cell_type": "code",
   "execution_count": null,
   "metadata": {},
   "outputs": [],
   "source": []
  },
  {
   "cell_type": "code",
   "execution_count": null,
   "metadata": {},
   "outputs": [],
   "source": []
  },
  {
   "cell_type": "code",
   "execution_count": null,
   "metadata": {},
   "outputs": [],
   "source": []
  },
  {
   "cell_type": "code",
   "execution_count": null,
   "metadata": {},
   "outputs": [],
   "source": []
  },
  {
   "cell_type": "code",
   "execution_count": null,
   "metadata": {},
   "outputs": [],
   "source": []
  },
  {
   "cell_type": "code",
   "execution_count": null,
   "metadata": {},
   "outputs": [],
   "source": []
  },
  {
   "cell_type": "code",
   "execution_count": null,
   "metadata": {},
   "outputs": [],
   "source": []
  },
  {
   "cell_type": "code",
   "execution_count": null,
   "metadata": {},
   "outputs": [],
   "source": []
  },
  {
   "cell_type": "code",
   "execution_count": null,
   "metadata": {},
   "outputs": [],
   "source": []
  },
  {
   "cell_type": "code",
   "execution_count": null,
   "metadata": {},
   "outputs": [],
   "source": []
  },
  {
   "cell_type": "code",
   "execution_count": null,
   "metadata": {},
   "outputs": [],
   "source": []
  },
  {
   "cell_type": "code",
   "execution_count": null,
   "metadata": {},
   "outputs": [],
   "source": []
  },
  {
   "cell_type": "code",
   "execution_count": null,
   "metadata": {},
   "outputs": [],
   "source": []
  },
  {
   "cell_type": "code",
   "execution_count": null,
   "metadata": {},
   "outputs": [],
   "source": []
  },
  {
   "cell_type": "code",
   "execution_count": null,
   "metadata": {},
   "outputs": [],
   "source": []
  },
  {
   "cell_type": "code",
   "execution_count": null,
   "metadata": {},
   "outputs": [],
   "source": []
  },
  {
   "cell_type": "code",
   "execution_count": null,
   "metadata": {},
   "outputs": [],
   "source": []
  },
  {
   "cell_type": "code",
   "execution_count": null,
   "metadata": {},
   "outputs": [],
   "source": []
  },
  {
   "cell_type": "code",
   "execution_count": null,
   "metadata": {},
   "outputs": [],
   "source": []
  },
  {
   "cell_type": "code",
   "execution_count": null,
   "metadata": {},
   "outputs": [],
   "source": []
  },
  {
   "cell_type": "code",
   "execution_count": null,
   "metadata": {},
   "outputs": [],
   "source": []
  },
  {
   "cell_type": "code",
   "execution_count": null,
   "metadata": {},
   "outputs": [],
   "source": []
  },
  {
   "cell_type": "code",
   "execution_count": null,
   "metadata": {},
   "outputs": [],
   "source": []
  },
  {
   "cell_type": "code",
   "execution_count": null,
   "metadata": {},
   "outputs": [],
   "source": []
  },
  {
   "cell_type": "code",
   "execution_count": null,
   "metadata": {},
   "outputs": [],
   "source": []
  },
  {
   "cell_type": "code",
   "execution_count": null,
   "metadata": {},
   "outputs": [],
   "source": []
  },
  {
   "cell_type": "code",
   "execution_count": null,
   "metadata": {},
   "outputs": [],
   "source": []
  },
  {
   "cell_type": "code",
   "execution_count": null,
   "metadata": {},
   "outputs": [],
   "source": []
  },
  {
   "cell_type": "code",
   "execution_count": null,
   "metadata": {},
   "outputs": [],
   "source": []
  },
  {
   "cell_type": "code",
   "execution_count": null,
   "metadata": {},
   "outputs": [],
   "source": []
  }
 ],
 "metadata": {
  "kernelspec": {
   "display_name": "Python 3",
   "language": "python",
   "name": "python3"
  },
  "language_info": {
   "codemirror_mode": {
    "name": "ipython",
    "version": 3
   },
   "file_extension": ".py",
   "mimetype": "text/x-python",
   "name": "python",
   "nbconvert_exporter": "python",
   "pygments_lexer": "ipython3",
   "version": "3.8.5"
  },
  "latex_envs": {
   "LaTeX_envs_menu_present": true,
   "autoclose": false,
   "autocomplete": true,
   "bibliofile": "biblio.bib",
   "cite_by": "apalike",
   "current_citInitial": 1,
   "eqLabelWithNumbers": true,
   "eqNumInitial": 1,
   "hotkeys": {
    "equation": "Ctrl-E",
    "itemize": "Ctrl-I"
   },
   "labels_anchors": false,
   "latex_user_defs": false,
   "report_style_numbering": false,
   "user_envs_cfg": false
  },
  "varInspector": {
   "cols": {
    "lenName": 16,
    "lenType": 16,
    "lenVar": 40
   },
   "kernels_config": {
    "python": {
     "delete_cmd_postfix": "",
     "delete_cmd_prefix": "del ",
     "library": "var_list.py",
     "varRefreshCmd": "print(var_dic_list())"
    },
    "r": {
     "delete_cmd_postfix": ") ",
     "delete_cmd_prefix": "rm(",
     "library": "var_list.r",
     "varRefreshCmd": "cat(var_dic_list()) "
    }
   },
   "types_to_exclude": [
    "module",
    "function",
    "builtin_function_or_method",
    "instance",
    "_Feature"
   ],
   "window_display": false
  }
 },
 "nbformat": 4,
 "nbformat_minor": 2
}
