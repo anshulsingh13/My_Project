{
 "cells": [
  {
   "cell_type": "code",
   "execution_count": 11,
   "metadata": {},
   "outputs": [
    {
     "name": "stdout",
     "output_type": "stream",
     "text": [
      "Enter list elements[10,20,30,40]\n",
      "Sum of all elements of list is: 100\n"
     ]
    }
   ],
   "source": [
    "#Write a Python program to find the sum of all elements in a list using loop.\n",
    "#Input:- [10,20,30,40]\n",
    "#Output:- 100\n",
    "\n",
    "\n",
    "def sum_list(lst1):\n",
    "    sum1 = 0\n",
    "    for i in range(len(lst1)):\n",
    "        sum1 = sum1 + lst1[i]\n",
    "    print(\"Sum of all elements of list is:\", sum1)\n",
    "    \n",
    "lst1 = eval(input(\"Enter list elements\"))\n",
    "sum_list(lst1)\n"
   ]
  },
  {
   "cell_type": "code",
   "execution_count": 13,
   "metadata": {},
   "outputs": [
    {
     "name": "stdout",
     "output_type": "stream",
     "text": [
      "Enter list elements[10,20,30,40]\n",
      "Multiplication of all elements of list is: 240000\n"
     ]
    }
   ],
   "source": [
    "#Write a Python program to find the multiplication of all elements in a list using loop.\n",
    "#Input:- [10,20,30,40]\n",
    "#Output:- 240000\n",
    "\n",
    "def mul_list(lst1):\n",
    "    mul = 1\n",
    "    for i in range(len(lst1)):\n",
    "        mul = mul * lst1[i]\n",
    "    print(\"Multiplication of all elements of list is:\", mul)\n",
    "    \n",
    "lst1 = eval(input(\"Enter list elements\"))\n",
    "mul_list(lst1)\n"
   ]
  },
  {
   "cell_type": "code",
   "execution_count": 27,
   "metadata": {},
   "outputs": [
    {
     "name": "stdout",
     "output_type": "stream",
     "text": [
      "Enter list elements[10,100,2321, 1,200,2]\n",
      "2321\n",
      "Enter list elements[10,100,2321, 1,200,2]\n",
      "2321\n",
      "Enter list elements[10,100,2321, 1,200,2]\n",
      "2321\n"
     ]
    }
   ],
   "source": [
    "#Write a Python program to find the largest number from a list using loop.\n",
    "#Input:- [10,100,2321, 1,200,2]\n",
    "#Output:- 2321\n",
    "\n",
    "def greatest_num(a):\n",
    "    max = a[0]\n",
    "    for i in range(len(a)):\n",
    "            if a[i]>max:\n",
    "                max = a[i]\n",
    "            else:\n",
    "                next\n",
    "    print(max)\n",
    "    \n",
    "lst1 = eval(input(\"Enter list elements\"))\n",
    "greatest_num(lst1)\n",
    "\n",
    "lst1 = eval(input(\"Enter list elements\"))\n",
    "print(max(lst1))\n",
    "\n",
    "lst1 = eval(input(\"Enter list elements\"))\n",
    "lst1.sort()\n",
    "print(lst1[-1])"
   ]
  },
  {
   "cell_type": "code",
   "execution_count": 29,
   "metadata": {},
   "outputs": [
    {
     "name": "stdout",
     "output_type": "stream",
     "text": [
      "Enter list elements[10,100,2321, 1,200,2]\n",
      "1\n",
      "Enter list elements[10,100,2321, 1,200,2]\n",
      "1\n",
      "Enter list elements[10,100,2321, 1,200,2]\n",
      "1\n"
     ]
    }
   ],
   "source": [
    "#Write a Python program to find the smallest number from a list using loop.\n",
    "#Input:- [10,100,2321, 1,200,2]\n",
    "#Output:- 1\n",
    "\n",
    "def smallest_num(a):\n",
    "    small = a[0]\n",
    "    for i in range(len(a)):\n",
    "            if a[i]<small:\n",
    "                small = a[i]\n",
    "            else:\n",
    "                next\n",
    "    print(small)\n",
    "    \n",
    "lst1 = eval(input(\"Enter list elements\"))\n",
    "smallest_num(lst1)\n",
    "\n",
    "lst1 = eval(input(\"Enter list elements\"))\n",
    "print(min(lst1))\n",
    "\n",
    "lst1 = eval(input(\"Enter list elements\"))\n",
    "lst1.sort()\n",
    "print(lst1[0])\n"
   ]
  },
  {
   "cell_type": "code",
   "execution_count": 13,
   "metadata": {},
   "outputs": [
    {
     "name": "stdout",
     "output_type": "stream",
     "text": [
      "Not palindrome\n",
      "Palindrome\n",
      "Not palindrome\n",
      "Palindrome\n"
     ]
    }
   ],
   "source": [
    "#Write a Python program to count the number of strings having length more than 2 and are palindrome in a list using loop.\n",
    "#Input:- ['ab', 'abc', 'aba', 'xyz', '1991']\n",
    "#Output:- 2\n",
    "# lst = ['ab', 'abc', 'aba', 'xyz', '1991']\n",
    "\n",
    "# for i in range(len(lst)//2):\n",
    "#         if lst[:(len(lst[i])//2)] == lst[-1:-((len(lst[i])//2)+1):-1]:\n",
    "#             print('Palindrome')\n",
    "#         else:\n",
    "#             print('Not palindrome')\n",
    "            \n",
    "\n",
    "lst = ['ab', 'abc', 'aba', 'xyz', '1991']\n",
    "for i in range(len(lst)):\n",
    "    if len(lst[i]) > 2:\n",
    "        if lst[i][:(len(lst[i])//2)+1] == lst[i][-1:-((len(lst[i])//2)+2):-1]:\n",
    "            print('Palindrome')\n",
    "        else:\n",
    "            print('Not palindrome')\n",
    "           "
   ]
  },
  {
   "cell_type": "code",
   "execution_count": 40,
   "metadata": {},
   "outputs": [
    {
     "name": "stdout",
     "output_type": "stream",
     "text": [
      "Enter the elements of list[100,10,1,298,65,483,49876,2,80,9,9213]\n",
      "Sorted list is: [1, 2, 9, 10, 65, 80, 100, 298, 483, 9213, 49876]\n"
     ]
    }
   ],
   "source": [
    "#Write a Python program to sort a list in ascending order using loop.\n",
    "#Input:- [100,10,1,298,65,483,49876,2,80,9,9213]\n",
    "#Output:- [1,2,9,10,65,80,100,298,483,9213,49876]\n",
    "\n",
    "def asc_ord(list1):\n",
    "#     print(len(list1))\n",
    "    for i in range(len(list1)):\n",
    "            s = 0\n",
    "            for j in range(i+1, len(list1)):\n",
    "                if (list1[i]>list1[j]):\n",
    "                    s = list1[i]\n",
    "                    list1[i] = list1[j]\n",
    "                    list1[j] = s\n",
    "    print(\"Sorted list is:\", list1)\n",
    "    \n",
    "list1 = eval(input(\"Enter the elements of list\"))\n",
    "asc_ord(list1)\n",
    "\n",
    "\n",
    "\n"
   ]
  },
  {
   "cell_type": "code",
   "execution_count": 46,
   "metadata": {},
   "outputs": [
    {
     "name": "stdout",
     "output_type": "stream",
     "text": [
      "Sorted list is: [(9, 1), (2, 3), (5, 4), (5, 5), (7, 6), (5, 9)]\n"
     ]
    }
   ],
   "source": [
    "#Write a Python program to get a sorted list in increasing order of last element in each tuple in a given list using loop.\n",
    "#Input:- [(5,4),(9,1),(2,3),(5,9),(7,6),(5,5)]\n",
    "#output:- [(9,1),(2,3),(5,4),(5,5),(7,6),(5,9)]\n",
    "\n",
    "t1 = [(5,4),(9,1),(2,3),(5,9),(7,6),(5,5)]\n",
    "for i in range(len(t1)):\n",
    "    s = 0\n",
    "    for j in range(i+1, len(t1)):\n",
    "        if (t1[i][1]>t1[j][1]):\n",
    "            s = t1[i]\n",
    "            t1[i] = t1[j]\n",
    "            t1[j] = s\n",
    "print(\"Sorted list is:\", t1)"
   ]
  },
  {
   "cell_type": "code",
   "execution_count": 79,
   "metadata": {},
   "outputs": [
    {
     "name": "stdout",
     "output_type": "stream",
     "text": [
      "Without duplicates: [10, 1, 11, 29, 876, 768, 92]\n"
     ]
    }
   ],
   "source": [
    "#Write a Python program to remove fuplicate element from a list using loop.\n",
    "#Input:- [10,1,11,1,29,876,768,10,11,1,92,29,876]\n",
    "#Output:- [10,1,11,29,876,768,92]\n",
    "list1 =[]\n",
    "list2 = [10,1,11,1,29,876,768,10,11,1,92,29,876]\n",
    "for i in list2:\n",
    "    if i not in list1:\n",
    "        list1.append(i)\n",
    "print(\"Without duplicates:\", list1)\n",
    "        \n"
   ]
  },
  {
   "cell_type": "code",
   "execution_count": 11,
   "metadata": {},
   "outputs": [
    {
     "name": "stdout",
     "output_type": "stream",
     "text": [
      "Enter the elements of list[]\n",
      "List is empty\n"
     ]
    }
   ],
   "source": [
    "#Write a Python program to check a list is empty or not?\n",
    "#Input:- []\n",
    "#Output:- List is empty\n",
    "#Input:- [10,20,30]\n",
    "#Output:- List is not empty\n",
    "\n",
    "def check(list1):\n",
    "    try:\n",
    "        if (list1[0]!=''):\n",
    "            print(\"List is not empty\")\n",
    "    except:\n",
    "            print(\"List is empty\")\n",
    "    \n",
    "list1 = eval(input(\"Enter the elements of list\"))\n",
    "check(list1)"
   ]
  },
  {
   "cell_type": "code",
   "execution_count": 12,
   "metadata": {},
   "outputs": [
    {
     "name": "stdout",
     "output_type": "stream",
     "text": [
      "New copy: [10, 10.2, (10+20j), 'Python', [10, 20], (10, 20)]\n"
     ]
    }
   ],
   "source": [
    "#Write a Python program to copy a list using loop.\n",
    "#inp_lst = [10,10.20,10+20j, 'Python', [10,20], (10,20)]\n",
    "#out_lst = [10,10.20,10+20j, 'Python', [10,20], (10,20)]\n",
    "\n",
    "inp_lst = [10,10.20,10+20j, 'Python', [10,20], (10,20)]\n",
    "lst = []\n",
    "for i in inp_lst:\n",
    "    lst.append(i)\n",
    "print(\"New copy:\", lst)\n"
   ]
  },
  {
   "cell_type": "code",
   "execution_count": 15,
   "metadata": {},
   "outputs": [
    {
     "name": "stdout",
     "output_type": "stream",
     "text": [
      "['How', 'much', 'wood', 'would', 'a', 'woodchuck', 'chuck', 'if', 'a', 'woodchuck', 'could', 'chuck', 'wood']\n",
      "List: ['much', 'wood', 'would', 'woodchuck', 'chuck', 'could']\n"
     ]
    }
   ],
   "source": [
    "#Write a Python program to find the list of words that are longer than or equal to 4 from a given string.\n",
    "#Input:- 'How much wood would a woodchuck chuck if a woodchuck could chuck wood'\n",
    "#Output:- ['much', 'wood', 'would', 'woodchuck', 'chuck', 'could']\n",
    "#Note:- Duplicate should be avoided.\n",
    "\n",
    "lst1 = []\n",
    "in_lst = 'How much wood would a woodchuck chuck if a woodchuck could chuck wood'.split()\n",
    "print(in_lst)\n",
    "\n",
    "for i in in_lst:\n",
    "    if i not in lst1 and len(i)>=4:\n",
    "        lst1.append(i)\n",
    "print(\"List:\", lst1)"
   ]
  },
  {
   "cell_type": "code",
   "execution_count": 20,
   "metadata": {},
   "outputs": [
    {
     "name": "stdout",
     "output_type": "stream",
     "text": [
      "True\n"
     ]
    }
   ],
   "source": [
    "#Write a Python program which takes two list as input and returns True if they have at least 3 common elements.\n",
    "#inp_lst1 = [10,20,'Python', 10.20, 10+20j, [10,20,30], (10,20,30)]\n",
    "#inp_lst2 = [(10,20,30),1,20+3j,100.2, 10+20j, [10,20,30],'Python']\n",
    "#Output:- True\n",
    "\n",
    "inp_lst1 = [10,20,'Python', 10.20, 10+20j, [10,20,30], (10,20,30)]\n",
    "inp_lst2 = [(10,20,30),1,20+3j,100.2, 10+20j, [10,20,30],'Python']\n",
    "\n",
    "c = 0\n",
    "for i in inp_lst1:\n",
    "    if i in inp_lst2:\n",
    "       c = c+1\n",
    "if c >=3:\n",
    "    print(\"True\")\n",
    "else:\n",
    "    print(\"False\")"
   ]
  },
  {
   "cell_type": "code",
   "execution_count": 66,
   "metadata": {},
   "outputs": [
    {
     "name": "stdout",
     "output_type": "stream",
     "text": [
      "Using List comprehension\n",
      "[[0, 0, 0, 0], [0, 1, 2, 3], [0, 2, 4, 6], [0, 3, 6, 9]]\n",
      "Using loop\n",
      "[[0, 0, 0, 0], [0, 1, 2, 3], [0, 2, 4, 6], [0, 3, 6, 9]]\n"
     ]
    }
   ],
   "source": [
    "#Write a Python program to create a 4X4 2D matrix with below elements using loop and list comprehension both.\n",
    "#Output:- [[0,0,0,0],[0,1,2,3],[0,2,4,6],[0,3,6,9]]\n",
    "\n",
    "\n",
    "print('Using List comprehension')\n",
    "lst = [[i*j for j in range(4)] for i in range(4)]\n",
    "print(lst)\n",
    "\n",
    "print('Using loop')\n",
    "n_lst = []\n",
    "for i in range(4):\n",
    "    n_lst.append([])\n",
    "    for j in range(4):\n",
    "        n_lst[i].append(i*j)\n",
    "print(n_lst)"
   ]
  },
  {
   "cell_type": "code",
   "execution_count": 57,
   "metadata": {},
   "outputs": [
    {
     "name": "stdout",
     "output_type": "stream",
     "text": [
      "Using List comprehension\n",
      "[[[0, 0, 0, 0, 0, 0], [0, 0, 0, 0, 0, 0], [0, 0, 0, 0, 0, 0], [0, 0, 0, 0, 0, 0]], [[0, 0, 0, 0, 0, 0], [1, 1, 1, 1, 1, 1], [2, 2, 2, 2, 2, 2], [3, 3, 3, 3, 3, 3]], [[0, 0, 0, 0, 0, 0], [2, 2, 2, 2, 2, 2], [4, 4, 4, 4, 4, 4], [6, 6, 6, 6, 6, 6]]]\n",
      "Using loop\n",
      "[[[0, 0, 0, 0, 0, 0], [0, 0, 0, 0, 0, 0], [0, 0, 0, 0, 0, 0], [0, 0, 0, 0, 0, 0]], [[0, 0, 0, 0, 0, 0], [1, 1, 1, 1, 1, 1], [2, 2, 2, 2, 2, 2], [3, 3, 3, 3, 3, 3]], [[0, 0, 0, 0, 0, 0], [2, 2, 2, 2, 2, 2], [4, 4, 4, 4, 4, 4], [6, 6, 6, 6, 6, 6]]]\n"
     ]
    }
   ],
   "source": [
    "#Write a Python program to create a 3X4X6 3D matrix wiith below elements using loop\n",
    "#Output:- \n",
    "# [\n",
    "#     [[0,0,0,0,0,0],[0,0,0,0,0,0],[0,0,0,0,0,0],[0,0,0,0,0,0]],\n",
    "#     [[0,0,0,0,0,0],[1,1,1,1,1,1],[2,2,2,2,2,2],[3,3,3,3,3,3]],\n",
    "#     [[0,0,0,0,0,0],[2,2,2,2,2,2],[4,4,4,4,4,4],[6,6,6,6,6,6]]\n",
    "# ]\n",
    "\n",
    "print('Using List comprehension')\n",
    "lst = [[ [i*j for col in range(6)] for j in range(4)] for i in range(3)]\n",
    "print(lst)\n",
    "\n",
    "print('Using loop')\n",
    "\n",
    "x = 3\n",
    "y = 4\n",
    "z = 6\n",
    "a_list = []\n",
    "\n",
    "for i in range(x):\n",
    "    a_list.append([])\n",
    "    for j in range(y):\n",
    "        a_list[i].append([])\n",
    "        for k in range(z):\n",
    "            a_list[i][j].append(i*j)\n",
    "print(a_list)"
   ]
  },
  {
   "cell_type": "code",
   "execution_count": 87,
   "metadata": {},
   "outputs": [
    {
     "name": "stdout",
     "output_type": "stream",
     "text": [
      "Enter list elements[10,21,22,98,87,45,33,1,2,100]\n",
      "[21, 87, 45, 33, 1]\n"
     ]
    }
   ],
   "source": [
    "#Write a Python program which takes a list of numbers as input and prints a new list after removing even numbers from it.\n",
    "#Input:- [10,21,22,98,87,45,33,1,2,100]\n",
    "#Output:- [21,87,45,33,1]\n",
    "\n",
    "\n",
    "def odd_list(lst1):\n",
    "    for i in lst1:\n",
    "        for j in lst1:\n",
    "            if (j%2 == 0):\n",
    "                lst1.remove(j)\n",
    "    print(lst1)\n",
    "lst1 = eval(input(\"Enter list elements\"))\n",
    "odd_list(lst1)\n"
   ]
  },
  {
   "cell_type": "code",
   "execution_count": 95,
   "metadata": {},
   "outputs": [
    {
     "name": "stdout",
     "output_type": "stream",
     "text": [
      "[33, 10, 22, 21, 45, 1, 98, 87, 100, 2]\n",
      "[100, 45, 98, 87, 33, 21, 1, 2, 10, 22]\n"
     ]
    }
   ],
   "source": [
    "#Write a Python program which takes a list from the user and prints it after reshuffling the elements of the list.\n",
    "#Input:- [10,21,22,98,87,45,33,1,2,100]\n",
    "#Output:- [1,87,21,10,33,2,100,45,98,22] (It may be any randon list but with same elements)\n",
    "import random \n",
    "lst = [10,21,22,98,87,45,33,1,2,100]\n",
    "random.shuffle(lst)\n",
    "print(lst)\n",
    "\n",
    "list1 = [10,21,22,98,87,45,33,1,2,100]\n",
    "for i in range(0, len(list1)): \n",
    "    j = random.randint(0, i + 1)   \n",
    "    list1[i], list1[j] = list1[j], list1[i]\n",
    "print(list1)"
   ]
  },
  {
   "cell_type": "code",
   "execution_count": null,
   "metadata": {},
   "outputs": [],
   "source": []
  }
 ],
 "metadata": {
  "kernelspec": {
   "display_name": "Python 3",
   "language": "python",
   "name": "python3"
  },
  "language_info": {
   "codemirror_mode": {
    "name": "ipython",
    "version": 3
   },
   "file_extension": ".py",
   "mimetype": "text/x-python",
   "name": "python",
   "nbconvert_exporter": "python",
   "pygments_lexer": "ipython3",
   "version": "3.8.5"
  },
  "varInspector": {
   "cols": {
    "lenName": 16,
    "lenType": 16,
    "lenVar": 40
   },
   "kernels_config": {
    "python": {
     "delete_cmd_postfix": "",
     "delete_cmd_prefix": "del ",
     "library": "var_list.py",
     "varRefreshCmd": "print(var_dic_list())"
    },
    "r": {
     "delete_cmd_postfix": ") ",
     "delete_cmd_prefix": "rm(",
     "library": "var_list.r",
     "varRefreshCmd": "cat(var_dic_list()) "
    }
   },
   "types_to_exclude": [
    "module",
    "function",
    "builtin_function_or_method",
    "instance",
    "_Feature"
   ],
   "window_display": false
  }
 },
 "nbformat": 4,
 "nbformat_minor": 2
}
