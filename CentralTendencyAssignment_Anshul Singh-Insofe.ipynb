{
 "cells": [
  {
   "cell_type": "markdown",
   "metadata": {},
   "source": [
    "1. Two people work in a factory making parts for cars."
   ]
  },
  {
   "cell_type": "code",
   "execution_count": 30,
   "metadata": {
    "scrolled": true
   },
   "outputs": [
    {
     "name": "stdout",
     "output_type": "stream",
     "text": [
      "        Mon  Tue  Wed  Thur  Fri\n",
      "Philip   15   21   20    20   20\n",
      "Mathew   30   25   12    35    0\n",
      "\n",
      "\n",
      "Mean is:\n",
      " Philip    19.2\n",
      "Mathew    20.4\n",
      "dtype: float64\n",
      "\n",
      "\n",
      "Median is:\n",
      " Philip    20.0\n",
      "Mathew    25.0\n",
      "dtype: float64\n",
      "\n",
      "\n",
      "Rnage is:\n",
      " Philip     6\n",
      "Mathew    35\n",
      "dtype: int64\n"
     ]
    }
   ],
   "source": [
    "import pandas as pd\n",
    "data = [{'Mon': 15, 'Tue': 21, 'Wed':20, 'Thur':20, 'Fri':20},\n",
    "        {'Mon': 30, 'Tue': 25, 'Wed':12, 'Thur':35, 'Fri':0}]\n",
    "\n",
    "df = pd.DataFrame(data, index = ['Philip','Mathew'] )\n",
    "print(df)\n",
    "print('\\n')\n",
    "print(\"Mean is:\\n\",df.mean(axis=1))\n",
    "print('\\n')\n",
    "print(\"Median is:\\n\",df.median(axis=1))\n",
    "print('\\n')\n",
    "print(\"Rnage is:\\n\",(df.max(axis=1))-(df.min(axis=1)))\n",
    "\n",
    "# more consistent is philip\n",
    "# Mathew makes more parts in a week"
   ]
  },
  {
   "cell_type": "markdown",
   "metadata": {},
   "source": [
    "2. Following are Kohli’s scores in 4 matches played between India and Australia, match 5 being\n",
    "the latest one played in a five match series"
   ]
  },
  {
   "cell_type": "code",
   "execution_count": 46,
   "metadata": {},
   "outputs": [
    {
     "name": "stdout",
     "output_type": "stream",
     "text": [
      "   Matches  Score\n",
      "0        1     65\n",
      "1        2     72\n",
      "2        3     58\n",
      "3        4     77\n",
      "Mean:  68.0\n",
      "Median:  68.5\n",
      "New Mean:  68.4\n",
      "New Median:  70.0\n"
     ]
    }
   ],
   "source": [
    "Matches = [1,2,3,4]\n",
    "Score = [65,72,58,77]\n",
    "cols = ['Matches','Score']\n",
    "df1 = pd.DataFrame(list(zip(Matches,Score)), columns = cols)\n",
    "print(df1)\n",
    "\n",
    "# a) What are his mean and median scores for the first four matches played?\n",
    "print(\"Mean: \",df1['Score'].mean())\n",
    "print(\"Median: \",df1['Score'].median())\n",
    "\n",
    "# b) If he scores 70 in his fifth match, does his series mean score increase or decrease w.r.t. scores\n",
    "# obtained for first four matches. Find his new mean score. \"Increases\"\n",
    "df1.loc[4] = [5, 70]\n",
    "df1\n",
    "print(\"New Mean: \",df1['Score'].mean())\n",
    "\n",
    "# c) Which has increased more, his mean score or his median score after the fifth match? \"Median\"\n",
    "print(\"New Median: \",df1['Score'].median())"
   ]
  },
  {
   "cell_type": "markdown",
   "metadata": {},
   "source": [
    "3. A company has 50 employees and their average salary is 1 Lakh per annum. They recruited a\n",
    "CEO whose salary is very high. Which of the following measure of Central Tendencies will be\n",
    "impacted more?\n",
    "\n",
    "a)Median\n",
    "b)Mode\n",
    "c)Mean\n",
    "\n",
    "Mean will be the one which will be impacted more"
   ]
  },
  {
   "cell_type": "markdown",
   "metadata": {},
   "source": [
    "4. Here is the data of experience of individuals in a PGP class. We have grouped individuals into\n",
    "4 groups. Compute the average and median values for each group and list your observations:\n",
    "\n",
    "a) What is the average in each group?\n",
    "b) What is the median in each group?\n",
    "c) What is the average experience across all groups?\n",
    "d) Does the average of the each group average experience is same as the Grand average?"
   ]
  },
  {
   "cell_type": "code",
   "execution_count": 59,
   "metadata": {},
   "outputs": [
    {
     "name": "stdout",
     "output_type": "stream",
     "text": [
      "   Group 1  Group 2  Group 3  Group 4\n",
      "0        0        3       14        9\n",
      "1        0       12        9        4\n",
      "2        0        3        4        9\n",
      "3        0       14        7        8\n",
      "4        0        3        5        4\n",
      "5        0        2        2        6\n",
      "6        1        5        4        5\n",
      "7        2        9        3        3\n",
      "8        1        5        6        2\n",
      "9        6        9        8       12\n",
      "\n",
      "\n",
      "Mean is:\n",
      " Group 1    1.0\n",
      "Group 2    6.5\n",
      "Group 3    6.2\n",
      "Group 4    6.2\n",
      "dtype: float64\n",
      "\n",
      "\n",
      "Median is:\n",
      " Group 1    0.0\n",
      "Group 2    5.0\n",
      "Group 3    5.5\n",
      "Group 4    5.5\n",
      "dtype: float64\n"
     ]
    },
    {
     "data": {
      "text/plain": [
       "4.975"
      ]
     },
     "execution_count": 59,
     "metadata": {},
     "output_type": "execute_result"
    }
   ],
   "source": [
    "grpA=[0,0,0,0,0,0,1,2,1,6]\n",
    "grpB=[3,12,3.5,14,3,2.8,5,9,5.5,9]\n",
    "grpC=[14,9.5,4.5,7.5,5,2,4.8,3.6,6,8.5]\n",
    "grpD=[9,4.5,9,8,4,6,5,3.5,2.8,12]\n",
    "\n",
    "df2 = pd.DataFrame(list(zip(grpA,grpB,grpC,grpD)))\n",
    "df2.transpose()\n",
    "df2.columns  = ['Group 1','Group 2', 'Group 3', 'Group 4']\n",
    "df2\n",
    "df2 = df2.astype({\"Group 1\":'int', \"Group 2\":'int', \"Group 3\":'int', \"Group 4\":'int'}) \n",
    "print(df2)\n",
    "\n",
    "# a) What is the average in each group?\n",
    "print('\\n')\n",
    "print(\"Mean is:\\n\",df2.mean(axis=0))\n",
    "\n",
    "# b) What is the median in each group?\n",
    "print('\\n')\n",
    "print(\"Median is:\\n\",df2.median(axis=0))\n",
    "\n",
    "# c) What is the average experience across all groups?\n",
    "df2.stack().mean()\n",
    "\n",
    "# d) Does the average of the each group average experience is same as the Grand average?\n",
    "# No"
   ]
  },
  {
   "cell_type": "markdown",
   "metadata": {},
   "source": [
    "5) Find the mode for the below series\n",
    "a) 8,6, 2, 4, 6, 8,10,8\n",
    "b)\"apples\",\"apples\",\"apples\",\"oranges\",\"oranges\",\"oranges\",\"grapes\",\"mango"
   ]
  },
  {
   "cell_type": "code",
   "execution_count": 66,
   "metadata": {},
   "outputs": [
    {
     "name": "stdout",
     "output_type": "stream",
     "text": [
      "0    8\n",
      "dtype: int64\n",
      "0     apples\n",
      "1    oranges\n",
      "dtype: object\n"
     ]
    }
   ],
   "source": [
    "a = (8,6, 2, 4, 6, 8,10,8)\n",
    "s1 = pd.Series(a)\n",
    "print(s1.mode())\n",
    "\n",
    "b = [\"apples\",\"apples\",\"apples\",\"oranges\",\"oranges\",\"oranges\",\"grapes\",\"mango\"]\n",
    "s2 = pd.Series(b)\n",
    "print(s2.mode())\n"
   ]
  },
  {
   "cell_type": "markdown",
   "metadata": {},
   "source": [
    "Practice Assignment:"
   ]
  },
  {
   "cell_type": "code",
   "execution_count": 70,
   "metadata": {},
   "outputs": [
    {
     "data": {
      "text/plain": [
       "50.5"
      ]
     },
     "execution_count": 70,
     "metadata": {},
     "output_type": "execute_result"
    }
   ],
   "source": [
    "# a) Create a vector with first 100 natural numbers. Compute its mean and median.\n",
    "\n",
    "import numpy as np\n",
    "l1 = np.arange(1,101)\n",
    "l1.mean()"
   ]
  },
  {
   "cell_type": "code",
   "execution_count": 74,
   "metadata": {},
   "outputs": [
    {
     "data": {
      "text/plain": [
       "37.23076923076923"
      ]
     },
     "execution_count": 74,
     "metadata": {},
     "output_type": "execute_result"
    }
   ],
   "source": [
    "# b) Create a vector with 12, 13, 12, 15, 32, 32, 24, 24, 53, 45, 78, 53, 91. Compute its mean\n",
    "# and median.\n",
    "import statistics\n",
    "l2 = [12, 13, 12, 15, 32, 32, 24, 24, 53, 45, 78, 53, 91]\n",
    "statistics.mean(l2)"
   ]
  },
  {
   "cell_type": "code",
   "execution_count": 77,
   "metadata": {},
   "outputs": [
    {
     "name": "stdout",
     "output_type": "stream",
     "text": [
      "48.03901599833648\n",
      "35.133926003061546\n"
     ]
    }
   ],
   "source": [
    "# c) Create a random vector of length 10 with values between 20 and 40. Compute its mean\n",
    "# and median.\n",
    "\n",
    "l3 = np.random.normal(20,40,10)\n",
    "print(statistics.mean(l3))\n",
    "print(statistics.median(l3))"
   ]
  },
  {
   "cell_type": "code",
   "execution_count": 79,
   "metadata": {},
   "outputs": [
    {
     "name": "stdout",
     "output_type": "stream",
     "text": [
      "20\n"
     ]
    },
    {
     "data": {
      "text/plain": [
       "0    20\n",
       "1    30\n",
       "dtype: int64"
      ]
     },
     "execution_count": 79,
     "metadata": {},
     "output_type": "execute_result"
    }
   ],
   "source": [
    "# d) Calculate the mode for following numbers using table and modes function. Report your\n",
    "# observation.\n",
    "# Y <- c(10, 10, 20, 20, 20, 20, 30, 30, 30, 25, 75, 30)\n",
    "\n",
    "Y  = [10, 10, 20, 20, 20, 20, 30, 30, 30, 25, 75, 30]\n",
    "print(statistics.mode(Y))\n",
    "y1 = pd.Series(Y)\n",
    "y1.mode()"
   ]
  },
  {
   "cell_type": "code",
   "execution_count": null,
   "metadata": {},
   "outputs": [],
   "source": []
  },
  {
   "cell_type": "code",
   "execution_count": null,
   "metadata": {},
   "outputs": [],
   "source": []
  },
  {
   "cell_type": "code",
   "execution_count": null,
   "metadata": {},
   "outputs": [],
   "source": []
  }
 ],
 "metadata": {
  "kernelspec": {
   "display_name": "Python 3",
   "language": "python",
   "name": "python3"
  },
  "language_info": {
   "codemirror_mode": {
    "name": "ipython",
    "version": 3
   },
   "file_extension": ".py",
   "mimetype": "text/x-python",
   "name": "python",
   "nbconvert_exporter": "python",
   "pygments_lexer": "ipython3",
   "version": "3.8.5"
  }
 },
 "nbformat": 4,
 "nbformat_minor": 4
}
