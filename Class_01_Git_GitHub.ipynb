{
 "cells": [
  {
   "cell_type": "code",
   "execution_count": 1,
   "metadata": {
    "colab": {
     "base_uri": "https://localhost:8080/"
    },
    "id": "JJqIXfe-OQcP",
    "outputId": "ba5c7c05-73ce-4cc1-81b1-77569379e14a"
   },
   "outputs": [
    {
     "name": "stdout",
     "output_type": "stream",
     "text": [
      "Hello\n"
     ]
    }
   ],
   "source": [
    "➜  myProject git:(master) ls\n",
    "    \n",
    "\n",
    "➜  myProject git:(master) touch f1.py\n",
    "\n",
    "➜  myProject git:(master) ✗ ls\n",
    "f1.py\n",
    "\n",
    "➜  myProject git:(master) ✗ vim f2.py\n",
    "\n",
    "➜  myProject git:(master) ✗ ls\n",
    "f1.py f2.py\n",
    "\n",
    "➜  myProject git:(master) ✗ vim f2.py\n",
    "\n",
    "➜  myProject git:(master) ✗ cat f2.py\n",
    "a = 10\n",
    "b = 20\n",
    "c = a+b\n",
    "print(c)\n",
    "jbdsjvhbs\n",
    "jbhsdvkjsdb\n",
    "sjhdbvksdnxks\n",
    "\n",
    "➜  myProject git:(master) ✗ echo 'Hello World! Hey There, we are learining Python.' > f3.py\n",
    "\n",
    "➜  myProject git:(master) ✗ cat f3.py\n",
    "Hello World! Hey There, we are learining Python.\n",
    "\n",
    "➜  myProject git:(master) ✗ echo 'Hello guys, we are changing it now, Java.' > f3.py\n",
    "\n",
    "➜  myProject git:(master) ✗ cat f3.py\n",
    "Hello guys, we are changing it now, Java.\n",
    "\n",
    "➜  myProject git:(master) ✗ echo 'Hello World! Hey There, we are learning Python.' >> f3.py\n",
    "\n",
    "➜  myProject git:(master) ✗ cat f3.py\n",
    "Hello guys, we are changing it now, Java.\n",
    "Hello World! Hey There, we are learning Python.\n",
    "\n",
    "➜  myProject git:(master) ✗ touch f1.py\n",
    "\n",
    "➜  myProject git:(master) ✗ ls\n",
    "f1.py f2.py f3.py\n",
    "\n",
    "➜  myProject git:(master) ✗ echo Hello > f4.py\n",
    "\n",
    "➜  myProject git:(master) ✗ cat f4.py\n",
    "Hello\n",
    "\n",
    "➜  myProject git:(master) ✗ touch f4.py\n",
    "\n",
    "➜  myProject git:(master) ✗ ls\n",
    "f1.py f2.py f3.py f4.py\n",
    "\n",
    "➜  myProject git:(master) ✗ cat f4.py\n",
    "Hello\n",
    "\n",
    "➜  myProject git:(master) ls\n",
    "\n",
    "➜  myProject git:(master) touch f1.py\n",
    "\n",
    "➜  myProject git:(master) ✗ ls\n",
    "f1.py\n",
    "\n",
    "➜  myProject git:(master) ✗ vim f2.py\n",
    "\n",
    "➜  myProject git:(master) ✗ git status\n",
    "On branch master\n",
    "\n",
    "No commits yet\n",
    "\n",
    "Untracked files:\n",
    "  (use \"git add <file>...\" to include in what will be committed)\n",
    "        f1.py\n",
    "        f2.py\n",
    "        f3.py\n",
    "        f4.py\n",
    "\n",
    "nothing added to commit but untracked files present (use \"git add\" to track)\n",
    "\n",
    "➜  myProject git:(master) ✗ git add .\n",
    "\n",
    "➜  myProject git:(master) ✗ git commit -m 'This my first commit'\n",
    "[master (root-commit) 38cdab5] This my first commit\n",
    " 4 files changed, 10 insertions(+)\n",
    " create mode 100644 f1.py\n",
    " create mode 100644 f2.py\n",
    " create mode 100644 f3.py\n",
    " create mode 100644 f4.py\n",
    "\n",
    "➜  myProject git:(master) git status\n",
    "On branch master\n",
    "nothing to commit, working tree clean\n",
    "\n",
    "➜  myProject git:(master) git remote -v\n",
    "origin  https://github.com/AbhsihekJagdishwar/myProject_github.git (fetch)\n",
    "origin  https://github.com/AbhsihekJagdishwar/myProject_github.git (push)\n",
    "\n",
    "➜  myProject git:(master) git branch -m master main\n",
    "\n",
    "➜  myProject git:(main) git remote -v\n",
    "origin  https://github.com/AbhsihekJagdishwar/myProject_github.git (fetch)\n",
    "origin  https://github.com/AbhsihekJagdishwar/myProject_github.git (push)\n",
    "\n",
    "➜  myProject git:(main) git fetch origin\n",
    "warning: no common commits\n",
    "remote: Enumerating objects: 3, done.\n",
    "remote: Counting objects: 100% (3/3), done.\n",
    "remote: Total 3 (delta 0), reused 0 (delta 0), pack-reused 0\n",
    "Unpacking objects: 100% (3/3), 603 bytes | 301.00 KiB/s, done.\n",
    "From https://github.com/AbhsihekJagdishwar/myProject_github\n",
    " * [new branch]      main       -> origin/main\n",
    "\n",
    "➜  myProject git:(main) git push -f origin main\n",
    "Username for 'https://github.com': ibuddhagupta@gmail.com\n",
    "Password for 'https://ibuddhagupta@gmail.com@github.com':\n",
    "Enumerating objects: 6, done.\n",
    "Counting objects: 100% (6/6), done.\n",
    "Delta compression using up to 4 threads\n",
    "Compressing objects: 100% (4/4), done.\n",
    "Writing objects: 100% (6/6), 469 bytes | 469.00 KiB/s, done.\n",
    "Total 6 (delta 0), reused 0 (delta 0), pack-reused 0\n",
    "To https://github.com/AbhsihekJagdishwar/myProject_github.git\n",
    " + 3bf91a2...38cdab5 main -> main (forced update)\n",
    "\n",
    "➜  myProject git:(main) git remote -v\n",
    "origin  https://github.com/AbhsihekJagdishwar/myProject_github.git (fetch)\n",
    "origin  https://github.com/AbhsihekJagdishwar/myProject_github.git (push)\n",
    "\n",
    "➜  myProject git:(main) git log"
   ]
  },
  {
   "cell_type": "code",
   "execution_count": null,
   "metadata": {
    "id": "PK2qkPr3gVA1"
   },
   "outputs": [],
   "source": [
    "# Python 2.x vs Python 3"
   ]
  },
  {
   "cell_type": "code",
   "execution_count": null,
   "metadata": {
    "id": "EAkzS-K4ggo2"
   },
   "outputs": [],
   "source": [
    "Source code - The code we write - .py\n",
    "Byte code - Intermediate (Platform Indepenedent) - .pyc\n",
    "Machine code - 0&1 - Signals"
   ]
  },
  {
   "cell_type": "code",
   "execution_count": 2,
   "metadata": {
    "colab": {
     "base_uri": "https://localhost:8080/"
    },
    "id": "LxohMlefggyx",
    "outputId": "b34c1290-d366-408e-a25a-18fbc41bafdd"
   },
   "outputs": [
    {
     "name": "stdout",
     "output_type": "stream",
     "text": [
      "30\n"
     ]
    }
   ],
   "source": [
    "a = 10\n",
    "b = 20\n",
    "c = a+b\n",
    "print(c)"
   ]
  },
  {
   "cell_type": "code",
   "execution_count": null,
   "metadata": {
    "id": "I5rDd6Pegg1n"
   },
   "outputs": [],
   "source": [
    "# Compiler vs Interpreter - Translators\n",
    "\n",
    "# Compiler - \n",
    "\n",
    "# Interpreter - \n",
    "\n",
    "\n"
   ]
  },
  {
   "cell_type": "code",
   "execution_count": null,
   "metadata": {
    "id": "5WXrIzm_gg4a"
   },
   "outputs": [],
   "source": [
    "# Compiled - Compiler - Code in HL is tralslated to LL all at once\n",
    "  # C, C++, Java"
   ]
  },
  {
   "cell_type": "code",
   "execution_count": null,
   "metadata": {
    "id": "UqqC8lxpkQQv"
   },
   "outputs": [],
   "source": [
    "C -> Source code -> .exe file(Windows) -> Output\n",
    "\n",
    "\n",
    "# Portable - Source code can be move from one platfomr to another\n",
    "# Platfomr Independent - Intermediate code can be move from one platfomr to another"
   ]
  },
  {
   "cell_type": "code",
   "execution_count": null,
   "metadata": {
    "id": "wuR95l5Kgg7J"
   },
   "outputs": [],
   "source": [
    "# Interpreted - Interpreter - Code in HL is tralslated to LL line by line\n",
    "  # Python, perl, JS"
   ]
  },
  {
   "cell_type": "code",
   "execution_count": null,
   "metadata": {
    "id": "QzW92kbNghCo"
   },
   "outputs": [],
   "source": [
    "User(High)    Translator      Computer(Level)"
   ]
  },
  {
   "cell_type": "code",
   "execution_count": null,
   "metadata": {
    "id": "JbTc_WEgghF1"
   },
   "outputs": [],
   "source": [
    "Low Level - Machine language(0000110100111100), Assembly language etc.  Not portable\n",
    "High Level - C, C++. Java, Python"
   ]
  },
  {
   "cell_type": "code",
   "execution_count": null,
   "metadata": {
    "id": "9DN-0CCDghI1"
   },
   "outputs": [],
   "source": [
    "Compile and INterpreted"
   ]
  },
  {
   "cell_type": "code",
   "execution_count": null,
   "metadata": {
    "id": "kzELZc6zghL-"
   },
   "outputs": [],
   "source": [
    "Compiled - Memory allocation and type checking\n",
    "\n",
    "Interpreted - Memory allocation and type checking"
   ]
  },
  {
   "cell_type": "code",
   "execution_count": null,
   "metadata": {
    "id": "7nNbkTy8lUEQ"
   },
   "outputs": [],
   "source": [
    "int a;"
   ]
  },
  {
   "cell_type": "code",
   "execution_count": null,
   "metadata": {
    "id": "Y4o_qDT7lsmh"
   },
   "outputs": [],
   "source": [
    "# Python 2.x vs Python 3\n",
    "# Compile vs Interpreted Languages\n",
    "# Compiler vs Interpreter\n",
    "# Portable vs Platform Independent"
   ]
  }
 ],
 "metadata": {
  "colab": {
   "name": "Class_01_Git_GitHub.ipynb",
   "provenance": []
  },
  "kernelspec": {
   "display_name": "Python 3",
   "name": "python3"
  }
 },
 "nbformat": 4,
 "nbformat_minor": 0
}
