{
 "cells": [
  {
   "cell_type": "markdown",
   "metadata": {},
   "source": [
    "Q. Declare a complex number and store it in a variable.\n",
    "Check the type and print the id of the same."
   ]
  },
  {
   "cell_type": "code",
   "execution_count": 1,
   "metadata": {},
   "outputs": [
    {
     "name": "stdout",
     "output_type": "stream",
     "text": [
      "<class 'complex'>\n",
      "2112938220432\n"
     ]
    }
   ],
   "source": [
    "a = 10 + 6j\n",
    "print(type(a))\n",
    "print(id(a))"
   ]
  },
  {
   "cell_type": "markdown",
   "metadata": {},
   "source": [
    "Arithmetic Operations on complex number\n",
    "Take two different complex numbers.\n",
    "Store them in two different variables.\n",
    "Do below operations on them:-\n",
    "Find sum of both numbers\n",
    "Find difference between them\n",
    "Find the product of both numbers.\n",
    "Find value after dividing first num with second number\n",
    "Find the result of the first num to the power of the second number."
   ]
  },
  {
   "cell_type": "code",
   "execution_count": 4,
   "metadata": {},
   "outputs": [
    {
     "name": "stdout",
     "output_type": "stream",
     "text": [
      "Sum of the two numbers is: (15+15j)\n",
      "Difference of the two numbers is: (5-5j)\n",
      "Product of the two numbers is: 125j\n",
      "Division of the two numbers is: (0.8-0.6j)\n",
      "Exponent of the two numbers is: (408.58376367718193+1643.0459340679765j)\n"
     ]
    }
   ],
   "source": [
    "num1 = 10 + 5j\n",
    "num2 = 5 + 10j\n",
    "#sum\n",
    "print('Sum of the two numbers is:', num1+num2)\n",
    "\n",
    "#difference\n",
    "print('Difference of the two numbers is:', num1-num2)\n",
    "\n",
    "#product\n",
    "print('Product of the two numbers is:', num1*num2)\n",
    "\n",
    "#division\n",
    "print('Division of the two numbers is:', num1/num2)\n",
    "\n",
    "#exponent\n",
    "print('Exponent of the two numbers is:', num1**num2)"
   ]
  },
  {
   "cell_type": "markdown",
   "metadata": {},
   "source": [
    "Comparison Operation not applicable between instance of complex\n",
    "values.\n",
    "Object reusability concept is not applicable on complex number"
   ]
  },
  {
   "cell_type": "code",
   "execution_count": 6,
   "metadata": {},
   "outputs": [
    {
     "ename": "TypeError",
     "evalue": "'>' not supported between instances of 'complex' and 'complex'",
     "output_type": "error",
     "traceback": [
      "\u001b[1;31m---------------------------------------------------------------------------\u001b[0m",
      "\u001b[1;31mTypeError\u001b[0m                                 Traceback (most recent call last)",
      "\u001b[1;32m<ipython-input-6-e7772b680fd1>\u001b[0m in \u001b[0;36m<module>\u001b[1;34m\u001b[0m\n\u001b[0;32m      5\u001b[0m \u001b[1;33m\u001b[0m\u001b[0m\n\u001b[0;32m      6\u001b[0m \u001b[1;31m#greater than\u001b[0m\u001b[1;33m\u001b[0m\u001b[1;33m\u001b[0m\u001b[1;33m\u001b[0m\u001b[0m\n\u001b[1;32m----> 7\u001b[1;33m \u001b[0mprint\u001b[0m\u001b[1;33m(\u001b[0m\u001b[1;33m(\u001b[0m\u001b[0mnum1\u001b[0m\u001b[1;33m>\u001b[0m\u001b[0mnum2\u001b[0m\u001b[1;33m)\u001b[0m\u001b[1;33m)\u001b[0m\u001b[1;33m\u001b[0m\u001b[1;33m\u001b[0m\u001b[0m\n\u001b[0m\u001b[0;32m      8\u001b[0m \u001b[1;33m\u001b[0m\u001b[0m\n\u001b[0;32m      9\u001b[0m \u001b[1;31m#equality\u001b[0m\u001b[1;33m\u001b[0m\u001b[1;33m\u001b[0m\u001b[1;33m\u001b[0m\u001b[0m\n",
      "\u001b[1;31mTypeError\u001b[0m: '>' not supported between instances of 'complex' and 'complex'"
     ]
    }
   ],
   "source": [
    "#comparison\n",
    "\n",
    "num1 = 10 + 5j\n",
    "num2 = 5 + 10j\n",
    "\n",
    "#greater than\n",
    "print((num1>num2))"
   ]
  },
  {
   "cell_type": "code",
   "execution_count": 7,
   "metadata": {},
   "outputs": [
    {
     "name": "stdout",
     "output_type": "stream",
     "text": [
      "False\n",
      "True\n"
     ]
    }
   ],
   "source": [
    "#equality\n",
    "\n",
    "num1 = 10 + 5j\n",
    "num2 = 5 + 10j\n",
    "print(num1 == num2)\n",
    "print(num1!=num2)"
   ]
  },
  {
   "cell_type": "markdown",
   "metadata": {},
   "source": [
    "Logical operators\n",
    "Observe the output of below code\n",
    "Cross check the output manually"
   ]
  },
  {
   "cell_type": "code",
   "execution_count": 8,
   "metadata": {},
   "outputs": [
    {
     "name": "stdout",
     "output_type": "stream",
     "text": [
      "(20+30j)\n"
     ]
    }
   ],
   "source": [
    "print(10+20j and 20+30j)"
   ]
  },
  {
   "cell_type": "code",
   "execution_count": 9,
   "metadata": {},
   "outputs": [
    {
     "name": "stdout",
     "output_type": "stream",
     "text": [
      "0j\n"
     ]
    }
   ],
   "source": [
    "print(0+0j and 20+30j)"
   ]
  },
  {
   "cell_type": "code",
   "execution_count": 10,
   "metadata": {},
   "outputs": [
    {
     "name": "stdout",
     "output_type": "stream",
     "text": [
      "0j\n"
     ]
    }
   ],
   "source": [
    "print(20+30j and 0+0j)"
   ]
  },
  {
   "cell_type": "code",
   "execution_count": 11,
   "metadata": {},
   "outputs": [
    {
     "name": "stdout",
     "output_type": "stream",
     "text": [
      "0j\n"
     ]
    }
   ],
   "source": [
    "print(0+0j and 0+0j)"
   ]
  },
  {
   "cell_type": "code",
   "execution_count": 12,
   "metadata": {},
   "outputs": [
    {
     "name": "stdout",
     "output_type": "stream",
     "text": [
      "(10+20j)\n"
     ]
    }
   ],
   "source": [
    "print(10+20j or 20+30j)"
   ]
  },
  {
   "cell_type": "code",
   "execution_count": 13,
   "metadata": {},
   "outputs": [
    {
     "name": "stdout",
     "output_type": "stream",
     "text": [
      "(20+30j)\n"
     ]
    }
   ],
   "source": [
    "print(0+0j or 20+30j)"
   ]
  },
  {
   "cell_type": "code",
   "execution_count": 14,
   "metadata": {},
   "outputs": [
    {
     "name": "stdout",
     "output_type": "stream",
     "text": [
      "(20+30j)\n"
     ]
    }
   ],
   "source": [
    "print(20+30j or 0+0j)"
   ]
  },
  {
   "cell_type": "code",
   "execution_count": 15,
   "metadata": {},
   "outputs": [
    {
     "name": "stdout",
     "output_type": "stream",
     "text": [
      "0j\n"
     ]
    }
   ],
   "source": [
    "print(0+0j or 0+0j)"
   ]
  },
  {
   "cell_type": "code",
   "execution_count": 16,
   "metadata": {},
   "outputs": [
    {
     "name": "stdout",
     "output_type": "stream",
     "text": [
      "False\n"
     ]
    }
   ],
   "source": [
    "print(not 10+20j)"
   ]
  },
  {
   "cell_type": "code",
   "execution_count": 17,
   "metadata": {},
   "outputs": [
    {
     "name": "stdout",
     "output_type": "stream",
     "text": [
      "True\n"
     ]
    }
   ],
   "source": [
    "print(not 0+0j)"
   ]
  },
  {
   "cell_type": "markdown",
   "metadata": {},
   "source": [
    "What is the output of the expression inside the print statement.\n",
    "Cross check before running the program."
   ]
  },
  {
   "cell_type": "code",
   "execution_count": 18,
   "metadata": {},
   "outputs": [
    {
     "name": "stdout",
     "output_type": "stream",
     "text": [
      "False\n",
      "True\n"
     ]
    }
   ],
   "source": [
    "a = 10+20j\n",
    "b = 10+20j\n",
    "print(a is b)#false because integer values lies beyond the range(-5 to 256) (Object can't be reused for Complex data types)\n",
    "print(a is not b)"
   ]
  },
  {
   "cell_type": "markdown",
   "metadata": {},
   "source": [
    "Membership operation\n",
    "in, not in are two membership operators and it returns boolean value"
   ]
  },
  {
   "cell_type": "code",
   "execution_count": 19,
   "metadata": {},
   "outputs": [
    {
     "name": "stdout",
     "output_type": "stream",
     "text": [
      "True\n",
      "True\n",
      "True\n",
      "True\n",
      "True\n",
      "True\n"
     ]
    }
   ],
   "source": [
    "print('2.7' in 'Python2.7.8')\n",
    "print(10+20j in [10,10.20,10+20j,'Python'])\n",
    "print(10+20j in (10,10.20,10+20j,'Python'))\n",
    "print(30+40j in {1,20.30,30+40j})\n",
    "print(30+40j in {1:100, 2.3:200, 30+40j:300})\n",
    "print(10 in range(20))"
   ]
  },
  {
   "cell_type": "code",
   "execution_count": null,
   "metadata": {},
   "outputs": [],
   "source": []
  }
 ],
 "metadata": {
  "kernelspec": {
   "display_name": "Python 3",
   "language": "python",
   "name": "python3"
  },
  "language_info": {
   "codemirror_mode": {
    "name": "ipython",
    "version": 3
   },
   "file_extension": ".py",
   "mimetype": "text/x-python",
   "name": "python",
   "nbconvert_exporter": "python",
   "pygments_lexer": "ipython3",
   "version": "3.8.5"
  }
 },
 "nbformat": 4,
 "nbformat_minor": 4
}
