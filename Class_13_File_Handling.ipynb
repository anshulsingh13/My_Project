{
 "cells": [
  {
   "cell_type": "code",
   "execution_count": null,
   "metadata": {},
   "outputs": [],
   "source": [
    "# Write a function invertDictionary(d) that takes in a dictionary as argument and return a dictionary that inverts the keys and the values of the original dictionary.\n",
    "# In - invertDictionary({'a':1, 'b':2, 'c':3, 'd':2})\n",
    "# Out - {1: ['a'], 2: ['b', 'd'], 3: ['c']}\n",
    "# In - invertDictionary({'a':3, 'b':3, 'c':3})\n",
    "# Out - {3: ['a', 'c', 'b']}\n",
    "# In - invertDictionary({'a':2, 'b':1, 'c':2, 'd':1})\n",
    "# Out - {1: ['b', 'd'], 2: ['a', 'c']}"
   ]
  },
  {
   "cell_type": "code",
   "execution_count": 7,
   "metadata": {
    "ExecuteTime": {
     "end_time": "2021-03-22T02:51:03.599560Z",
     "start_time": "2021-03-22T02:51:03.585465Z"
    }
   },
   "outputs": [
    {
     "data": {
      "text/plain": [
       "{2: ['a', 'c'], 1: ['b', 'd']}"
      ]
     },
     "execution_count": 7,
     "metadata": {},
     "output_type": "execute_result"
    }
   ],
   "source": [
    "def invert_dictionary(my_dict):\n",
    "    out_dict = {}\n",
    "    out_lst = []\n",
    "    for i in my_dict:\n",
    "        out_lst += [[i, my_dict[i]]]\n",
    "    for ele in out_lst:\n",
    "        if ele[1] in out_dict:\n",
    "            out_dict[ele[1]].append(ele[0])\n",
    "        else:\n",
    "            out_dict[ele[1]] = [ele[0]]\n",
    "    return out_dict\n",
    "invert_dictionary({'a':2, 'b':1, 'c':2, 'd':1})"
   ]
  },
  {
   "cell_type": "code",
   "execution_count": 9,
   "metadata": {
    "ExecuteTime": {
     "end_time": "2021-03-22T02:59:11.650484Z",
     "start_time": "2021-03-22T02:59:11.642398Z"
    }
   },
   "outputs": [
    {
     "name": "stdout",
     "output_type": "stream",
     "text": [
      "{'A': 'U', 'T': 'A', 'C': 'G', 'G': 'C'}\n"
     ]
    }
   ],
   "source": [
    "# In gene expression, mRNA is transcribed from a DNA template. \n",
    "# The 4 nucleotide bases of A, T, C, G corresponds to the U, A, G, C bases of the mRNA. \n",
    "# Write a function that returns the mRNA transcript given the sequence of a DNA strand.\n",
    "\n",
    "# Use a dictionary to provide the mapping of DNA to RNA bases.\n",
    "\n",
    "def mRNA(n_bases, m_bases):\n",
    "    return dict(zip(n_bases, m_bases))\n",
    "\n",
    "n_bases = 'A', 'T', 'C', 'G'\n",
    "m_bases = 'U', 'A', 'G', 'C'\n",
    "print(mRNA(n_bases, m_bases))\n",
    "\n",
    "\n",
    "\n"
   ]
  },
  {
   "cell_type": "code",
   "execution_count": null,
   "metadata": {},
   "outputs": [],
   "source": [
    "# Write a function that converts a dictionary back to its sparse vector representation.\n",
    "# In - convertDictionary({0: 1, 3: 2, 7: 3, 12: 4})\n",
    "# Out - [1, 0, 0, 2, 0, 0, 0, 3, 0, 0, 0, 0, 4]\n",
    "# In - convertDictionary({0: 1, 2: 1, 4: 2, 6: 1, 9: 1})\n",
    "# Out - [1, 0, 1, 0, 2, 0, 1, 0, 0, 1]\n",
    "# In - convertDictionary({})\n",
    "# Out - []\n",
    "\n",
    "\n",
    "\n",
    "\n"
   ]
  },
  {
   "cell_type": "code",
   "execution_count": 10,
   "metadata": {
    "ExecuteTime": {
     "end_time": "2021-03-22T03:10:45.273178Z",
     "start_time": "2021-03-22T03:10:45.269323Z"
    }
   },
   "outputs": [],
   "source": [
    "# File Handling in Python\n",
    "# Text file \n",
    "# Binary file\n",
    "\n",
    "# openning a file\n",
    "# read/write into the file\n",
    "# close the file\n",
    "\n",
    "\n"
   ]
  },
  {
   "cell_type": "code",
   "execution_count": 11,
   "metadata": {
    "ExecuteTime": {
     "end_time": "2021-03-22T03:15:19.467501Z",
     "start_time": "2021-03-22T03:15:19.457103Z"
    }
   },
   "outputs": [
    {
     "name": "stdout",
     "output_type": "stream",
     "text": [
      "a = 10\n",
      "b = 20\n",
      "def emp_info(ename, eid, esal):\n",
      "    print(ename)\n",
      "    print(eid)\n",
      "    print(esal)\n",
      "    \n",
      "    \n",
      "def add(num1, num2):\n",
      "    return num1 + num2\n",
      "\n",
      "def main():\n",
      "    emp_info('ABC', 101, 10000)\n",
      "    print(a)\n",
      "    \n",
      "    \n",
      "print(__name__)  \n",
      "\n",
      "if __name__ == '__main__':\n",
      "    main()\n"
     ]
    }
   ],
   "source": [
    "# To open a file - open('file_name.ext', 'mode')\n",
    "    # returns file object\n",
    "# We need to clsoe the file - close()\n",
    "\n",
    "f = open('my_mod.py', 'r')\n",
    "print(f.read())\n",
    "f.close()\n",
    "\n",
    "\n"
   ]
  },
  {
   "cell_type": "code",
   "execution_count": null,
   "metadata": {},
   "outputs": [],
   "source": [
    "# Different mode of operations on text file\n",
    "r - read mode\n",
    "w - write mode\n",
    "a - append mode\n",
    "r+ - read and write mode\n",
    "w+ - write and read mode\n",
    "a+ - append and read mode\n",
    "\n",
    "# Different mode of operations on binary file\n",
    "rb - read mode\n",
    "wb - write mode\n",
    "ab - append mode\n",
    "r+b - read and write mode\n",
    "w+b - write and read mode\n",
    "a+b - append and read mode\n"
   ]
  },
  {
   "cell_type": "code",
   "execution_count": 15,
   "metadata": {
    "ExecuteTime": {
     "end_time": "2021-03-22T03:23:19.512355Z",
     "start_time": "2021-03-22T03:23:19.497539Z"
    }
   },
   "outputs": [
    {
     "ename": "UnsupportedOperation",
     "evalue": "not writable",
     "output_type": "error",
     "traceback": [
      "\u001b[0;31m---------------------------------------------------------------------------\u001b[0m",
      "\u001b[0;31mUnsupportedOperation\u001b[0m                      Traceback (most recent call last)",
      "\u001b[0;32m<ipython-input-15-cb54e7e6b2aa>\u001b[0m in \u001b[0;36m<module>\u001b[0;34m\u001b[0m\n\u001b[1;32m     13\u001b[0m \u001b[0;34m\u001b[0m\u001b[0m\n\u001b[1;32m     14\u001b[0m \u001b[0mf\u001b[0m \u001b[0;34m=\u001b[0m \u001b[0mopen\u001b[0m\u001b[0;34m(\u001b[0m\u001b[0;34m'my_mod.py'\u001b[0m\u001b[0;34m,\u001b[0m \u001b[0;34m'r'\u001b[0m\u001b[0;34m)\u001b[0m\u001b[0;34m\u001b[0m\u001b[0;34m\u001b[0m\u001b[0m\n\u001b[0;32m---> 15\u001b[0;31m \u001b[0mf\u001b[0m\u001b[0;34m.\u001b[0m\u001b[0mwrite\u001b[0m\u001b[0;34m(\u001b[0m\u001b[0;34m'Hello'\u001b[0m\u001b[0;34m)\u001b[0m\u001b[0;34m\u001b[0m\u001b[0;34m\u001b[0m\u001b[0m\n\u001b[0m\u001b[1;32m     16\u001b[0m \u001b[0mf\u001b[0m\u001b[0;34m.\u001b[0m\u001b[0mclose\u001b[0m\u001b[0;34m(\u001b[0m\u001b[0;34m)\u001b[0m\u001b[0;34m\u001b[0m\u001b[0;34m\u001b[0m\u001b[0m\n\u001b[1;32m     17\u001b[0m \u001b[0;34m\u001b[0m\u001b[0m\n",
      "\u001b[0;31mUnsupportedOperation\u001b[0m: not writable"
     ]
    }
   ],
   "source": [
    "# r/rb - read mode\n",
    "# 1. If file does not exist it will give FileNotFoundError.\n",
    "# 2. If file exist then it will open the file in read mode and places the cursor in the begining of the file.\n",
    "# 3. You are allowed only to read from the file but not allowed to write into the file.\n",
    "\n",
    "# f = open('my_mod.py', 'r')\n",
    "# print(f.read())\n",
    "# f.close()\n",
    "\n",
    "# f = open('my_mod.txt', 'r')   # FileNotFoundError: [Errno 2] No such file or directory: 'my_mod.txt'\n",
    "# print(f.read())\n",
    "# f.close()\n",
    "\n",
    "f = open('my_mod.py', 'r')\n",
    "f.write('Hello')     # UnsupportedOperation: not writable\n",
    "f.close()\n",
    "\n"
   ]
  },
  {
   "cell_type": "code",
   "execution_count": 21,
   "metadata": {
    "ExecuteTime": {
     "end_time": "2021-03-22T03:27:06.360096Z",
     "start_time": "2021-03-22T03:27:06.355041Z"
    }
   },
   "outputs": [],
   "source": [
    "# w/wb - write mode\n",
    "# 1. If file does not exist it will cfeate a file with given name and extension.\n",
    "# 2. If file exist then it will open the file in write mode and deletes the content of the file.\n",
    "# 3. You are allowed only to write into the file but not allowed to read from the file.\n",
    "\n",
    "# f = open('validate_email.py', 'w')\n",
    "# f.write('Hello World!!!')\n",
    "# f.close()\n",
    "\n",
    "# f = open('my_mod.txt', 'w')   \n",
    "# f.close()\n",
    "\n",
    "# f = open('my_mod.py', 'w')\n",
    "# print(f.read())     # UnsupportedOperation: not readable\n",
    "# f.close()"
   ]
  },
  {
   "cell_type": "code",
   "execution_count": 26,
   "metadata": {
    "ExecuteTime": {
     "end_time": "2021-03-22T03:38:58.277034Z",
     "start_time": "2021-03-22T03:38:58.268309Z"
    }
   },
   "outputs": [
    {
     "name": "stdout",
     "output_type": "stream",
     "text": [
      "338\n",
      "0\n"
     ]
    }
   ],
   "source": [
    "# a/ab - append mode\n",
    "# 1. If file does not exist it will create a file with given name and extension.\n",
    "# 2. If file exist then it will open the file in append mode and places the cursor in the end of the file.\n",
    "# 3. You are allowed only to write into the file but not allowed to read from the file.\n",
    "\n",
    "f = open('my_mod.py', 'a')\n",
    "print(f.tell())\n",
    "f.seek(0)\n",
    "print(f.tell())\n",
    "f.write('File Handling class in Python!!!')\n",
    "f.close()\n",
    "\n",
    "# f = open('validate_email.txt', 'a')   \n",
    "# f.close()\n",
    "\n",
    "# f = open('my_mod.py', 'a')\n",
    "# print(f.read())     # UnsupportedOperation: not readable\n",
    "# f.close()"
   ]
  },
  {
   "cell_type": "code",
   "execution_count": 27,
   "metadata": {
    "ExecuteTime": {
     "end_time": "2021-03-22T03:41:48.366124Z",
     "start_time": "2021-03-22T03:41:48.356687Z"
    }
   },
   "outputs": [],
   "source": [
    "# r+/r+b - read and write\n",
    "# 1. If file does not exist it will give FileNotFoundError.\n",
    "# 2. If file exist then it will open the file in read mode and places the cursor in the begining of the file.\n",
    "# 3. You are allowed to read and write both\n",
    "\n",
    "# f = open('my_mod.py', 'r')\n",
    "# print(f.read())\n",
    "# f.close()\n",
    "\n",
    "# f = open('my_mod.txt', 'r')   # FileNotFoundError: [Errno 2] No such file or directory: 'my_mod.txt'\n",
    "# print(f.read())\n",
    "# f.close()\n",
    "\n",
    "f = open('my_mod.py', 'r+')\n",
    "f.write('Hello')    \n",
    "f.close()\n",
    "\n"
   ]
  },
  {
   "cell_type": "code",
   "execution_count": null,
   "metadata": {},
   "outputs": [],
   "source": [
    "# w+/w+b - write and read mode\n",
    "# 1. If file does not exist it will cfeate a file with given name and extension.\n",
    "# 2. If file exist then it will open the file in write mode and deletes the content of the file.\n",
    "# 3. You are allowed to read and write both\n",
    "\n",
    "# f = open('validate_email.py', 'w'+)\n",
    "# f.write('Hello World!!!')\n",
    "# f.close()\n",
    "\n",
    "# f = open('my_mod.txt', 'w+')   \n",
    "# f.close()\n",
    "\n",
    "# f = open('my_mod.py', 'w+')\n",
    "# print(f.read())     \n",
    "# f.close()"
   ]
  },
  {
   "cell_type": "code",
   "execution_count": null,
   "metadata": {},
   "outputs": [],
   "source": [
    "# a+/a+b - append and read mode\n",
    "# 1. If file does not exist it will create a file with given name and extension.\n",
    "# 2. If file exist then it will open the file in append mode and places the cursor in the end of the file.\n",
    "# 3. You are allowed to read and write both\n",
    "\n",
    "f = open('my_mod.py', 'a+')\n",
    "print(f.tell())\n",
    "f.seek(0)\n",
    "print(f.tell())\n",
    "f.write('File Handling class in Python!!!')\n",
    "f.close()\n",
    "\n",
    "# f = open('validate_email.txt', 'a+')   \n",
    "# f.close()\n",
    "\n",
    "# f = open('my_mod.py', 'a+')\n",
    "# print(f.read())     \n",
    "# f.close()"
   ]
  },
  {
   "cell_type": "code",
   "execution_count": 32,
   "metadata": {
    "ExecuteTime": {
     "end_time": "2021-03-22T03:49:45.546719Z",
     "start_time": "2021-03-22T03:49:45.535674Z"
    }
   },
   "outputs": [
    {
     "name": "stdout",
     "output_type": "stream",
     "text": [
      "['Helloferent mode of operations on text file\\n', 'r - read mode\\n', 'w - write mode\\n', 'a - append mode\\n', 'r+ - read and write mode\\n', 'w+ - write and read mode\\n', 'a+ - append and read mode\\n', '\\n', '# Different mode of operations on binary file\\n', 'rb - read mode\\n', 'wb - write mode\\n', 'ab - append mode\\n', 'r+b - read and write mode\\n', 'w+b - write and read mode\\n', 'a+b - append and read mode\\n']\n"
     ]
    }
   ],
   "source": [
    "# Methods to read from the file\n",
    "# read() - reads the whole contet of teh file and returns a string objet\n",
    "# read(no of char) - reads the specified number of charactyers from current cursor position\n",
    "# readline() - reads one line and returns a string object\n",
    "# readlines() - reads the whole content of teh file and returns a list of strings where every element/string is one line\n",
    "\n",
    "f = open('my_mod.py', 'r')\n",
    "# print(f.read())\n",
    "# print(f.tell())\n",
    "# print(f.read(100))\n",
    "# print(f.readline())\n",
    "print(f.readlines())\n",
    "f.close()\n"
   ]
  },
  {
   "cell_type": "code",
   "execution_count": 38,
   "metadata": {
    "ExecuteTime": {
     "end_time": "2021-03-22T03:54:21.777876Z",
     "start_time": "2021-03-22T03:54:21.759582Z"
    }
   },
   "outputs": [
    {
     "ename": "NameError",
     "evalue": "name 'd' is not defined",
     "output_type": "error",
     "traceback": [
      "\u001b[0;31m---------------------------------------------------------------------------\u001b[0m",
      "\u001b[0;31mNameError\u001b[0m                                 Traceback (most recent call last)",
      "\u001b[0;32m<ipython-input-38-726ee32a4f1f>\u001b[0m in \u001b[0;36m<module>\u001b[0;34m\u001b[0m\n\u001b[1;32m     10\u001b[0m \u001b[0mf\u001b[0m \u001b[0;34m=\u001b[0m \u001b[0mopen\u001b[0m\u001b[0;34m(\u001b[0m\u001b[0;34m'f1.txt'\u001b[0m\u001b[0;34m,\u001b[0m\u001b[0;34m'w+'\u001b[0m\u001b[0;34m)\u001b[0m\u001b[0;34m\u001b[0m\u001b[0;34m\u001b[0m\u001b[0m\n\u001b[1;32m     11\u001b[0m \u001b[0mf\u001b[0m\u001b[0;34m.\u001b[0m\u001b[0mwritelines\u001b[0m\u001b[0;34m(\u001b[0m\u001b[0;34m[\u001b[0m\u001b[0;34m'Helloferent mode of operations on text file\\n'\u001b[0m\u001b[0;34m,\u001b[0m \u001b[0;34m'r - read mode\\n'\u001b[0m\u001b[0;34m,\u001b[0m \u001b[0;34m'w - write mode\\n'\u001b[0m\u001b[0;34m,\u001b[0m \u001b[0;34m'a - append mode\\n'\u001b[0m\u001b[0;34m,\u001b[0m \u001b[0;34m'r+ - read and write mode\\n'\u001b[0m\u001b[0;34m,\u001b[0m \u001b[0;34m'w+ - write and read mode\\n'\u001b[0m\u001b[0;34m,\u001b[0m \u001b[0;34m'a+ - append and read mode\\n'\u001b[0m\u001b[0;34m,\u001b[0m \u001b[0;34m'\\n'\u001b[0m\u001b[0;34m,\u001b[0m \u001b[0;34m'# Different mode of operations on binary file\\n'\u001b[0m\u001b[0;34m,\u001b[0m \u001b[0;34m'rb - read mode\\n'\u001b[0m\u001b[0;34m,\u001b[0m \u001b[0;34m'wb - write mode\\n'\u001b[0m\u001b[0;34m,\u001b[0m \u001b[0;34m'ab - append mode\\n'\u001b[0m\u001b[0;34m,\u001b[0m \u001b[0;34m'r+b - read and write mode\\n'\u001b[0m\u001b[0;34m,\u001b[0m \u001b[0;34m'w+b - write and read mode\\n'\u001b[0m\u001b[0;34m,\u001b[0m \u001b[0;34m'a+b - append and read mode\\n'\u001b[0m\u001b[0;34m]\u001b[0m\u001b[0;34m)\u001b[0m\u001b[0;34m\u001b[0m\u001b[0;34m\u001b[0m\u001b[0m\n\u001b[0;32m---> 12\u001b[0;31m \u001b[0mprint\u001b[0m\u001b[0;34m(\u001b[0m\u001b[0md\u001b[0m\u001b[0;34m)\u001b[0m\u001b[0;34m\u001b[0m\u001b[0;34m\u001b[0m\u001b[0m\n\u001b[0m\u001b[1;32m     13\u001b[0m \u001b[0mf\u001b[0m\u001b[0;34m.\u001b[0m\u001b[0mclose\u001b[0m\u001b[0;34m(\u001b[0m\u001b[0;34m)\u001b[0m\u001b[0;34m\u001b[0m\u001b[0;34m\u001b[0m\u001b[0m\n\u001b[1;32m     14\u001b[0m \u001b[0;34m\u001b[0m\u001b[0m\n",
      "\u001b[0;31mNameError\u001b[0m: name 'd' is not defined"
     ]
    }
   ],
   "source": [
    "# Methods to write\n",
    "# write('string') - write only one line at a time\n",
    "# writelines(['str1\\n', 'str2\\n', 'str3\\n'])\n",
    "\n",
    "# f = open('my_mod.txt', 'w')\n",
    "# # f.write('write(\"string\") - write only one line at a time')\n",
    "# f.writelines(['Helloferent mode of operations on text file\\n', 'r - read mode\\n', 'w - write mode\\n', 'a - append mode\\n', 'r+ - read and write mode\\n', 'w+ - write and read mode\\n', 'a+ - append and read mode\\n', '\\n', '# Different mode of operations on binary file\\n', 'rb - read mode\\n', 'wb - write mode\\n', 'ab - append mode\\n', 'r+b - read and write mode\\n', 'w+b - write and read mode\\n', 'a+b - append and read mode\\n'])\n",
    "# f.close()\n",
    "\n",
    "\n",
    "\n",
    "\n"
   ]
  },
  {
   "cell_type": "code",
   "execution_count": 41,
   "metadata": {
    "ExecuteTime": {
     "end_time": "2021-03-22T03:56:43.264443Z",
     "start_time": "2021-03-22T03:56:43.234875Z"
    }
   },
   "outputs": [
    {
     "ename": "NameError",
     "evalue": "name 'd' is not defined",
     "output_type": "error",
     "traceback": [
      "\u001b[0;31m---------------------------------------------------------------------------\u001b[0m",
      "\u001b[0;31mNameError\u001b[0m                                 Traceback (most recent call last)",
      "\u001b[0;32m<ipython-input-41-ec3271ce1fe3>\u001b[0m in \u001b[0;36m<module>\u001b[0;34m\u001b[0m\n\u001b[1;32m      8\u001b[0m \u001b[0;32mwith\u001b[0m \u001b[0mopen\u001b[0m\u001b[0;34m(\u001b[0m\u001b[0;34m'f1.txt'\u001b[0m\u001b[0;34m,\u001b[0m \u001b[0;34m'w+'\u001b[0m\u001b[0;34m)\u001b[0m \u001b[0;32mas\u001b[0m \u001b[0mf\u001b[0m\u001b[0;34m:\u001b[0m\u001b[0;34m\u001b[0m\u001b[0;34m\u001b[0m\u001b[0m\n\u001b[1;32m      9\u001b[0m     \u001b[0mf\u001b[0m\u001b[0;34m.\u001b[0m\u001b[0mwritelines\u001b[0m\u001b[0;34m(\u001b[0m\u001b[0;34m[\u001b[0m\u001b[0;34m'Helloferent mode of operations on text file\\n'\u001b[0m\u001b[0;34m,\u001b[0m \u001b[0;34m'r - read mode\\n'\u001b[0m\u001b[0;34m,\u001b[0m \u001b[0;34m'w - write mode\\n'\u001b[0m\u001b[0;34m,\u001b[0m \u001b[0;34m'a - append mode\\n'\u001b[0m\u001b[0;34m,\u001b[0m \u001b[0;34m'r+ - read and write mode\\n'\u001b[0m\u001b[0;34m,\u001b[0m \u001b[0;34m'w+ - write and read mode\\n'\u001b[0m\u001b[0;34m,\u001b[0m \u001b[0;34m'a+ - append and read mode\\n'\u001b[0m\u001b[0;34m,\u001b[0m \u001b[0;34m'\\n'\u001b[0m\u001b[0;34m,\u001b[0m \u001b[0;34m'# Different mode of operations on binary file\\n'\u001b[0m\u001b[0;34m,\u001b[0m \u001b[0;34m'rb - read mode\\n'\u001b[0m\u001b[0;34m,\u001b[0m \u001b[0;34m'wb - write mode\\n'\u001b[0m\u001b[0;34m,\u001b[0m \u001b[0;34m'ab - append mode\\n'\u001b[0m\u001b[0;34m,\u001b[0m \u001b[0;34m'r+b - read and write mode\\n'\u001b[0m\u001b[0;34m,\u001b[0m \u001b[0;34m'w+b - write and read mode\\n'\u001b[0m\u001b[0;34m,\u001b[0m \u001b[0;34m'a+b - append and read mode\\n'\u001b[0m\u001b[0;34m]\u001b[0m\u001b[0;34m)\u001b[0m\u001b[0;34m\u001b[0m\u001b[0;34m\u001b[0m\u001b[0m\n\u001b[0;32m---> 10\u001b[0;31m     \u001b[0mprint\u001b[0m\u001b[0;34m(\u001b[0m\u001b[0md\u001b[0m\u001b[0;34m)\u001b[0m\u001b[0;34m\u001b[0m\u001b[0;34m\u001b[0m\u001b[0m\n\u001b[0m\u001b[1;32m     11\u001b[0m \u001b[0;34m\u001b[0m\u001b[0m\n\u001b[1;32m     12\u001b[0m \u001b[0;34m\u001b[0m\u001b[0m\n",
      "\u001b[0;31mNameError\u001b[0m: name 'd' is not defined"
     ]
    }
   ],
   "source": [
    "# with statement\n",
    "\n",
    "# f = open('f1.txt','w+')\n",
    "# f.writelines(['Helloferent mode of operations on text file\\n', 'r - read mode\\n', 'w - write mode\\n', 'a - append mode\\n', 'r+ - read and write mode\\n', 'w+ - write and read mode\\n', 'a+ - append and read mode\\n', '\\n', '# Different mode of operations on binary file\\n', 'rb - read mode\\n', 'wb - write mode\\n', 'ab - append mode\\n', 'r+b - read and write mode\\n', 'w+b - write and read mode\\n', 'a+b - append and read mode\\n'])\n",
    "# print(d)\n",
    "# f.close()\n",
    "\n",
    "with open('f1.txt', 'w+') as f:\n",
    "    f.writelines(['Helloferent mode of operations on text file\\n', 'r - read mode\\n', 'w - write mode\\n', 'a - append mode\\n', 'r+ - read and write mode\\n', 'w+ - write and read mode\\n', 'a+ - append and read mode\\n', '\\n', '# Different mode of operations on binary file\\n', 'rb - read mode\\n', 'wb - write mode\\n', 'ab - append mode\\n', 'r+b - read and write mode\\n', 'w+b - write and read mode\\n', 'a+b - append and read mode\\n'])\n",
    "    print(d)\n",
    "\n",
    "\n",
    "\n",
    "\n",
    "\n"
   ]
  },
  {
   "cell_type": "code",
   "execution_count": null,
   "metadata": {},
   "outputs": [],
   "source": [
    "1. write the content into a file using writ operation\n",
    "2. give me total count of characters, words, lines\n",
    "3. Write 'This is Pythn class and we are learning File handling' at line no 6.\n",
    "4. copy the python.jpeg image to new.png"
   ]
  },
  {
   "cell_type": "code",
   "execution_count": 42,
   "metadata": {
    "ExecuteTime": {
     "end_time": "2021-03-22T04:20:31.332254Z",
     "start_time": "2021-03-22T04:20:31.320294Z"
    }
   },
   "outputs": [
    {
     "name": "stdout",
     "output_type": "stream",
     "text": [
      "10\n",
      "1232\n",
      "204\n"
     ]
    }
   ],
   "source": [
    "with open('f1.txt', 'r+') as f:\n",
    "    my_lst = f.readlines()\n",
    "    l_count = len(my_lst)\n",
    "    c_count = f.tell()-1\n",
    "    w_count = 0\n",
    "    for i in my_lst:\n",
    "        for j in i.split():\n",
    "            w_count += 1\n",
    "    print(l_count)\n",
    "    print(c_count)\n",
    "    print(w_count)"
   ]
  },
  {
   "cell_type": "code",
   "execution_count": 43,
   "metadata": {
    "ExecuteTime": {
     "end_time": "2021-03-22T04:21:59.145713Z",
     "start_time": "2021-03-22T04:21:59.139705Z"
    }
   },
   "outputs": [],
   "source": [
    "with open('f1.txt', 'r+') as f:\n",
    "    my_lst = f.readlines()\n",
    "    my_lst.insert(5, 'This is Pythn class and we are learning File handling\\n')\n",
    "    f.seek(0)\n",
    "    f.writelines(my_lst)"
   ]
  },
  {
   "cell_type": "code",
   "execution_count": 44,
   "metadata": {
    "ExecuteTime": {
     "end_time": "2021-03-22T04:23:00.821974Z",
     "start_time": "2021-03-22T04:23:00.813975Z"
    }
   },
   "outputs": [],
   "source": [
    "with open('python.jpeg', 'rb') as f1:\n",
    "    with open('new.png', 'wb') as f2:\n",
    "        f2.write(f1.read())"
   ]
  },
  {
   "cell_type": "code",
   "execution_count": null,
   "metadata": {},
   "outputs": [],
   "source": [
    "traversing dictionary, tuple, \n",
    "regex, map, filter, reduce"
   ]
  },
  {
   "cell_type": "code",
   "execution_count": null,
   "metadata": {},
   "outputs": [],
   "source": []
  },
  {
   "cell_type": "code",
   "execution_count": null,
   "metadata": {},
   "outputs": [],
   "source": []
  },
  {
   "cell_type": "code",
   "execution_count": null,
   "metadata": {},
   "outputs": [],
   "source": []
  },
  {
   "cell_type": "code",
   "execution_count": null,
   "metadata": {},
   "outputs": [],
   "source": []
  },
  {
   "cell_type": "code",
   "execution_count": null,
   "metadata": {},
   "outputs": [],
   "source": []
  },
  {
   "cell_type": "code",
   "execution_count": null,
   "metadata": {},
   "outputs": [],
   "source": []
  },
  {
   "cell_type": "code",
   "execution_count": null,
   "metadata": {},
   "outputs": [],
   "source": []
  },
  {
   "cell_type": "code",
   "execution_count": null,
   "metadata": {},
   "outputs": [],
   "source": []
  },
  {
   "cell_type": "code",
   "execution_count": null,
   "metadata": {},
   "outputs": [],
   "source": []
  },
  {
   "cell_type": "code",
   "execution_count": null,
   "metadata": {},
   "outputs": [],
   "source": []
  },
  {
   "cell_type": "code",
   "execution_count": null,
   "metadata": {},
   "outputs": [],
   "source": []
  },
  {
   "cell_type": "code",
   "execution_count": null,
   "metadata": {},
   "outputs": [],
   "source": []
  },
  {
   "cell_type": "code",
   "execution_count": null,
   "metadata": {},
   "outputs": [],
   "source": []
  },
  {
   "cell_type": "code",
   "execution_count": null,
   "metadata": {},
   "outputs": [],
   "source": []
  },
  {
   "cell_type": "code",
   "execution_count": null,
   "metadata": {},
   "outputs": [],
   "source": []
  },
  {
   "cell_type": "code",
   "execution_count": null,
   "metadata": {},
   "outputs": [],
   "source": []
  },
  {
   "cell_type": "code",
   "execution_count": null,
   "metadata": {},
   "outputs": [],
   "source": []
  },
  {
   "cell_type": "code",
   "execution_count": null,
   "metadata": {},
   "outputs": [],
   "source": []
  },
  {
   "cell_type": "code",
   "execution_count": null,
   "metadata": {},
   "outputs": [],
   "source": []
  },
  {
   "cell_type": "code",
   "execution_count": null,
   "metadata": {},
   "outputs": [],
   "source": []
  },
  {
   "cell_type": "code",
   "execution_count": null,
   "metadata": {},
   "outputs": [],
   "source": []
  },
  {
   "cell_type": "code",
   "execution_count": null,
   "metadata": {},
   "outputs": [],
   "source": []
  },
  {
   "cell_type": "code",
   "execution_count": null,
   "metadata": {},
   "outputs": [],
   "source": []
  },
  {
   "cell_type": "code",
   "execution_count": null,
   "metadata": {},
   "outputs": [],
   "source": []
  },
  {
   "cell_type": "code",
   "execution_count": null,
   "metadata": {},
   "outputs": [],
   "source": []
  },
  {
   "cell_type": "code",
   "execution_count": null,
   "metadata": {},
   "outputs": [],
   "source": []
  },
  {
   "cell_type": "code",
   "execution_count": null,
   "metadata": {},
   "outputs": [],
   "source": []
  },
  {
   "cell_type": "code",
   "execution_count": null,
   "metadata": {},
   "outputs": [],
   "source": []
  },
  {
   "cell_type": "code",
   "execution_count": null,
   "metadata": {},
   "outputs": [],
   "source": []
  },
  {
   "cell_type": "code",
   "execution_count": null,
   "metadata": {},
   "outputs": [],
   "source": []
  },
  {
   "cell_type": "code",
   "execution_count": null,
   "metadata": {},
   "outputs": [],
   "source": []
  },
  {
   "cell_type": "code",
   "execution_count": null,
   "metadata": {},
   "outputs": [],
   "source": []
  },
  {
   "cell_type": "code",
   "execution_count": null,
   "metadata": {},
   "outputs": [],
   "source": []
  },
  {
   "cell_type": "code",
   "execution_count": null,
   "metadata": {},
   "outputs": [],
   "source": []
  },
  {
   "cell_type": "code",
   "execution_count": null,
   "metadata": {},
   "outputs": [],
   "source": []
  },
  {
   "cell_type": "code",
   "execution_count": null,
   "metadata": {},
   "outputs": [],
   "source": []
  },
  {
   "cell_type": "code",
   "execution_count": null,
   "metadata": {},
   "outputs": [],
   "source": []
  },
  {
   "cell_type": "code",
   "execution_count": null,
   "metadata": {},
   "outputs": [],
   "source": []
  },
  {
   "cell_type": "code",
   "execution_count": null,
   "metadata": {},
   "outputs": [],
   "source": []
  },
  {
   "cell_type": "code",
   "execution_count": null,
   "metadata": {},
   "outputs": [],
   "source": []
  },
  {
   "cell_type": "code",
   "execution_count": null,
   "metadata": {},
   "outputs": [],
   "source": []
  },
  {
   "cell_type": "code",
   "execution_count": null,
   "metadata": {},
   "outputs": [],
   "source": []
  },
  {
   "cell_type": "code",
   "execution_count": null,
   "metadata": {},
   "outputs": [],
   "source": []
  },
  {
   "cell_type": "code",
   "execution_count": null,
   "metadata": {},
   "outputs": [],
   "source": []
  },
  {
   "cell_type": "code",
   "execution_count": null,
   "metadata": {},
   "outputs": [],
   "source": []
  },
  {
   "cell_type": "code",
   "execution_count": null,
   "metadata": {},
   "outputs": [],
   "source": []
  },
  {
   "cell_type": "code",
   "execution_count": null,
   "metadata": {},
   "outputs": [],
   "source": []
  },
  {
   "cell_type": "code",
   "execution_count": null,
   "metadata": {},
   "outputs": [],
   "source": []
  },
  {
   "cell_type": "code",
   "execution_count": null,
   "metadata": {},
   "outputs": [],
   "source": []
  },
  {
   "cell_type": "code",
   "execution_count": null,
   "metadata": {},
   "outputs": [],
   "source": []
  },
  {
   "cell_type": "code",
   "execution_count": null,
   "metadata": {},
   "outputs": [],
   "source": []
  },
  {
   "cell_type": "code",
   "execution_count": null,
   "metadata": {},
   "outputs": [],
   "source": []
  },
  {
   "cell_type": "code",
   "execution_count": null,
   "metadata": {},
   "outputs": [],
   "source": []
  },
  {
   "cell_type": "code",
   "execution_count": null,
   "metadata": {},
   "outputs": [],
   "source": []
  },
  {
   "cell_type": "code",
   "execution_count": null,
   "metadata": {},
   "outputs": [],
   "source": []
  },
  {
   "cell_type": "code",
   "execution_count": null,
   "metadata": {},
   "outputs": [],
   "source": []
  },
  {
   "cell_type": "code",
   "execution_count": null,
   "metadata": {},
   "outputs": [],
   "source": []
  },
  {
   "cell_type": "code",
   "execution_count": null,
   "metadata": {},
   "outputs": [],
   "source": []
  }
 ],
 "metadata": {
  "kernelspec": {
   "display_name": "Python 3",
   "language": "python",
   "name": "python3"
  },
  "language_info": {
   "codemirror_mode": {
    "name": "ipython",
    "version": 3
   },
   "file_extension": ".py",
   "mimetype": "text/x-python",
   "name": "python",
   "nbconvert_exporter": "python",
   "pygments_lexer": "ipython3",
   "version": "3.8.5"
  },
  "latex_envs": {
   "LaTeX_envs_menu_present": true,
   "autoclose": false,
   "autocomplete": true,
   "bibliofile": "biblio.bib",
   "cite_by": "apalike",
   "current_citInitial": 1,
   "eqLabelWithNumbers": true,
   "eqNumInitial": 1,
   "hotkeys": {
    "equation": "Ctrl-E",
    "itemize": "Ctrl-I"
   },
   "labels_anchors": false,
   "latex_user_defs": false,
   "report_style_numbering": false,
   "user_envs_cfg": false
  },
  "varInspector": {
   "cols": {
    "lenName": 16,
    "lenType": 16,
    "lenVar": 40
   },
   "kernels_config": {
    "python": {
     "delete_cmd_postfix": "",
     "delete_cmd_prefix": "del ",
     "library": "var_list.py",
     "varRefreshCmd": "print(var_dic_list())"
    },
    "r": {
     "delete_cmd_postfix": ") ",
     "delete_cmd_prefix": "rm(",
     "library": "var_list.r",
     "varRefreshCmd": "cat(var_dic_list()) "
    }
   },
   "types_to_exclude": [
    "module",
    "function",
    "builtin_function_or_method",
    "instance",
    "_Feature"
   ],
   "window_display": false
  }
 },
 "nbformat": 4,
 "nbformat_minor": 2
}
