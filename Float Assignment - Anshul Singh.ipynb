{
 "cells": [
  {
   "cell_type": "markdown",
   "metadata": {},
   "source": [
    "Declare a float value and store it in a variable.\n",
    "Check the type and print the id of the same."
   ]
  },
  {
   "cell_type": "code",
   "execution_count": 3,
   "metadata": {},
   "outputs": [
    {
     "name": "stdout",
     "output_type": "stream",
     "text": [
      "<class 'float'>\n",
      "3110018329296\n"
     ]
    }
   ],
   "source": [
    "a = 10.6\n",
    "print(type(a))\n",
    "print(id(a))"
   ]
  },
  {
   "cell_type": "markdown",
   "metadata": {},
   "source": [
    "Arithmetic Operations on float\n",
    "Take two different float values.\n",
    "Store them in two different variables.\n",
    "Do below operations on them:-\n",
    "Find sum of both numbers\n",
    "Find difference between them\n",
    "Find the product of both numbers.\n",
    "Find value after dividing first num with second number\n",
    "Find the remainder after dividing first number with second number\n",
    "Find the quotient after dividing first number with second number\n",
    "Find the result of the first num to the power of the second number."
   ]
  },
  {
   "cell_type": "code",
   "execution_count": 10,
   "metadata": {},
   "outputs": [
    {
     "name": "stdout",
     "output_type": "stream",
     "text": [
      "Sum of the two numbers is: 28.0\n",
      "Difference of the two numbers is: 3.20\n",
      "Product of the two numbers is: 193.44\n",
      "Division of the two numbers is: 1.26\n",
      "Remainder of the two numbers is: 3.20\n",
      "Quotient of the two numbers is: 1.0\n",
      "Exponent of the two numbers is: 623368739459642.6\n"
     ]
    }
   ],
   "source": [
    "num1 = 15.6\n",
    "num2 = 12.4\n",
    "\n",
    "#sum\n",
    "print('Sum of the two numbers is:', num1+num2)\n",
    "\n",
    "#difference\n",
    "if (num1>num2):\n",
    "    print('Difference of the two numbers is:', \"%.2f\" % round((num1-num2),2))\n",
    "else:\n",
    "    print('Difference of the two numbers is:', \"%.2f\" % round((num2-num1),2))\n",
    "\n",
    "#product\n",
    "print('Product of the two numbers is:', num1*num2)\n",
    "\n",
    "#division\n",
    "print('Division of the two numbers is:', \"%.2f\" % round((num1/num2),2))\n",
    "\n",
    "#remainder\n",
    "print('Remainder of the two numbers is:', \"%.2f\" % round((num1%num2),2))\n",
    "\n",
    "#quotient\n",
    "print('Quotient of the two numbers is:', num1//num2)\n",
    "\n",
    "#exponent\n",
    "print('Exponent of the two numbers is:', num1**num2)"
   ]
  },
  {
   "cell_type": "markdown",
   "metadata": {},
   "source": [
    "Comparison Operators on float\n",
    "Take two different float values.\n",
    "Store them in two different variables.\n",
    "Do below operations on them:-\n",
    "Compare these two numbers with below operator:-\n",
    "Greater than, '>'\n",
    "Smaller than, '<'\n",
    "Greater than or equal to, '>='\n",
    "Less than or equal to, '<='\n",
    "Observe their output(return type should be boolean)"
   ]
  },
  {
   "cell_type": "code",
   "execution_count": 11,
   "metadata": {},
   "outputs": [
    {
     "name": "stdout",
     "output_type": "stream",
     "text": [
      "True\n",
      "False\n",
      "True\n",
      "False\n"
     ]
    }
   ],
   "source": [
    "num1 = 10.8889\n",
    "num2 = 5.776\n",
    "\n",
    "#greater than\n",
    "print((num1>num2))\n",
    "\n",
    "#smaller than\n",
    "print(num1<num2)\n",
    "\n",
    "#greater than equal to\n",
    "print(num1>=num2)\n",
    "\n",
    "#less than equal to\n",
    "print(num1<=num2)"
   ]
  },
  {
   "cell_type": "markdown",
   "metadata": {},
   "source": [
    "Equality Operator\n",
    "Take two different float values.\n",
    "Store them in two different variables.\n",
    "Equate them using equality operators (==, !=)\n",
    "Observe the output(return type should be boolean)"
   ]
  },
  {
   "cell_type": "code",
   "execution_count": 12,
   "metadata": {},
   "outputs": [
    {
     "name": "stdout",
     "output_type": "stream",
     "text": [
      "False\n",
      "True\n"
     ]
    }
   ],
   "source": [
    "num1 = 30.987\n",
    "num2 = 8.77\n",
    "print(num1 == num2)\n",
    "print(num1!=num2)"
   ]
  },
  {
   "cell_type": "markdown",
   "metadata": {},
   "source": [
    "Logical operators\n",
    "Observe the output of below code\n",
    "Cross check the output manually"
   ]
  },
  {
   "cell_type": "code",
   "execution_count": 13,
   "metadata": {},
   "outputs": [
    {
     "name": "stdout",
     "output_type": "stream",
     "text": [
      "20.3\n"
     ]
    }
   ],
   "source": [
    "print(10.20 and 20.30)"
   ]
  },
  {
   "cell_type": "code",
   "execution_count": 14,
   "metadata": {},
   "outputs": [
    {
     "name": "stdout",
     "output_type": "stream",
     "text": [
      "0.0\n"
     ]
    }
   ],
   "source": [
    "print(0.0 and 20.30)"
   ]
  },
  {
   "cell_type": "code",
   "execution_count": 15,
   "metadata": {},
   "outputs": [
    {
     "name": "stdout",
     "output_type": "stream",
     "text": [
      "0.0\n"
     ]
    }
   ],
   "source": [
    "print(20.30 and 0.0)"
   ]
  },
  {
   "cell_type": "code",
   "execution_count": 16,
   "metadata": {},
   "outputs": [
    {
     "name": "stdout",
     "output_type": "stream",
     "text": [
      "0.0\n"
     ]
    }
   ],
   "source": [
    "print(0.0 and 0.0)"
   ]
  },
  {
   "cell_type": "code",
   "execution_count": 17,
   "metadata": {},
   "outputs": [
    {
     "name": "stdout",
     "output_type": "stream",
     "text": [
      "10.2\n"
     ]
    }
   ],
   "source": [
    "print(10.20 or 20.30)"
   ]
  },
  {
   "cell_type": "code",
   "execution_count": 18,
   "metadata": {},
   "outputs": [
    {
     "name": "stdout",
     "output_type": "stream",
     "text": [
      "20.3\n"
     ]
    }
   ],
   "source": [
    "print(0.0 or 20.30)"
   ]
  },
  {
   "cell_type": "code",
   "execution_count": 19,
   "metadata": {},
   "outputs": [
    {
     "name": "stdout",
     "output_type": "stream",
     "text": [
      "20.3\n"
     ]
    }
   ],
   "source": [
    "print(20.30 or 0.0)"
   ]
  },
  {
   "cell_type": "code",
   "execution_count": 20,
   "metadata": {},
   "outputs": [
    {
     "name": "stdout",
     "output_type": "stream",
     "text": [
      "0.0\n"
     ]
    }
   ],
   "source": [
    "print(0.0 or 0.0)"
   ]
  },
  {
   "cell_type": "code",
   "execution_count": 21,
   "metadata": {},
   "outputs": [
    {
     "name": "stdout",
     "output_type": "stream",
     "text": [
      "False\n"
     ]
    }
   ],
   "source": [
    "print(not 10.20)"
   ]
  },
  {
   "cell_type": "code",
   "execution_count": 22,
   "metadata": {},
   "outputs": [
    {
     "name": "stdout",
     "output_type": "stream",
     "text": [
      "True\n"
     ]
    }
   ],
   "source": [
    "print(not 0.0)"
   ]
  },
  {
   "cell_type": "markdown",
   "metadata": {},
   "source": [
    "What is the output of expression inside print statement. Cross check\n",
    "before running the program.\n",
    "a = 10.20\n",
    "b - 10.20\n",
    "print(a is b) #True or False? True 10.20<256\n",
    "print(a is not b) #True or False? False\n",
    "Why the Id of float values are different when the same value is\n",
    "assigned to two different variables\n",
    "ex: a = 10.5 b=10.5. but id will be same if I assign the variable\n",
    "having float i.e. a=c then both a and c's Id are same"
   ]
  },
  {
   "cell_type": "code",
   "execution_count": 25,
   "metadata": {},
   "outputs": [
    {
     "name": "stdout",
     "output_type": "stream",
     "text": [
      "False\n",
      "True\n"
     ]
    }
   ],
   "source": [
    "a = 10.20\n",
    "b = 10.20\n",
    "print(a is b)#false because integer values lies beyond the range(-5 to 256) (Object can't be reused for float data types)\n",
    "print(a is not b) "
   ]
  },
  {
   "cell_type": "markdown",
   "metadata": {},
   "source": [
    "Bitwise operation is not applicable between instances of float.\n",
    "Why the Id of float values are different when the same value is\n",
    "assigned to two different variables\n",
    "ex: a = 10.5 b=10.5. but id will be same if I assign the variable\n",
    "having float i.e. a=c then both a and c's Id are same\n",
    "Object reusability concept is not applicable on float values."
   ]
  },
  {
   "cell_type": "code",
   "execution_count": null,
   "metadata": {},
   "outputs": [],
   "source": [
    "#Object can't be reused for float data types"
   ]
  },
  {
   "cell_type": "markdown",
   "metadata": {},
   "source": [
    "Membership operation\n",
    "in, not in are two membership operators and it returns boolean value"
   ]
  },
  {
   "cell_type": "code",
   "execution_count": 26,
   "metadata": {},
   "outputs": [
    {
     "name": "stdout",
     "output_type": "stream",
     "text": [
      "True\n",
      "True\n",
      "True\n",
      "True\n",
      "True\n",
      "True\n"
     ]
    }
   ],
   "source": [
    "print('2.7' in 'Python2.7.8') \n",
    "print(10.20 in [10,10.20,10+20j,'Python'])\n",
    "print(10.20 in (10,10.20,10+20j,'Python'))\n",
    "print(20.30 in {1,20.30,30+40j})\n",
    "print(2.3 in {1:100, 2.3:200, 30+40j:300})\n",
    "print(10 in range(20))"
   ]
  },
  {
   "cell_type": "code",
   "execution_count": null,
   "metadata": {},
   "outputs": [],
   "source": []
  },
  {
   "cell_type": "code",
   "execution_count": null,
   "metadata": {},
   "outputs": [],
   "source": []
  },
  {
   "cell_type": "code",
   "execution_count": null,
   "metadata": {},
   "outputs": [],
   "source": []
  }
 ],
 "metadata": {
  "kernelspec": {
   "display_name": "Python 3",
   "language": "python",
   "name": "python3"
  },
  "language_info": {
   "codemirror_mode": {
    "name": "ipython",
    "version": 3
   },
   "file_extension": ".py",
   "mimetype": "text/x-python",
   "name": "python",
   "nbconvert_exporter": "python",
   "pygments_lexer": "ipython3",
   "version": "3.8.5"
  }
 },
 "nbformat": 4,
 "nbformat_minor": 4
}
