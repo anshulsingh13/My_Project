{
 "cells": [
  {
   "cell_type": "code",
   "execution_count": null,
   "metadata": {},
   "outputs": [],
   "source": [
    "# Modules\n",
    "#     Builtin modules - math, os, sys, random, datetime etc\n",
    "#     Userdefined modules - .py"
   ]
  },
  {
   "cell_type": "code",
   "execution_count": 1,
   "metadata": {
    "ExecuteTime": {
     "end_time": "2021-03-16T02:37:14.604553Z",
     "start_time": "2021-03-16T02:37:14.597416Z"
    }
   },
   "outputs": [
    {
     "name": "stdout",
     "output_type": "stream",
     "text": [
      "['In', 'NamespaceMagics', 'Out', '_', '_Jupyter', '__', '___', '__builtin__', '__builtins__', '__doc__', '__loader__', '__name__', '__package__', '__spec__', '_dh', '_getshapeof', '_getsizeof', '_i', '_i1', '_ih', '_ii', '_iii', '_nms', '_oh', 'exit', 'get_ipython', 'getsizeof', 'json', 'np', 'quit', 'var_dic_list']\n"
     ]
    }
   ],
   "source": [
    "print(dir())"
   ]
  },
  {
   "cell_type": "code",
   "execution_count": 2,
   "metadata": {
    "ExecuteTime": {
     "end_time": "2021-03-16T02:38:47.474554Z",
     "start_time": "2021-03-16T02:38:47.466326Z"
    }
   },
   "outputs": [],
   "source": [
    "a = 10\n",
    "b = 20\n",
    "def f1():\n",
    "    x = 11\n",
    "    y = 22"
   ]
  },
  {
   "cell_type": "code",
   "execution_count": 3,
   "metadata": {
    "ExecuteTime": {
     "end_time": "2021-03-16T02:38:49.161147Z",
     "start_time": "2021-03-16T02:38:49.156538Z"
    }
   },
   "outputs": [
    {
     "name": "stdout",
     "output_type": "stream",
     "text": [
      "['In', 'NamespaceMagics', 'Out', '_', '_Jupyter', '__', '___', '__builtin__', '__builtins__', '__doc__', '__loader__', '__name__', '__package__', '__spec__', '_dh', '_getshapeof', '_getsizeof', '_i', '_i1', '_i2', '_i3', '_ih', '_ii', '_iii', '_nms', '_oh', 'a', 'b', 'exit', 'f1', 'get_ipython', 'getsizeof', 'json', 'np', 'quit', 'var_dic_list']\n"
     ]
    }
   ],
   "source": [
    "print(dir())"
   ]
  },
  {
   "cell_type": "code",
   "execution_count": 4,
   "metadata": {
    "ExecuteTime": {
     "end_time": "2021-03-16T02:39:18.900835Z",
     "start_time": "2021-03-16T02:39:18.894264Z"
    }
   },
   "outputs": [],
   "source": [
    "import my_mod"
   ]
  },
  {
   "cell_type": "code",
   "execution_count": 5,
   "metadata": {
    "ExecuteTime": {
     "end_time": "2021-03-16T02:39:25.364705Z",
     "start_time": "2021-03-16T02:39:25.359546Z"
    }
   },
   "outputs": [
    {
     "name": "stdout",
     "output_type": "stream",
     "text": [
      "['In', 'NamespaceMagics', 'Out', '_', '_Jupyter', '__', '___', '__builtin__', '__builtins__', '__doc__', '__loader__', '__name__', '__package__', '__spec__', '_dh', '_getshapeof', '_getsizeof', '_i', '_i1', '_i2', '_i3', '_i4', '_i5', '_ih', '_ii', '_iii', '_nms', '_oh', 'a', 'b', 'exit', 'f1', 'get_ipython', 'getsizeof', 'json', 'my_mod', 'np', 'quit', 'var_dic_list']\n"
     ]
    }
   ],
   "source": [
    "print(dir())"
   ]
  },
  {
   "cell_type": "code",
   "execution_count": 7,
   "metadata": {
    "ExecuteTime": {
     "end_time": "2021-03-16T02:39:48.198433Z",
     "start_time": "2021-03-16T02:39:48.191747Z"
    }
   },
   "outputs": [
    {
     "name": "stdout",
     "output_type": "stream",
     "text": [
      "10\n"
     ]
    }
   ],
   "source": [
    "print(a)\n",
    "f1()"
   ]
  },
  {
   "cell_type": "code",
   "execution_count": 1,
   "metadata": {
    "ExecuteTime": {
     "end_time": "2021-03-16T02:40:45.829172Z",
     "start_time": "2021-03-16T02:40:45.814546Z"
    }
   },
   "outputs": [
    {
     "name": "stdout",
     "output_type": "stream",
     "text": [
      "Abc\n",
      "101\n",
      "100000\n",
      "10\n"
     ]
    }
   ],
   "source": [
    "import my_mod"
   ]
  },
  {
   "cell_type": "code",
   "execution_count": 2,
   "metadata": {
    "ExecuteTime": {
     "end_time": "2021-03-16T02:41:01.598361Z",
     "start_time": "2021-03-16T02:41:01.590446Z"
    }
   },
   "outputs": [
    {
     "name": "stdout",
     "output_type": "stream",
     "text": [
      "['In', 'NamespaceMagics', 'Out', '_', '_Jupyter', '__', '___', '__builtin__', '__builtins__', '__doc__', '__loader__', '__name__', '__package__', '__spec__', '_dh', '_getshapeof', '_getsizeof', '_i', '_i1', '_i2', '_ih', '_ii', '_iii', '_nms', '_oh', 'exit', 'get_ipython', 'getsizeof', 'json', 'my_mod', 'np', 'quit', 'var_dic_list']\n"
     ]
    }
   ],
   "source": [
    "print(dir())"
   ]
  },
  {
   "cell_type": "code",
   "execution_count": 3,
   "metadata": {
    "ExecuteTime": {
     "end_time": "2021-03-16T02:42:38.165110Z",
     "start_time": "2021-03-16T02:42:38.140427Z"
    }
   },
   "outputs": [
    {
     "data": {
      "text/plain": [
       "30"
      ]
     },
     "execution_count": 3,
     "metadata": {},
     "output_type": "execute_result"
    }
   ],
   "source": [
    "my_mod.add(10,20)"
   ]
  },
  {
   "cell_type": "code",
   "execution_count": 1,
   "metadata": {
    "ExecuteTime": {
     "end_time": "2021-03-16T02:45:30.255142Z",
     "start_time": "2021-03-16T02:45:30.246366Z"
    }
   },
   "outputs": [
    {
     "name": "stdout",
     "output_type": "stream",
     "text": [
      "['In', 'NamespaceMagics', 'Out', '_', '_Jupyter', '__', '___', '__builtin__', '__builtins__', '__doc__', '__loader__', '__name__', '__package__', '__spec__', '_dh', '_getshapeof', '_getsizeof', '_i', '_i1', '_ih', '_ii', '_iii', '_nms', '_oh', 'exit', 'get_ipython', 'getsizeof', 'json', 'np', 'quit', 'var_dic_list']\n"
     ]
    }
   ],
   "source": [
    "print(dir())"
   ]
  },
  {
   "cell_type": "code",
   "execution_count": 2,
   "metadata": {
    "ExecuteTime": {
     "end_time": "2021-03-16T02:45:36.896714Z",
     "start_time": "2021-03-16T02:45:36.888704Z"
    }
   },
   "outputs": [
    {
     "name": "stdout",
     "output_type": "stream",
     "text": [
      "Abc\n",
      "101\n",
      "100000\n",
      "10\n"
     ]
    }
   ],
   "source": [
    "from my_mod import emp_info, a"
   ]
  },
  {
   "cell_type": "code",
   "execution_count": 3,
   "metadata": {
    "ExecuteTime": {
     "end_time": "2021-03-16T02:45:50.808716Z",
     "start_time": "2021-03-16T02:45:50.792111Z"
    }
   },
   "outputs": [
    {
     "name": "stdout",
     "output_type": "stream",
     "text": [
      "['In', 'NamespaceMagics', 'Out', '_', '_Jupyter', '__', '___', '__builtin__', '__builtins__', '__doc__', '__loader__', '__name__', '__package__', '__spec__', '_dh', '_getshapeof', '_getsizeof', '_i', '_i1', '_i2', '_i3', '_ih', '_ii', '_iii', '_nms', '_oh', 'a', 'emp_info', 'exit', 'get_ipython', 'getsizeof', 'json', 'np', 'quit', 'var_dic_list']\n"
     ]
    }
   ],
   "source": [
    "print(dir())"
   ]
  },
  {
   "cell_type": "code",
   "execution_count": 4,
   "metadata": {
    "ExecuteTime": {
     "end_time": "2021-03-16T02:46:04.867844Z",
     "start_time": "2021-03-16T02:46:04.858344Z"
    }
   },
   "outputs": [
    {
     "name": "stdout",
     "output_type": "stream",
     "text": [
      "10\n"
     ]
    }
   ],
   "source": [
    "print(a)"
   ]
  },
  {
   "cell_type": "code",
   "execution_count": 5,
   "metadata": {
    "ExecuteTime": {
     "end_time": "2021-03-16T02:46:17.627400Z",
     "start_time": "2021-03-16T02:46:17.619645Z"
    }
   },
   "outputs": [
    {
     "name": "stdout",
     "output_type": "stream",
     "text": [
      "ANC\n",
      "101\n",
      "10000\n"
     ]
    }
   ],
   "source": [
    "emp_info('ANC', 101, 10000)"
   ]
  },
  {
   "cell_type": "code",
   "execution_count": 3,
   "metadata": {
    "ExecuteTime": {
     "end_time": "2021-03-16T02:48:12.221285Z",
     "start_time": "2021-03-16T02:48:12.215034Z"
    }
   },
   "outputs": [
    {
     "name": "stdout",
     "output_type": "stream",
     "text": [
      "10\n",
      "['In', 'NamespaceMagics', 'Out', '_', '_Jupyter', '__', '___', '__builtin__', '__builtins__', '__doc__', '__loader__', '__name__', '__package__', '__spec__', '_dh', '_getshapeof', '_getsizeof', '_i', '_i1', '_i2', '_i3', '_ih', '_ii', '_iii', '_nms', '_oh', 'a', 'emp_info', 'exit', 'get_ipython', 'getsizeof', 'json', 'np', 'quit', 'var_dic_list']\n",
      "111\n"
     ]
    }
   ],
   "source": [
    "from my_mod import a, emp_info\n",
    "print(a)\n",
    "print(dir())\n",
    "a = 111\n",
    "print(a)"
   ]
  },
  {
   "cell_type": "code",
   "execution_count": 4,
   "metadata": {
    "ExecuteTime": {
     "end_time": "2021-03-16T02:49:15.746821Z",
     "start_time": "2021-03-16T02:49:15.740252Z"
    }
   },
   "outputs": [
    {
     "name": "stdout",
     "output_type": "stream",
     "text": [
      "['In', 'NamespaceMagics', 'Out', '_', '_Jupyter', '__', '___', '__builtin__', '__builtins__', '__doc__', '__loader__', '__name__', '__package__', '__spec__', '_dh', '_getshapeof', '_getsizeof', '_i', '_i1', '_i2', '_i3', '_i4', '_ih', '_ii', '_iii', '_nms', '_oh', 'a', 'exit', 'get_ipython', 'getsizeof', 'json', 'm', 'np', 'quit', 'var_dic_list']\n",
      "10\n",
      "111\n",
      "10\n"
     ]
    }
   ],
   "source": [
    "import my_mod as m\n",
    "print(dir())\n",
    "print(m.a)\n",
    "a = 111\n",
    "print(a)\n",
    "print(m.a)"
   ]
  },
  {
   "cell_type": "code",
   "execution_count": 1,
   "metadata": {
    "ExecuteTime": {
     "end_time": "2021-03-16T02:52:38.435356Z",
     "start_time": "2021-03-16T02:52:38.414470Z"
    }
   },
   "outputs": [],
   "source": [
    "import my_mod"
   ]
  },
  {
   "cell_type": "code",
   "execution_count": 2,
   "metadata": {
    "ExecuteTime": {
     "end_time": "2021-03-16T02:52:49.166790Z",
     "start_time": "2021-03-16T02:52:49.155173Z"
    }
   },
   "outputs": [
    {
     "name": "stdout",
     "output_type": "stream",
     "text": [
      "['In', 'NamespaceMagics', 'Out', '_', '_Jupyter', '__', '___', '__builtin__', '__builtins__', '__doc__', '__loader__', '__name__', '__package__', '__spec__', '_dh', '_getshapeof', '_getsizeof', '_i', '_i1', '_i2', '_ih', '_ii', '_iii', '_nms', '_oh', 'exit', 'get_ipython', 'getsizeof', 'json', 'my_mod', 'np', 'quit', 'var_dic_list']\n"
     ]
    }
   ],
   "source": [
    "print(dir())"
   ]
  },
  {
   "cell_type": "code",
   "execution_count": 3,
   "metadata": {
    "ExecuteTime": {
     "end_time": "2021-03-16T02:53:10.189770Z",
     "start_time": "2021-03-16T02:53:10.177268Z"
    }
   },
   "outputs": [
    {
     "name": "stdout",
     "output_type": "stream",
     "text": [
      "__main__\n"
     ]
    }
   ],
   "source": [
    "print(__name__)"
   ]
  },
  {
   "cell_type": "code",
   "execution_count": 1,
   "metadata": {
    "ExecuteTime": {
     "end_time": "2021-03-16T02:53:59.013204Z",
     "start_time": "2021-03-16T02:53:58.980367Z"
    }
   },
   "outputs": [
    {
     "name": "stdout",
     "output_type": "stream",
     "text": [
      "my_mod\n"
     ]
    }
   ],
   "source": [
    "import my_mod"
   ]
  },
  {
   "cell_type": "code",
   "execution_count": 5,
   "metadata": {
    "ExecuteTime": {
     "end_time": "2021-03-16T03:08:13.608437Z",
     "start_time": "2021-03-16T03:08:13.600501Z"
    }
   },
   "outputs": [
    {
     "name": "stdout",
     "output_type": "stream",
     "text": [
      "my_mod\n",
      "10\n",
      "__main__\n"
     ]
    }
   ],
   "source": [
    "print(my_mod.__name__)\n",
    "print(my_mod.a)\n",
    "print(__name__)"
   ]
  },
  {
   "cell_type": "markdown",
   "metadata": {},
   "source": [
    "# Loops in Python"
   ]
  },
  {
   "cell_type": "code",
   "execution_count": 4,
   "metadata": {
    "ExecuteTime": {
     "end_time": "2021-03-16T03:08:00.141294Z",
     "start_time": "2021-03-16T03:08:00.135711Z"
    }
   },
   "outputs": [
    {
     "name": "stdout",
     "output_type": "stream",
     "text": [
      "my_mod\n",
      "10\n",
      "__main__\n"
     ]
    }
   ],
   "source": [
    "# Loops are used to do repetitive task\n",
    "# Types of loop\n",
    "#     for loop\n",
    "#     while loop\n",
    "\n",
    "#     - for loop is used when we know the no of iteration in advance or if we want to iterate over \n",
    "#     all the element of an iterable\n",
    "#     - while loop is used when we do not know the no od iteration or untill a condition is False"
   ]
  },
  {
   "cell_type": "code",
   "execution_count": 6,
   "metadata": {
    "ExecuteTime": {
     "end_time": "2021-03-16T03:11:55.072690Z",
     "start_time": "2021-03-16T03:11:55.066866Z"
    }
   },
   "outputs": [
    {
     "name": "stdout",
     "output_type": "stream",
     "text": [
      "Hi\n",
      "Hi\n",
      "Hi\n",
      "Hi\n",
      "Hi\n"
     ]
    }
   ],
   "source": [
    "# print('Hi')\n",
    "# print('Hi')\n",
    "# print('Hi')\n",
    "# print('Hi')\n",
    "# print('Hi')\n",
    "# print('Hi')\n",
    "# print('Hi')\n",
    "# print('Hi')\n",
    "# print('Hi')\n",
    "# print('Hi')\n",
    "# print('Hi')\n",
    "# print('Hi')\n",
    "# print('Hi')\n",
    "# print('Hi')\n",
    "# print('Hi')\n",
    "# print('Hi')\n",
    "# print('Hi')\n",
    "# print('Hi')\n",
    "# print('Hi')\n",
    "# print('Hi')"
   ]
  },
  {
   "cell_type": "code",
   "execution_count": 17,
   "metadata": {
    "ExecuteTime": {
     "end_time": "2021-03-16T03:18:30.769521Z",
     "start_time": "2021-03-16T03:18:30.758195Z"
    }
   },
   "outputs": [
    {
     "name": "stdout",
     "output_type": "stream",
     "text": [
      "Hi 0\n",
      "Hello\n",
      "\n",
      "Hi 1\n",
      "Hello\n",
      "\n",
      "Hi 2\n",
      "Hello\n",
      "\n",
      "Hi 3\n",
      "Hello\n",
      "\n",
      "Hi 4\n",
      "Hello\n",
      "\n",
      "Completed\n"
     ]
    }
   ],
   "source": [
    "# Syntax of for loop\n",
    "# for var in iterable:\n",
    "#     stat1\n",
    "#     stat2\n",
    "\n",
    "# Iterable - Any object in python over whoch we can run for loop\n",
    "# Any object which implements __iter__ or __getitem__\n",
    "# print(dir(int))\n",
    "# print(dir(str))\n",
    "# print(dir(list))\n",
    "# print(dir(dict))\n",
    "# print(dir(range))\n",
    "\n",
    "for var in range(5):\n",
    "    print('Hi', var)\n",
    "    print('Hello')\n",
    "    print()\n",
    "print('Completed')\n",
    "\n",
    "# var = 0\n",
    "# Hi 0\n",
    "# Hello\n",
    "\n",
    "# var = 1\n",
    "# Hi 1\n",
    "# Hello\n",
    "\n",
    "# var = 2\n",
    "# Hi 2\n",
    "# Hello\n",
    "\n",
    "# var = 3\n",
    "# Hi 3\n",
    "# Hello\n",
    "\n",
    "# var = 4\n",
    "# Hi 4\n",
    "# Hello\n",
    "\n",
    "# Completed"
   ]
  },
  {
   "cell_type": "code",
   "execution_count": 1,
   "metadata": {
    "ExecuteTime": {
     "end_time": "2021-03-16T03:24:43.961334Z",
     "start_time": "2021-03-16T03:24:43.952927Z"
    }
   },
   "outputs": [
    {
     "name": "stdout",
     "output_type": "stream",
     "text": [
      "P\n"
     ]
    }
   ],
   "source": [
    "my_str = 'Python'\n",
    "for i in my_str[0]:\n",
    "    print(i)"
   ]
  },
  {
   "cell_type": "code",
   "execution_count": 19,
   "metadata": {
    "ExecuteTime": {
     "end_time": "2021-03-16T03:20:27.109040Z",
     "start_time": "2021-03-16T03:20:27.098931Z"
    }
   },
   "outputs": [
    {
     "name": "stdout",
     "output_type": "stream",
     "text": [
      "1\n",
      "2\n",
      "3\n",
      "4\n"
     ]
    }
   ],
   "source": [
    "my_dict = {1:100, 2:200, 3:300, 4:400}\n",
    "for i in my_dict:\n",
    "    print(i)"
   ]
  },
  {
   "cell_type": "code",
   "execution_count": null,
   "metadata": {
    "ExecuteTime": {
     "start_time": "2021-03-16T03:21:55.789Z"
    }
   },
   "outputs": [],
   "source": [
    "list(range(10000000000))"
   ]
  },
  {
   "cell_type": "code",
   "execution_count": 3,
   "metadata": {
    "ExecuteTime": {
     "end_time": "2021-03-16T03:25:20.531806Z",
     "start_time": "2021-03-16T03:25:20.521613Z"
    }
   },
   "outputs": [
    {
     "name": "stdout",
     "output_type": "stream",
     "text": [
      "1\n",
      "0\n"
     ]
    }
   ],
   "source": [
    "for i in '10':\n",
    "    print(i)"
   ]
  },
  {
   "cell_type": "code",
   "execution_count": 20,
   "metadata": {
    "ExecuteTime": {
     "end_time": "2021-03-16T03:44:07.337639Z",
     "start_time": "2021-03-16T03:44:07.326737Z"
    }
   },
   "outputs": [
    {
     "name": "stdout",
     "output_type": "stream",
     "text": [
      "p y t h o n   c l a s s "
     ]
    }
   ],
   "source": [
    "my_str = 'Python class'\n",
    "# output - P y t h o n  c l a s s\n",
    "# output\n",
    "# s\n",
    "# s\n",
    "# a\n",
    "# l\n",
    "# c\n",
    "\n",
    "# n\n",
    "# o\n",
    "# h\n",
    "# t\n",
    "# y\n",
    "# P\n",
    "\n",
    "my_str = 'python class'\n",
    "# for i in range(len(my_str)):\n",
    "#     print(my_str[-i-1])\n",
    "\n",
    "for i in my_str:\n",
    "    print(i, end = ' ')\n",
    "\n",
    "# print(my_str[0], end = ' ')\n",
    "# print(my_str[1], end = ' ')\n",
    "# print(my_str[2], end = ' ')\n",
    "\n",
    "\n",
    "# for i in range(len(my_str)):\n",
    "#     print(my_str[i], end = ' ')\n",
    "\n",
    "\n",
    "# for ind in range(-1, -len(my_str)-1, -1):\n",
    "#     print(my_str[ind])\n",
    "\n",
    "\n",
    "# print(10, end = ' ')\n",
    "# print(20, end = ' ')\n",
    "# print(30, end = ' ')\n",
    "\n",
    "# print(10,20,30,sep = '\\n')"
   ]
  },
  {
   "cell_type": "code",
   "execution_count": 25,
   "metadata": {
    "ExecuteTime": {
     "end_time": "2021-03-16T03:51:09.462110Z",
     "start_time": "2021-03-16T03:51:09.454201Z"
    }
   },
   "outputs": [
    {
     "name": "stdout",
     "output_type": "stream",
     "text": [
      "n\n",
      "oo\n",
      "hhh\n",
      "tttt\n",
      "yyyyy\n",
      "PPPPPP\n"
     ]
    }
   ],
   "source": [
    "my_str = 'Python'\n",
    "# P\n",
    "# yy\n",
    "# ttt\n",
    "# hhhh\n",
    "# ooooo\n",
    "# nnnnnn\n",
    "\n",
    "# my_str[0] * 1\n",
    "# my_str[1] * 2\n",
    "# my_str[2] * 3\n",
    "\n",
    "\n",
    "# for ind in range(len(my_str)):\n",
    "#     print(my_str[ind] * (ind+1))\n",
    "\n",
    "\n",
    "# n\n",
    "# oo\n",
    "# hhh\n",
    "# tttt\n",
    "# yyyyy\n",
    "# PPPPPP\n",
    "\n",
    "# print(my_str[-1] * -(-1))\n",
    "# print(my_str[-2] * -(-2))\n",
    "# print(my_str[-3] * -(-3))\n",
    "\n",
    "# for ind in range(-1, -len(my_str)-1, -1):\n",
    "#     print(my_str[ind] * -ind)\n"
   ]
  },
  {
   "cell_type": "code",
   "execution_count": 36,
   "metadata": {
    "ExecuteTime": {
     "end_time": "2021-03-16T04:07:42.613071Z",
     "start_time": "2021-03-16T04:07:42.594231Z"
    }
   },
   "outputs": [
    {
     "name": "stdout",
     "output_type": "stream",
     "text": [
      "0\n",
      "2\n",
      "6\n"
     ]
    }
   ],
   "source": [
    "# While loop\n",
    "# Synatx \n",
    "# initialization\n",
    "# condition checking\n",
    "# Incrmenet/decrement\n",
    "\n",
    "# i = 0\n",
    "# while i < len('Python'):\n",
    "#     print(i)\n",
    "#     i+=1\n",
    "\n",
    "\n",
    "# infinite\n",
    "# while True:\n",
    "#     print('Hi')\n",
    "\n",
    "lst = [10,20,10,20,30,40,10]\n",
    "\n",
    "# You have to print the index of all occurrences of 10\n",
    "\n",
    "# if lst[ind] == 10\n",
    "# lst[0]\n",
    "# if lst[2] == 10\n",
    "# lst[2]\n",
    "# if lst[6] == 10\n",
    "# lst[6]\n",
    "\n",
    "# ind = 0\n",
    "# while ind < len(lst):\n",
    "#     if lst[ind] == 10:\n",
    "#         print(ind)\n",
    "#     ind+=1\n",
    "\n",
    "\n",
    "# Using index method\n",
    "\n",
    "# ind = -1\n",
    "# while ind < len(lst):\n",
    "#     ind = lst.index(10, ind+1)\n",
    "#     print(ind)\n",
    "#     ind+=1\n",
    "\n",
    "\n",
    "ind = -1\n",
    "while True:\n",
    "    try:\n",
    "        ind = lst.index(10, ind+1)\n",
    "    except:\n",
    "        break\n",
    "    print(ind)\n",
    "\n",
    "\n"
   ]
  },
  {
   "cell_type": "code",
   "execution_count": 44,
   "metadata": {
    "ExecuteTime": {
     "end_time": "2021-03-16T04:23:04.511423Z",
     "start_time": "2021-03-16T04:23:04.501747Z"
    }
   },
   "outputs": [
    {
     "name": "stdout",
     "output_type": "stream",
     "text": [
      "1\n",
      "1\n",
      "100\n",
      "20\n",
      "200\n",
      "100\n"
     ]
    }
   ],
   "source": [
    "# break and continue\n",
    "\n",
    "# break - to exit the loop\n",
    "# Continue - to skip the current iteration\n",
    "\n",
    "# for outer:\n",
    "#     for inner:\n",
    "#         break\n",
    "# This will bfeak the inner loop\n",
    "\n",
    "# for outer:\n",
    "#     for inner:\n",
    "#         stat\n",
    "#     break\n",
    "# This will bfeak the outer loop\n",
    "\n",
    "# for i in range(10):\n",
    "#     if i == 7:\n",
    "#         break\n",
    "#     else:\n",
    "#         print(i)\n",
    "\n",
    "\n",
    "# for i in range(5):\n",
    "#     for j in range(11, 16):\n",
    "#         if j == 13:\n",
    "#             break\n",
    "#         else:\n",
    "#             print(i,j)\n",
    "\n",
    "\n",
    "# Continue\n",
    "# for i in range(10):\n",
    "#     if i == 7:\n",
    "#         continue\n",
    "#     else:\n",
    "#         print(i)\n",
    "\n",
    "\n",
    "\n",
    "#Q. Use break statement properly. The code is:\n",
    "# x = [1, 2]\n",
    "# y = [10, 100]\n",
    "# for i in x: \n",
    "#     for j in y: \n",
    "#         if i % 2 == 0:\n",
    "#             print(i * j)\n",
    "#         print(i)\n",
    "#         break\n",
    "#     print(j)\n",
    "    \n",
    "\n",
    "# i = 2\n",
    "# j = 10\n",
    "# 1\n",
    "# 10\n",
    "# 20\n",
    "# 2\n",
    "# 10\n",
    "\n",
    "\n",
    "# Output is:-\n",
    "# 1\n",
    "# 10\n",
    "# 20\n",
    "# 2\n",
    "# 10\n",
    "\n",
    "\n",
    "# Q. Use break statement properly. The code is:-\n",
    "# x = \n",
    "\n",
    "\n",
    "\n",
    "# Output is:-\n",
    "# 1\n",
    "# 1\n",
    "# 100\n",
    "# 10\n",
    "\n",
    "# Q. Use continue statememnt properly. The code is:-\n",
    "x = [1, 2]\n",
    "y = [10, 100]\n",
    "\n",
    "for i in x:\n",
    "    for j in y:\n",
    "        if i % 2 == 0:\n",
    "            print(i * j)\n",
    "            continue\n",
    "        print(i)\n",
    "    print(j)\n",
    "\n",
    "# Output is:-\n",
    "# 1\n",
    "# 1\n",
    "# 100\n",
    "# 20\n",
    "# 200\n",
    "# 100"
   ]
  },
  {
   "cell_type": "code",
   "execution_count": null,
   "metadata": {},
   "outputs": [],
   "source": []
  },
  {
   "cell_type": "code",
   "execution_count": null,
   "metadata": {},
   "outputs": [],
   "source": []
  },
  {
   "cell_type": "code",
   "execution_count": null,
   "metadata": {},
   "outputs": [],
   "source": []
  },
  {
   "cell_type": "code",
   "execution_count": null,
   "metadata": {},
   "outputs": [],
   "source": []
  },
  {
   "cell_type": "code",
   "execution_count": null,
   "metadata": {},
   "outputs": [],
   "source": []
  },
  {
   "cell_type": "code",
   "execution_count": null,
   "metadata": {},
   "outputs": [],
   "source": []
  },
  {
   "cell_type": "code",
   "execution_count": null,
   "metadata": {},
   "outputs": [],
   "source": []
  },
  {
   "cell_type": "code",
   "execution_count": null,
   "metadata": {},
   "outputs": [],
   "source": []
  },
  {
   "cell_type": "code",
   "execution_count": null,
   "metadata": {},
   "outputs": [],
   "source": []
  },
  {
   "cell_type": "code",
   "execution_count": null,
   "metadata": {},
   "outputs": [],
   "source": []
  },
  {
   "cell_type": "code",
   "execution_count": null,
   "metadata": {},
   "outputs": [],
   "source": []
  },
  {
   "cell_type": "code",
   "execution_count": null,
   "metadata": {},
   "outputs": [],
   "source": []
  },
  {
   "cell_type": "code",
   "execution_count": null,
   "metadata": {},
   "outputs": [],
   "source": []
  },
  {
   "cell_type": "code",
   "execution_count": null,
   "metadata": {},
   "outputs": [],
   "source": []
  },
  {
   "cell_type": "code",
   "execution_count": null,
   "metadata": {},
   "outputs": [],
   "source": []
  },
  {
   "cell_type": "code",
   "execution_count": null,
   "metadata": {},
   "outputs": [],
   "source": []
  },
  {
   "cell_type": "code",
   "execution_count": null,
   "metadata": {},
   "outputs": [],
   "source": []
  },
  {
   "cell_type": "code",
   "execution_count": null,
   "metadata": {},
   "outputs": [],
   "source": []
  },
  {
   "cell_type": "code",
   "execution_count": null,
   "metadata": {},
   "outputs": [],
   "source": []
  },
  {
   "cell_type": "code",
   "execution_count": null,
   "metadata": {},
   "outputs": [],
   "source": []
  },
  {
   "cell_type": "code",
   "execution_count": null,
   "metadata": {},
   "outputs": [],
   "source": []
  },
  {
   "cell_type": "code",
   "execution_count": null,
   "metadata": {},
   "outputs": [],
   "source": []
  },
  {
   "cell_type": "code",
   "execution_count": null,
   "metadata": {},
   "outputs": [],
   "source": []
  },
  {
   "cell_type": "code",
   "execution_count": null,
   "metadata": {},
   "outputs": [],
   "source": []
  },
  {
   "cell_type": "code",
   "execution_count": null,
   "metadata": {},
   "outputs": [],
   "source": []
  },
  {
   "cell_type": "code",
   "execution_count": null,
   "metadata": {},
   "outputs": [],
   "source": []
  },
  {
   "cell_type": "code",
   "execution_count": null,
   "metadata": {},
   "outputs": [],
   "source": []
  },
  {
   "cell_type": "code",
   "execution_count": null,
   "metadata": {},
   "outputs": [],
   "source": []
  },
  {
   "cell_type": "code",
   "execution_count": null,
   "metadata": {},
   "outputs": [],
   "source": []
  },
  {
   "cell_type": "code",
   "execution_count": null,
   "metadata": {},
   "outputs": [],
   "source": []
  },
  {
   "cell_type": "code",
   "execution_count": null,
   "metadata": {},
   "outputs": [],
   "source": []
  },
  {
   "cell_type": "code",
   "execution_count": null,
   "metadata": {},
   "outputs": [],
   "source": []
  },
  {
   "cell_type": "code",
   "execution_count": null,
   "metadata": {},
   "outputs": [],
   "source": []
  },
  {
   "cell_type": "code",
   "execution_count": null,
   "metadata": {},
   "outputs": [],
   "source": []
  },
  {
   "cell_type": "code",
   "execution_count": null,
   "metadata": {},
   "outputs": [],
   "source": []
  },
  {
   "cell_type": "code",
   "execution_count": null,
   "metadata": {},
   "outputs": [],
   "source": []
  },
  {
   "cell_type": "code",
   "execution_count": null,
   "metadata": {},
   "outputs": [],
   "source": []
  }
 ],
 "metadata": {
  "kernelspec": {
   "display_name": "Python 3",
   "language": "python",
   "name": "python3"
  },
  "language_info": {
   "codemirror_mode": {
    "name": "ipython",
    "version": 3
   },
   "file_extension": ".py",
   "mimetype": "text/x-python",
   "name": "python",
   "nbconvert_exporter": "python",
   "pygments_lexer": "ipython3",
   "version": "3.8.2"
  },
  "latex_envs": {
   "LaTeX_envs_menu_present": true,
   "autoclose": false,
   "autocomplete": true,
   "bibliofile": "biblio.bib",
   "cite_by": "apalike",
   "current_citInitial": 1,
   "eqLabelWithNumbers": true,
   "eqNumInitial": 1,
   "hotkeys": {
    "equation": "Ctrl-E",
    "itemize": "Ctrl-I"
   },
   "labels_anchors": false,
   "latex_user_defs": false,
   "report_style_numbering": false,
   "user_envs_cfg": false
  },
  "varInspector": {
   "cols": {
    "lenName": 16,
    "lenType": 16,
    "lenVar": 40
   },
   "kernels_config": {
    "python": {
     "delete_cmd_postfix": "",
     "delete_cmd_prefix": "del ",
     "library": "var_list.py",
     "varRefreshCmd": "print(var_dic_list())"
    },
    "r": {
     "delete_cmd_postfix": ") ",
     "delete_cmd_prefix": "rm(",
     "library": "var_list.r",
     "varRefreshCmd": "cat(var_dic_list()) "
    }
   },
   "types_to_exclude": [
    "module",
    "function",
    "builtin_function_or_method",
    "instance",
    "_Feature"
   ],
   "window_display": false
  }
 },
 "nbformat": 4,
 "nbformat_minor": 2
}
