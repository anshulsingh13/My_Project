{
 "cells": [
  {
   "cell_type": "code",
   "execution_count": null,
   "metadata": {},
   "outputs": [],
   "source": [
    "Input and Output functions in Python\n",
    "Python programming components\n",
    "    Literal, \n",
    "    constant, \n",
    "    variables, \n",
    "    identifiers, \n",
    "    Reserved Words, \n",
    "    Expression Statements \n",
    "    Blocks and Indentation in Python \n",
    "    Comments in Python\n",
    "Data Types in Python\n",
    "    Fundamental Data Types\n",
    "        Integers, \n",
    "        Float, \n",
    "        Complex, \n",
    "        String, \n",
    "        None, \n",
    "        Boolean \n",
    "    Derived Data Types in Python \n",
    "        List, \n",
    "        Tuple, \n",
    "        Set, \n",
    "        Frozenset, \n",
    "        Dictionary, \n",
    "        Bytes \n",
    "        Bytearray, \n",
    "        range"
   ]
  },
  {
   "cell_type": "markdown",
   "metadata": {},
   "source": [
    "# Python programming components\n",
    "    Literal, \n",
    "    constant, \n",
    "    variables, \n",
    "    identifiers, \n",
    "    Reserved Words, \n",
    "    Expression Statements \n",
    "    Blocks and Indentation in Python \n",
    "    Comments in Python"
   ]
  },
  {
   "cell_type": "code",
   "execution_count": null,
   "metadata": {},
   "outputs": [],
   "source": [
    "# Literal - Any value\n",
    "    Int - 10, -10, 0\n",
    "    Float - 10.20, -10.20\n",
    "    Complex - 10+20j\n",
    "    None \n",
    "    Boolean - True False\n",
    "    String - '...', \"...\", '''...''', \"\"\"...\"\"\""
   ]
  },
  {
   "cell_type": "code",
   "execution_count": 11,
   "metadata": {
    "ExecuteTime": {
     "end_time": "2021-03-02T02:52:15.773530Z",
     "start_time": "2021-03-02T02:52:15.765002Z"
    }
   },
   "outputs": [
    {
     "name": "stdout",
     "output_type": "stream",
     "text": [
      "30\n"
     ]
    }
   ],
   "source": [
    "a = 10\n",
    "b = 20\n",
    "c = a+b\n",
    "print(c)\n",
    "d = 'Python'\n",
    "e = 10+20j\n",
    "\n",
    "def fun():\n",
    "    pass\n",
    "fun()\n",
    "\n",
    "class MyFirstClass:\n",
    "    pass\n",
    "\n",
    "obj = MyFirstClass()"
   ]
  },
  {
   "cell_type": "code",
   "execution_count": null,
   "metadata": {},
   "outputs": [],
   "source": [
    "# Constants, Variables, Identifiers\n",
    "# Identifier - Any name - Variable, Constant, Function, Class, Object\n",
    "# Rules\n",
    "    1. Allowed CHracters - A-Z, a-z, 0-9, _\n",
    "    2. Not allowed Characters - Special Characters\n",
    "    3. Identifiers Should not start with a number, 'num1' - Accepted, '1num' is not accepted\n",
    "    4. Case Sensitive - num = 100, Num = 1000\n",
    "    5. Reserved words should not be used as an identifier.\n",
    "    6. It recommended that Constnat should have Capital Letters.\n",
    "    7. It is recommneded that any identifer should not start and end with __.\n",
    "    \n",
    "    \n",
    "    \n",
    "    "
   ]
  },
  {
   "cell_type": "code",
   "execution_count": 1,
   "metadata": {
    "ExecuteTime": {
     "end_time": "2021-03-02T02:46:15.071025Z",
     "start_time": "2021-03-02T02:46:15.062633Z"
    }
   },
   "outputs": [
    {
     "name": "stdout",
     "output_type": "stream",
     "text": [
      "['False', 'None', 'True', 'and', 'as', 'assert', 'async', 'await', 'break', 'class', 'continue', 'def', 'del', 'elif', 'else', 'except', 'finally', 'for', 'from', 'global', 'if', 'import', 'in', 'is', 'lambda', 'nonlocal', 'not', 'or', 'pass', 'raise', 'return', 'try', 'while', 'with', 'yield']\n"
     ]
    }
   ],
   "source": [
    "import keyword\n",
    "print(keyword.kwlist)\n",
    "\n",
    "# ['False', 'None', 'True', 'and', 'as', 'assert', 'async', 'await', 'break', 'class', 'continue', 'def', 'del', \n",
    "#  'elif', 'else', 'except', 'finally', 'for', 'from', 'global', 'if', 'import', 'in', 'is', 'lambda', 'nonlocal', \n",
    "#  'not', 'or', 'pass', 'raise', 'return', 'try', 'while', 'with', 'yield']"
   ]
  },
  {
   "cell_type": "code",
   "execution_count": 2,
   "metadata": {
    "ExecuteTime": {
     "end_time": "2021-03-02T02:47:18.263603Z",
     "start_time": "2021-03-02T02:47:18.254614Z"
    }
   },
   "outputs": [
    {
     "ename": "SyntaxError",
     "evalue": "invalid syntax (<ipython-input-2-a2b477b58161>, line 1)",
     "output_type": "error",
     "traceback": [
      "\u001b[0;36m  File \u001b[0;32m\"<ipython-input-2-a2b477b58161>\"\u001b[0;36m, line \u001b[0;32m1\u001b[0m\n\u001b[0;31m    as = 100\u001b[0m\n\u001b[0m    ^\u001b[0m\n\u001b[0;31mSyntaxError\u001b[0m\u001b[0;31m:\u001b[0m invalid syntax\n"
     ]
    }
   ],
   "source": [
    "as = 100"
   ]
  },
  {
   "cell_type": "code",
   "execution_count": null,
   "metadata": {},
   "outputs": [],
   "source": [
    "GRAVITATIONAL_CONSTANT = 980\n",
    "mass = 100"
   ]
  },
  {
   "cell_type": "code",
   "execution_count": 12,
   "metadata": {
    "ExecuteTime": {
     "end_time": "2021-03-02T02:52:19.197309Z",
     "start_time": "2021-03-02T02:52:19.190255Z"
    }
   },
   "outputs": [
    {
     "name": "stdout",
     "output_type": "stream",
     "text": [
      "['__annotations__', '__call__', '__class__', '__closure__', '__code__', '__defaults__', '__delattr__', '__dict__', '__dir__', '__doc__', '__eq__', '__format__', '__ge__', '__get__', '__getattribute__', '__globals__', '__gt__', '__hash__', '__init__', '__init_subclass__', '__kwdefaults__', '__le__', '__lt__', '__module__', '__name__', '__ne__', '__new__', '__qualname__', '__reduce__', '__reduce_ex__', '__repr__', '__setattr__', '__sizeof__', '__str__', '__subclasshook__']\n"
     ]
    }
   ],
   "source": [
    "# print(dir(int))\n",
    "# abs(-10)\n",
    "\n",
    "# print(dir(fun))"
   ]
  },
  {
   "cell_type": "code",
   "execution_count": 20,
   "metadata": {
    "ExecuteTime": {
     "end_time": "2021-03-02T02:56:49.409982Z",
     "start_time": "2021-03-02T02:56:49.400656Z"
    }
   },
   "outputs": [],
   "source": [
    "# Expressions - Always returns some result after execution\n",
    "# Statement - Does not returns any result after execution\n",
    "\n",
    "# 10+20\n",
    "# 'Python' + 'Class'\n",
    "# 10\n",
    "\n",
    "# a = 10\n",
    "# for i in range(5):\n",
    "#     pass\n",
    "\n",
    "# def f1():\n",
    "#     pass\n",
    "# pass\n",
    "# c = a+b\n",
    "# print()"
   ]
  },
  {
   "cell_type": "code",
   "execution_count": 21,
   "metadata": {
    "ExecuteTime": {
     "end_time": "2021-03-02T03:03:50.290293Z",
     "start_time": "2021-03-02T03:03:50.284598Z"
    }
   },
   "outputs": [
    {
     "name": "stdout",
     "output_type": "stream",
     "text": [
      "num2 is greater than num1\n",
      "100\n",
      "100\n",
      "200\n"
     ]
    }
   ],
   "source": [
    "# Blocks & Indentation\n",
    "# stat1\n",
    "# stat2\n",
    "# if cond:\n",
    "#     stat3\n",
    "#     stat4\n",
    "#     stat5\n",
    "# stat6\n",
    "num1 = 100\n",
    "num2 = 200\n",
    "if num1>num2:\n",
    "    print('num1 is greater than num2')\n",
    "    print(num1-num2)\n",
    "else:\n",
    "    print('num2 is greater than num1')\n",
    "    print(num2-num1)\n",
    "print(num1)\n",
    "print(num2)\n",
    "\n",
    "# if, elif, else, for, while, def, class, try, except, else, finally, with etc\n"
   ]
  },
  {
   "cell_type": "code",
   "execution_count": 25,
   "metadata": {
    "ExecuteTime": {
     "end_time": "2021-03-02T03:09:48.151878Z",
     "start_time": "2021-03-02T03:09:48.142909Z"
    }
   },
   "outputs": [
    {
     "ename": "SyntaxError",
     "evalue": "EOL while scanning string literal (<ipython-input-25-6dfec84649b5>, line 7)",
     "output_type": "error",
     "traceback": [
      "\u001b[0;36m  File \u001b[0;32m\"<ipython-input-25-6dfec84649b5>\"\u001b[0;36m, line \u001b[0;32m7\u001b[0m\n\u001b[0;31m    'else:\u001b[0m\n\u001b[0m          ^\u001b[0m\n\u001b[0;31mSyntaxError\u001b[0m\u001b[0;31m:\u001b[0m EOL while scanning string literal\n"
     ]
    }
   ],
   "source": [
    "# Comments in Python\n",
    "num1 = 100\n",
    "num2 = 200\n",
    "if num1>num2:\n",
    "    print('num1 is greater than num2')\n",
    "    print(num1-num2)\n",
    "else:\n",
    "    print('num2 is greater than num1')\n",
    "    print(num2-num1)\n",
    "print(num1)\n",
    "print(num2)\n",
    "    \n"
   ]
  },
  {
   "cell_type": "code",
   "execution_count": 73,
   "metadata": {
    "ExecuteTime": {
     "end_time": "2021-03-02T04:23:25.429494Z",
     "start_time": "2021-03-02T04:23:25.417309Z"
    }
   },
   "outputs": [
    {
     "name": "stdout",
     "output_type": "stream",
     "text": [
      "10\n",
      "1000\n",
      "False\n"
     ]
    }
   ],
   "source": [
    "# Data types in Python\n",
    "# Integers - Any value without decimal point, 01, -10, 0\n",
    "# import sys\n",
    "# a = 10\n",
    "# print(type(a))\n",
    "# print(sys.getsizeof(a))\n",
    "# print(dir(sys))\n",
    "# print(sys.getrefcount(a))\n",
    "\n",
    "# Operations on Integers\n",
    "# Arithmetic - +, -, *, /(Float Division), //(Floor Division), %(Modulo), **(Exponent)\n",
    "# print(10+20)\n",
    "# print(100-20)\n",
    "# print(10*20)\n",
    "# print(100%3)  # Gives Remainder\n",
    "# print(10 ** 3)  # Exponents\n",
    "# print(pow(10,3))\n",
    "\n",
    "# print(10/3)    # Float division\n",
    "# print(10//3)   # Floor value of float division result\n",
    "\n",
    "# import math\n",
    "# print(math.ceil(10/3))\n",
    "\n",
    "# Comparison - >, <, >=, <=, ==, !=\n",
    "# Returns Values - True False\n",
    "# int and float, \n",
    "# print(10<20)\n",
    "# print(10<20.30)\n",
    "# print(10<10+20j)\n",
    "# print(10<'20')\n",
    "\n",
    "# print(10 != 20)\n",
    "# print(10 == 20)\n",
    "\n",
    "# ord('A')\n",
    "\n",
    "# chr(65)\n",
    "\n",
    "# print('A' == chr(65))\n",
    "\n",
    "# print(65 <= ord('A'))\n",
    "\n",
    "# Logical Opertors - and, or, not\n",
    "# and Truth Table - False\n",
    "# True and True = True\n",
    "# True and False = False\n",
    "# False and True = False\n",
    "# False and False = False\n",
    "\n",
    "# or Truth Table - True\n",
    "# True or True = True\n",
    "# True or False = True\n",
    "# False or True = True\n",
    "# False and False = False\n",
    "\n",
    "# not Truth Table\n",
    "# not True = False\n",
    "# not False = True\n",
    "\n",
    "# print((10<20) and (10==20))\n",
    "# print((10<20) or (10==20))\n",
    "\n",
    "# if A, B are some value\n",
    "#     A and B - result is A if A is False else B\n",
    "#     A or B - result is A if A is True else B\n",
    "\n",
    "# print(10 and 20)\n",
    "# print(10 or 20)\n",
    "\n",
    "# print(0 and 20)\n",
    "# print(0 or 20)\n",
    "\n",
    "# print(0 and 0.0)\n",
    "# print(0 or 0.0)\n",
    "\n",
    "# print('0.0' or 0)\n",
    "\n",
    "# Bitwise Operation - &, |, ^, ~, <<, >>\n",
    "# Works on bits\n",
    "# These operators works only on integers\n",
    "\n",
    "# & Truth Table\n",
    "# 1 & 1 = 1\n",
    "# 1 & 0 = 0\n",
    "# 0 & 1 = 0\n",
    "# 0 & 0 = 0\n",
    "\n",
    "# | Truth Table\n",
    "# 1 | 1 = 1\n",
    "# 1 | 0 = 1\n",
    "# 0 | 1 = 1\n",
    "# 0 | 0 = 0\n",
    "\n",
    "# ^ Truth Table\n",
    "# 1 ^ 1 = 0\n",
    "# 1 ^ 0 = 1\n",
    "# 0 ^ 1 = 1\n",
    "# 0 ^ 0 = 0\n",
    "\n",
    "# print(29 & 37)\n",
    "# print(bin(37))\n",
    "\n",
    "# 29 = 011101\n",
    "# 37 = 100101\n",
    "#==============\n",
    "# &  = 0b101\n",
    "# print(0b101)\n",
    "\n",
    "# print(29|37)\n",
    "# print(29^37)\n",
    "\n",
    "\n",
    "# ~num = -(num+1)\n",
    "# print(~10)\n",
    "# print(~-10)\n",
    "\n",
    "# Left shift - <<, Right shift >>\n",
    "# print(97 << 5)\n",
    "# print(bin(97))\n",
    "# 97 = 00000000000000000000110000100000\n",
    "# print(0b110000100000)\n",
    "\n",
    "# print(97 * (2**5))\n",
    "\n",
    "# print(97 >> 5)\n",
    "# 97 = 00000000000000000000000000000011\n",
    "# print(0b11)\n",
    "\n",
    "# print(97 // (2**5))\n",
    "\n",
    "# Assignment Operation - =\n",
    "# a = 10\n",
    "\n",
    "# Compound Assignment - +=, -=, *=, /=, //=, %=, **=, &=, |=, ^=, ~=, <<=, >>=\n",
    "# a = 10\n",
    "# a += 2                        # a = a+2\n",
    "# a &= 2                        # a = a&2\n",
    "# print(a)\n",
    "\n",
    "# Identity Operation - is, is not - Compare the memory address\n",
    "# Returns Boolean Value\n",
    "# a = 10\n",
    "# b = 10\n",
    "# print(a is b)\n",
    "# print(a == b)\n",
    "# print(id(a))\n",
    "# print(id(b))\n",
    "\n",
    "# a = 1000\n",
    "# b = 1000\n",
    "# print(a is b)\n",
    "# print(a == b)\n",
    "# print(id(a))\n",
    "# print(id(b))\n",
    "\n",
    "# Object Reusability - \n",
    "# import sys\n",
    "# print(sys.getrefcount(10))\n",
    "# int - (-5 to 256)\n",
    "# None\n",
    "# True False\n",
    "# string - A-Z, a-z, 0-9, _\n",
    "\n",
    "# Float 0-1 -> Infinite\n",
    "# Complex - 10.20 + 20.9j\n",
    "# list - [10,20,,10.20]\n",
    "\n",
    "# a =97\n",
    "\n",
    "# a = 1000\n",
    "# b = a\n",
    "# a = 10\n",
    "# print(a)\n",
    "# print(b)\n",
    "\n",
    "# print(a is b)\n",
    "\n",
    "# # Ternary Operator\n",
    "# expr1 if cond else expr2 - result is expr1 if cond is True else result is expr\n",
    "# expr1 if cond1 else expr2 if cond 2 else expr3 \n",
    "\n",
    "\n",
    "print\n"
   ]
  },
  {
   "cell_type": "code",
   "execution_count": 39,
   "metadata": {
    "ExecuteTime": {
     "end_time": "2021-03-02T03:52:15.180065Z",
     "start_time": "2021-03-02T03:52:15.172045Z"
    }
   },
   "outputs": [
    {
     "name": "stdout",
     "output_type": "stream",
     "text": [
      "False\n",
      "True\n"
     ]
    }
   ],
   "source": [
    "print(bool(''))\n",
    "print(bool('0'))"
   ]
  },
  {
   "cell_type": "code",
   "execution_count": 59,
   "metadata": {
    "ExecuteTime": {
     "end_time": "2021-03-02T04:06:18.143922Z",
     "start_time": "2021-03-02T04:06:18.136330Z"
    }
   },
   "outputs": [
    {
     "data": {
      "text/plain": [
       "3104"
      ]
     },
     "execution_count": 59,
     "metadata": {},
     "output_type": "execute_result"
    }
   ],
   "source": []
  },
  {
   "cell_type": "code",
   "execution_count": 1,
   "metadata": {},
   "outputs": [
    {
     "name": "stdout",
     "output_type": "stream",
     "text": [
      "0\n"
     ]
    }
   ],
   "source": [
    "print (0 or 0.0)"
   ]
  },
  {
   "cell_type": "code",
   "execution_count": null,
   "metadata": {},
   "outputs": [],
   "source": []
  },
  {
   "cell_type": "code",
   "execution_count": null,
   "metadata": {},
   "outputs": [],
   "source": []
  },
  {
   "cell_type": "code",
   "execution_count": null,
   "metadata": {},
   "outputs": [],
   "source": []
  },
  {
   "cell_type": "code",
   "execution_count": null,
   "metadata": {},
   "outputs": [],
   "source": []
  },
  {
   "cell_type": "code",
   "execution_count": null,
   "metadata": {},
   "outputs": [],
   "source": []
  },
  {
   "cell_type": "code",
   "execution_count": null,
   "metadata": {},
   "outputs": [],
   "source": []
  },
  {
   "cell_type": "code",
   "execution_count": null,
   "metadata": {},
   "outputs": [],
   "source": []
  },
  {
   "cell_type": "code",
   "execution_count": null,
   "metadata": {},
   "outputs": [],
   "source": []
  },
  {
   "cell_type": "code",
   "execution_count": null,
   "metadata": {},
   "outputs": [],
   "source": []
  },
  {
   "cell_type": "code",
   "execution_count": null,
   "metadata": {},
   "outputs": [],
   "source": []
  },
  {
   "cell_type": "code",
   "execution_count": null,
   "metadata": {},
   "outputs": [],
   "source": []
  },
  {
   "cell_type": "code",
   "execution_count": null,
   "metadata": {},
   "outputs": [],
   "source": []
  },
  {
   "cell_type": "code",
   "execution_count": null,
   "metadata": {},
   "outputs": [],
   "source": []
  },
  {
   "cell_type": "code",
   "execution_count": null,
   "metadata": {},
   "outputs": [],
   "source": []
  },
  {
   "cell_type": "code",
   "execution_count": null,
   "metadata": {},
   "outputs": [],
   "source": []
  },
  {
   "cell_type": "code",
   "execution_count": null,
   "metadata": {},
   "outputs": [],
   "source": []
  },
  {
   "cell_type": "code",
   "execution_count": null,
   "metadata": {},
   "outputs": [],
   "source": []
  },
  {
   "cell_type": "code",
   "execution_count": null,
   "metadata": {},
   "outputs": [],
   "source": []
  },
  {
   "cell_type": "code",
   "execution_count": null,
   "metadata": {},
   "outputs": [],
   "source": []
  },
  {
   "cell_type": "code",
   "execution_count": null,
   "metadata": {},
   "outputs": [],
   "source": []
  },
  {
   "cell_type": "code",
   "execution_count": null,
   "metadata": {},
   "outputs": [],
   "source": []
  },
  {
   "cell_type": "code",
   "execution_count": null,
   "metadata": {},
   "outputs": [],
   "source": []
  },
  {
   "cell_type": "code",
   "execution_count": null,
   "metadata": {},
   "outputs": [],
   "source": []
  },
  {
   "cell_type": "code",
   "execution_count": null,
   "metadata": {},
   "outputs": [],
   "source": []
  },
  {
   "cell_type": "code",
   "execution_count": null,
   "metadata": {},
   "outputs": [],
   "source": []
  },
  {
   "cell_type": "code",
   "execution_count": null,
   "metadata": {},
   "outputs": [],
   "source": []
  },
  {
   "cell_type": "code",
   "execution_count": null,
   "metadata": {},
   "outputs": [],
   "source": []
  },
  {
   "cell_type": "code",
   "execution_count": null,
   "metadata": {},
   "outputs": [],
   "source": []
  },
  {
   "cell_type": "code",
   "execution_count": null,
   "metadata": {},
   "outputs": [],
   "source": []
  },
  {
   "cell_type": "code",
   "execution_count": null,
   "metadata": {},
   "outputs": [],
   "source": []
  },
  {
   "cell_type": "code",
   "execution_count": null,
   "metadata": {},
   "outputs": [],
   "source": []
  },
  {
   "cell_type": "code",
   "execution_count": null,
   "metadata": {},
   "outputs": [],
   "source": []
  },
  {
   "cell_type": "code",
   "execution_count": null,
   "metadata": {},
   "outputs": [],
   "source": []
  },
  {
   "cell_type": "code",
   "execution_count": null,
   "metadata": {},
   "outputs": [],
   "source": []
  },
  {
   "cell_type": "code",
   "execution_count": null,
   "metadata": {},
   "outputs": [],
   "source": []
  },
  {
   "cell_type": "code",
   "execution_count": null,
   "metadata": {},
   "outputs": [],
   "source": []
  },
  {
   "cell_type": "code",
   "execution_count": null,
   "metadata": {},
   "outputs": [],
   "source": []
  },
  {
   "cell_type": "code",
   "execution_count": null,
   "metadata": {},
   "outputs": [],
   "source": []
  },
  {
   "cell_type": "code",
   "execution_count": null,
   "metadata": {},
   "outputs": [],
   "source": []
  },
  {
   "cell_type": "code",
   "execution_count": null,
   "metadata": {},
   "outputs": [],
   "source": []
  },
  {
   "cell_type": "code",
   "execution_count": null,
   "metadata": {},
   "outputs": [],
   "source": []
  },
  {
   "cell_type": "code",
   "execution_count": null,
   "metadata": {},
   "outputs": [],
   "source": []
  },
  {
   "cell_type": "code",
   "execution_count": null,
   "metadata": {},
   "outputs": [],
   "source": []
  },
  {
   "cell_type": "code",
   "execution_count": null,
   "metadata": {},
   "outputs": [],
   "source": []
  },
  {
   "cell_type": "code",
   "execution_count": null,
   "metadata": {},
   "outputs": [],
   "source": []
  },
  {
   "cell_type": "code",
   "execution_count": null,
   "metadata": {},
   "outputs": [],
   "source": []
  },
  {
   "cell_type": "code",
   "execution_count": null,
   "metadata": {},
   "outputs": [],
   "source": []
  },
  {
   "cell_type": "code",
   "execution_count": null,
   "metadata": {},
   "outputs": [],
   "source": []
  },
  {
   "cell_type": "code",
   "execution_count": null,
   "metadata": {},
   "outputs": [],
   "source": []
  },
  {
   "cell_type": "code",
   "execution_count": null,
   "metadata": {},
   "outputs": [],
   "source": []
  },
  {
   "cell_type": "code",
   "execution_count": null,
   "metadata": {},
   "outputs": [],
   "source": []
  },
  {
   "cell_type": "code",
   "execution_count": null,
   "metadata": {},
   "outputs": [],
   "source": []
  },
  {
   "cell_type": "code",
   "execution_count": null,
   "metadata": {},
   "outputs": [],
   "source": []
  },
  {
   "cell_type": "code",
   "execution_count": null,
   "metadata": {},
   "outputs": [],
   "source": []
  },
  {
   "cell_type": "code",
   "execution_count": null,
   "metadata": {},
   "outputs": [],
   "source": []
  },
  {
   "cell_type": "code",
   "execution_count": null,
   "metadata": {},
   "outputs": [],
   "source": []
  },
  {
   "cell_type": "code",
   "execution_count": null,
   "metadata": {},
   "outputs": [],
   "source": []
  },
  {
   "cell_type": "code",
   "execution_count": null,
   "metadata": {},
   "outputs": [],
   "source": []
  },
  {
   "cell_type": "code",
   "execution_count": null,
   "metadata": {},
   "outputs": [],
   "source": []
  },
  {
   "cell_type": "code",
   "execution_count": null,
   "metadata": {},
   "outputs": [],
   "source": []
  },
  {
   "cell_type": "code",
   "execution_count": null,
   "metadata": {},
   "outputs": [],
   "source": []
  },
  {
   "cell_type": "code",
   "execution_count": null,
   "metadata": {},
   "outputs": [],
   "source": []
  },
  {
   "cell_type": "code",
   "execution_count": null,
   "metadata": {},
   "outputs": [],
   "source": []
  },
  {
   "cell_type": "code",
   "execution_count": null,
   "metadata": {},
   "outputs": [],
   "source": []
  },
  {
   "cell_type": "code",
   "execution_count": null,
   "metadata": {},
   "outputs": [],
   "source": []
  },
  {
   "cell_type": "code",
   "execution_count": null,
   "metadata": {},
   "outputs": [],
   "source": []
  },
  {
   "cell_type": "code",
   "execution_count": null,
   "metadata": {},
   "outputs": [],
   "source": []
  },
  {
   "cell_type": "code",
   "execution_count": null,
   "metadata": {},
   "outputs": [],
   "source": []
  },
  {
   "cell_type": "code",
   "execution_count": null,
   "metadata": {},
   "outputs": [],
   "source": []
  },
  {
   "cell_type": "code",
   "execution_count": null,
   "metadata": {},
   "outputs": [],
   "source": []
  },
  {
   "cell_type": "code",
   "execution_count": null,
   "metadata": {},
   "outputs": [],
   "source": []
  },
  {
   "cell_type": "code",
   "execution_count": null,
   "metadata": {},
   "outputs": [],
   "source": []
  },
  {
   "cell_type": "code",
   "execution_count": null,
   "metadata": {},
   "outputs": [],
   "source": []
  },
  {
   "cell_type": "code",
   "execution_count": null,
   "metadata": {},
   "outputs": [],
   "source": []
  },
  {
   "cell_type": "code",
   "execution_count": null,
   "metadata": {},
   "outputs": [],
   "source": []
  }
 ],
 "metadata": {
  "kernelspec": {
   "display_name": "Python 3",
   "language": "python",
   "name": "python3"
  },
  "language_info": {
   "codemirror_mode": {
    "name": "ipython",
    "version": 3
   },
   "file_extension": ".py",
   "mimetype": "text/x-python",
   "name": "python",
   "nbconvert_exporter": "python",
   "pygments_lexer": "ipython3",
   "version": "3.8.5"
  },
  "latex_envs": {
   "LaTeX_envs_menu_present": true,
   "autoclose": false,
   "autocomplete": true,
   "bibliofile": "biblio.bib",
   "cite_by": "apalike",
   "current_citInitial": 1,
   "eqLabelWithNumbers": true,
   "eqNumInitial": 1,
   "hotkeys": {
    "equation": "Ctrl-E",
    "itemize": "Ctrl-I"
   },
   "labels_anchors": false,
   "latex_user_defs": false,
   "report_style_numbering": false,
   "user_envs_cfg": false
  },
  "varInspector": {
   "cols": {
    "lenName": 16,
    "lenType": 16,
    "lenVar": 40
   },
   "kernels_config": {
    "python": {
     "delete_cmd_postfix": "",
     "delete_cmd_prefix": "del ",
     "library": "var_list.py",
     "varRefreshCmd": "print(var_dic_list())"
    },
    "r": {
     "delete_cmd_postfix": ") ",
     "delete_cmd_prefix": "rm(",
     "library": "var_list.r",
     "varRefreshCmd": "cat(var_dic_list()) "
    }
   },
   "types_to_exclude": [
    "module",
    "function",
    "builtin_function_or_method",
    "instance",
    "_Feature"
   ],
   "window_display": false
  }
 },
 "nbformat": 4,
 "nbformat_minor": 2
}
